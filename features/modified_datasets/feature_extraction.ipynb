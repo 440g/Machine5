{
 "cells": [
  {
   "cell_type": "code",
   "execution_count": 248,
   "metadata": {},
   "outputs": [],
   "source": [
    "import pandas as pd\n",
    "import numpy as np\n",
    "import seaborn as sns\n",
    "import matplotlib.pyplot as plt\n",
    "from bisect import bisect_left, bisect_right"
   ]
  },
  {
   "cell_type": "code",
   "execution_count": 249,
   "metadata": {},
   "outputs": [],
   "source": [
    "from sklearn.ensemble import RandomForestClassifier\n",
    "from sklearn.model_selection import train_test_split\n",
    "from sklearn.model_selection import cross_val_score\n",
    "from sklearn.preprocessing import StandardScaler"
   ]
  },
  {
   "cell_type": "markdown",
   "metadata": {
    "id": "6a7b3a0l2ep4"
   },
   "source": [
    "---\n",
    "## 1. load the raw dataset\n",
    "* mon_standard.pkl > array code\n",
    "\n"
   ]
  },
  {
   "cell_type": "code",
   "execution_count": 250,
   "metadata": {
    "id": "5mfwrTwPtd36"
   },
   "outputs": [
    {
     "name": "stdout",
     "output_type": "stream",
     "text": [
      "Loading datafile...\n",
      "Total samples: 19000\n"
     ]
    }
   ],
   "source": [
    "import pickle\n",
    "\n",
    "USE_SUBLABEL = False\n",
    "URL_PER_SITE = 10\n",
    "TOTAL_URLS   = 950\n",
    "\n",
    "# Load the pickle file\n",
    "print(\"Loading datafile...\")\n",
    "with open(\"../original_datasets/mon_standard.pkl\", 'rb') as fi: # Path to mon_standard.pkl in Colab\n",
    "    data = pickle.load(fi)\n",
    "\n",
    "X1 = [] # Array to store instances (timestamps) - 19,000 instances, e.g., [[0.0, 0.5, 3.4, ...], [0.0, 4.5, ...], [0.0, 1.5, ...], ... [... ,45.8]]\n",
    "X2 = [] # Array to store instances (direction*size) - size information\n",
    "y = [] # Array to store the site of each instance - 19,000 instances, e.g., [0, 0, 0, 0, 0, 0, ..., 94, 94, 94, 94, 94]\n",
    "\n",
    "# Differentiate instances and sites, and store them in the respective x and y arrays\n",
    "# x array (direction*timestamp), y array (site label)\n",
    "for i in range(TOTAL_URLS):\n",
    "    if USE_SUBLABEL:\n",
    "        label = i\n",
    "    else:\n",
    "        label = i // URL_PER_SITE # Calculate which site's URL the current URL being processed belongs to and set that value as the label. Thus, URLs fetched from the same site are labeled identically.\n",
    "    for sample in data[i]:\n",
    "        size_seq = []\n",
    "        time_seq = []\n",
    "        for c in sample:\n",
    "            dr = 1 if c > 0 else -1\n",
    "            time_seq.append(abs(c))\n",
    "            size_seq.append(dr * 512)\n",
    "        X1.append(time_seq)\n",
    "        X2.append(size_seq)\n",
    "        y.append(label)\n",
    "size = len(y)\n",
    "\n",
    "print(f'Total samples: {size}') # Output: 19000\n"
   ]
  },
  {
   "cell_type": "markdown",
   "metadata": {},
   "source": [
    "* unmon_standard10.pkl > array code"
   ]
  },
  {
   "cell_type": "code",
   "execution_count": 251,
   "metadata": {},
   "outputs": [
    {
     "name": "stdout",
     "output_type": "stream",
     "text": [
      "Loading datafile...\n",
      "Total samples: 10000\n",
      "10000\n"
     ]
    }
   ],
   "source": [
    "TOTAL_URLS = 10000  # total number in the dataset\n",
    "\n",
    "# Load 10,000 unmon pickle file\n",
    "print(\"Loading datafile...\")\n",
    "with open('../original_datasets/unmon_standard10.pkl', 'rb') as f:  # Path to unmon_standard10.pkl in Colab\n",
    "    x = pickle.load(f)\n",
    "\n",
    "size = len(x)\n",
    "print(f'Total samples: {size}')\n",
    "\n",
    "UX1 = [] # Array to store instances (timestamps) - 10,000 instances, e.g., [[0.0, 0.5, 3.4, ...], [0.0, 4.5, ...], [0.0, 1.5, ...], ... [... ,45.8]]\n",
    "UX2 = [] # Array to store instances (direction*size) - size information\n",
    "\n",
    "for i in range(TOTAL_URLS):\n",
    "    size_seq = []\n",
    "    time_seq = []\n",
    "    for c in x[i]:\n",
    "        dr = 1 if c > 0 else -1\n",
    "        time_seq.append(abs(c))\n",
    "        size_seq.append(dr * 512) # In the pickle file, there is no size information, so the conversion code is set to multiply by 512 uniformly.\n",
    "    UX1.append(time_seq)\n",
    "    UX2.append(size_seq)\n",
    "\n",
    "print(len(UX1)) # Print the length of X1"
   ]
  },
  {
   "cell_type": "markdown",
   "metadata": {},
   "source": [
    "* unmon_standard10_3000.pkl > array code"
   ]
  },
  {
   "cell_type": "code",
   "execution_count": 252,
   "metadata": {},
   "outputs": [
    {
     "name": "stdout",
     "output_type": "stream",
     "text": [
      "Loading datafile...\n",
      "Total samples: 3000\n",
      "3000\n"
     ]
    }
   ],
   "source": [
    "TOTAL_URLS = 3000  # total number in the dataset\n",
    "\n",
    "# Load 3,000 unmon pickle file\n",
    "print(\"Loading datafile...\")\n",
    "with open('../original_datasets/unmon_standard10_3000.pkl', 'rb') as f:  # Path to unmon_standard10_3000.pkl in Colab\n",
    "    x = pickle.load(f)\n",
    "\n",
    "size = len(x)\n",
    "print(f'Total samples: {size}')\n",
    "\n",
    "uX1 = [] # Array to store instances (timestamps) - 3,000 instances, e.g., [[0.0, 0.5, 3.4, ...], [0.0, 4.5, ...], [0.0, 1.5, ...], ... [... ,45.8]]\n",
    "uX2 = [] # Array to store instances (direction*size) - size information\n",
    "\n",
    "for i in range(TOTAL_URLS):\n",
    "    size_seq = []\n",
    "    time_seq = []\n",
    "    for c in x[i]:\n",
    "        dr = 1 if c > 0 else -1\n",
    "        time_seq.append(abs(c))\n",
    "        size_seq.append(dr * 512) # In the pickle file, there is no size information, so the conversion code is set to multiply by 512 uniformly.\n",
    "    uX1.append(time_seq)\n",
    "    uX2.append(size_seq)\n",
    "\n",
    "print(len(uX1)) # Print the length of X1"
   ]
  },
  {
   "cell_type": "markdown",
   "metadata": {},
   "source": [
    "---\n",
    "## 2. Data Preprocessing"
   ]
  },
  {
   "cell_type": "markdown",
   "metadata": {},
   "source": [
    "* Data overview"
   ]
  },
  {
   "cell_type": "code",
   "execution_count": 253,
   "metadata": {},
   "outputs": [],
   "source": [
    "nd1 = {\n",
    "    'timestamp': X1, \n",
    "    'direction' : X2,\n",
    "    'label' : y\n",
    "    }\n",
    "ndf1 = pd.DataFrame(nd1)\n",
    "\n",
    "nd2 = {\n",
    "    'timestamp': UX1, \n",
    "    'direction' : UX2\n",
    "    }\n",
    "ndf2 = pd.DataFrame(nd2)\n",
    "\n",
    "nd3 = {\n",
    "    'timestamp': uX1, \n",
    "    'direction' : uX2\n",
    "    }\n",
    "ndf3 = pd.DataFrame(nd3)\n",
    "\n"
   ]
  },
  {
   "cell_type": "code",
   "execution_count": 254,
   "metadata": {},
   "outputs": [
    {
     "name": "stdout",
     "output_type": "stream",
     "text": [
      "\n",
      "mon_standard.pkl \n",
      "(19000, 3)                                            timestamp  \\\n",
      "0  [0.0, 0.14, 0.14, 0.31, 0.31, 0.51, 0.51, 0.51...   \n",
      "1  [0.0, 0.13, 0.13, 0.31, 0.77, 1.11, 1.11, 1.11...   \n",
      "2  [0.0, 0.11, 0.11, 0.23, 0.97, 1.11, 1.11, 1.11...   \n",
      "3  [0.0, 0.27, 0.27, 0.6, 0.6, 0.88, 0.89, 0.89, ...   \n",
      "4  [0.0, 0.11, 0.11, 0.36, 0.36, 0.6, 0.6, 0.6, 0...   \n",
      "\n",
      "                                           direction  label  \n",
      "0  [-512, -512, 512, -512, 512, -512, 512, 512, -...      0  \n",
      "1  [-512, -512, 512, -512, 512, -512, 512, 512, -...      0  \n",
      "2  [-512, -512, 512, -512, 512, -512, 512, 512, -...      0  \n",
      "3  [-512, -512, 512, -512, 512, -512, 512, 512, -...      0  \n",
      "4  [-512, -512, 512, -512, 512, -512, 512, 512, -...      0  \n",
      "\n",
      "unmon_standard.pkl \n",
      "(10000, 2)                                            timestamp  \\\n",
      "0  [0.0, 0.13, 0.13, 0.36, 0.83, 1.1, 1.1, 1.35, ...   \n",
      "1  [0.0, 0.21, 0.21, 0.39, 0.85, 1.36, 1.36, 1.58...   \n",
      "2  [0.0, 0.23, 0.24, 0.61, 1.84, 2.28, 2.29, 2.69...   \n",
      "3  [0.0, 0.14, 0.14, 0.31, 0.85, 1.37, 1.37, 1.73...   \n",
      "4  [0.0, 0.12, 0.12, 0.26, 0.83, 2.56, 2.56, 3.05...   \n",
      "\n",
      "                                           direction  \n",
      "0  [-512, -512, 512, -512, 512, -512, 512, -512, ...  \n",
      "1  [-512, -512, 512, -512, 512, -512, 512, -512, ...  \n",
      "2  [-512, -512, 512, -512, 512, -512, 512, -512, ...  \n",
      "3  [-512, -512, 512, -512, 512, -512, 512, -512, ...  \n",
      "4  [-512, -512, 512, -512, 512, -512, 512, -512, ...  \n",
      "\n",
      "unmon3000_standard.pkl \n",
      "(3000, 2)                                            timestamp  \\\n",
      "0  [0.0, 0.13, 0.13, 0.36, 0.83, 1.1, 1.1, 1.35, ...   \n",
      "1  [0.0, 0.21, 0.21, 0.39, 0.85, 1.36, 1.36, 1.58...   \n",
      "2  [0.0, 0.23, 0.24, 0.61, 1.84, 2.28, 2.29, 2.69...   \n",
      "3  [0.0, 0.14, 0.14, 0.31, 0.85, 1.37, 1.37, 1.73...   \n",
      "4  [0.0, 0.12, 0.12, 0.26, 0.83, 2.56, 2.56, 3.05...   \n",
      "\n",
      "                                           direction  \n",
      "0  [-512, -512, 512, -512, 512, -512, 512, -512, ...  \n",
      "1  [-512, -512, 512, -512, 512, -512, 512, -512, ...  \n",
      "2  [-512, -512, 512, -512, 512, -512, 512, -512, ...  \n",
      "3  [-512, -512, 512, -512, 512, -512, 512, -512, ...  \n",
      "4  [-512, -512, 512, -512, 512, -512, 512, -512, ...  \n"
     ]
    }
   ],
   "source": [
    "print(\"\\nmon_standard.pkl \\n{}\".format(ndf1.shape), ndf1.head())\n",
    "print(\"\\nunmon_standard.pkl \\n{}\".format(ndf2.shape), ndf2.head())\n",
    "print(\"\\nunmon3000_standard.pkl \\n{}\".format(ndf3.shape), ndf3.head())"
   ]
  },
  {
   "cell_type": "markdown",
   "metadata": {},
   "source": [
    "* Missing Data"
   ]
  },
  {
   "cell_type": "code",
   "execution_count": 255,
   "metadata": {},
   "outputs": [
    {
     "name": "stdout",
     "output_type": "stream",
     "text": [
      "\n",
      "Null Values in mon_standard.pkl \n",
      "timestamp    0\n",
      "direction    0\n",
      "label        0\n",
      "dtype: int64\n",
      "\n",
      "Null Values in unmon_standard10.pkl \n",
      "timestamp    0\n",
      "direction    0\n",
      "dtype: int64\n",
      "\n",
      "Null Values in unmon3000_standard10.pkl \n",
      "timestamp    0\n",
      "direction    0\n",
      "dtype: int64\n"
     ]
    }
   ],
   "source": [
    "print('\\nNull Values in mon_standard.pkl \\n{}'.format(ndf1.isnull().sum()))\n",
    "print('\\nNull Values in unmon_standard10.pkl \\n{}'.format(ndf2.isnull().sum()))\n",
    "print('\\nNull Values in unmon3000_standard10.pkl \\n{}'.format(ndf3.isnull().sum()))"
   ]
  },
  {
   "cell_type": "markdown",
   "metadata": {},
   "source": [
    "* Outliers"
   ]
  },
  {
   "cell_type": "code",
   "execution_count": 256,
   "metadata": {},
   "outputs": [
    {
     "data": {
      "text/plain": [
       "(array([  4.,   3.,   1.,  10.,  14.,  45., 483., 411.,  50.,  25.]),\n",
       " array([0.   , 0.819, 1.638, 2.457, 3.276, 4.095, 4.914, 5.733, 6.552,\n",
       "        7.371, 8.19 ]),\n",
       " <BarContainer object of 10 artists>)"
      ]
     },
     "execution_count": 256,
     "metadata": {},
     "output_type": "execute_result"
    },
    {
     "data": {
      "image/png": "[encoded data removed]",
      "text/plain": [
       "<Figure size 640x480 with 1 Axes>"
      ]
     },
     "metadata": {},
     "output_type": "display_data"
    }
   ],
   "source": [
    "plt.hist(X1[1234])\n",
    "plt.hist(UX1[1234])\n",
    "plt.hist(uX1[1234])"
   ]
  },
  {
   "cell_type": "code",
   "execution_count": 257,
   "metadata": {},
   "outputs": [],
   "source": [
    "def outlier_remove(data, threshold=1.5):\n",
    "\tremoved_data = []\n",
    "\tfor row in data:\n",
    "\t\tq1, q3 = np.percentile(row, [25, 75])\n",
    "\t\tIQR = q3 - q1\n",
    "\t\tavg = np.mean(row)\n",
    "\t\tfiltered_data = []\n",
    "\t\tlower_bound = q1 - (threshold * IQR) \n",
    "\t\tupper_bound = q3 + (threshold * IQR) \n",
    "\t\t\n",
    "\t\tfor t in row:\n",
    "\t\t\tif t >= lower_bound and t <= upper_bound: \n",
    "\t\t\t\tfiltered_data.append(t)\t\n",
    "\t\t\t\tcontinue\n",
    "\t\t\tfiltered_data.append(avg)\n",
    "\n",
    "\t\tremoved_data.append(filtered_data)\n",
    "\treturn removed_data\n"
   ]
  },
  {
   "cell_type": "code",
   "execution_count": 258,
   "metadata": {},
   "outputs": [],
   "source": [
    "X1_m = outlier_remove(X1)\n",
    "UX1_m = outlier_remove(UX1)\n",
    "uX1_m = outlier_remove(uX1)"
   ]
  },
  {
   "cell_type": "code",
   "execution_count": 259,
   "metadata": {},
   "outputs": [
    {
     "data": {
      "text/plain": [
       "(array([ 13.,  23.,  22., 376., 165.,  55., 337.,  17.,  10.,  28.]),\n",
       " array([4.33 , 4.599, 4.868, 5.137, 5.406, 5.675, 5.944, 6.213, 6.482,\n",
       "        6.751, 7.02 ]),\n",
       " <BarContainer object of 10 artists>)"
      ]
     },
     "execution_count": 259,
     "metadata": {},
     "output_type": "execute_result"
    },
    {
     "data": {
      "image/png": "[encoded data removed]",
      "text/plain": [
       "<Figure size 640x480 with 1 Axes>"
      ]
     },
     "metadata": {},
     "output_type": "display_data"
    }
   ],
   "source": [
    "plt.hist(X1_m[1234])\n",
    "plt.hist(UX1_m[1234])\n",
    "plt.hist(uX1_m[1234])"
   ]
  },
  {
   "cell_type": "markdown",
   "metadata": {},
   "source": [
    "---\n",
    "## 2. Implement candidate features"
   ]
  },
  {
   "cell_type": "code",
   "execution_count": 260,
   "metadata": {},
   "outputs": [],
   "source": [
    "# Candidate features\n",
    " \n",
    "# Total packets\n",
    "total_num = []\n",
    "total_sum_dir = []\n",
    "total_avg = []\n",
    "\n",
    "# Incoming packets\n",
    "inpkt_num = []\n",
    "inpkt_avg = []\n",
    "inpkt_sum = []\n",
    "inpkt_num_frac_total = []\n",
    "inpkt_avg_ordering = []\n",
    "inpkt_std_ordering = []\n",
    "inpkt_num_frac_outpkt = []\n",
    "inpkt_sum_firstn = []\n",
    "inpkt_num_firstn = []\n",
    "\n",
    "# Outgoing packets\n",
    "outpkt_num = []\n",
    "outpkt_avg = []\n",
    "outpkt_sum = []\n",
    "outpkt_num_frac_total = []\n",
    "outpkt_avg_ordering = []\n",
    "outpkt_std_ordering = []\n",
    "outpkt_num_frac_inpkt = []\n",
    "outpkt_sum_firstn = []\n",
    "outpkt_num_firstn = []\n",
    "\n",
    "# etc\n",
    "pkt_avg_sec = []\n",
    "pkt_std_sec = []\n",
    "pkt_max_sec = []\n",
    "inpkt_avg_sec = []\n",
    "inpkt_std_sec = []\n",
    "inpkt_max_sec = []\n",
    "outpkt_avg_sec = []\n",
    "outpkt_std_sec = []\n",
    "outpkt_max_sec = []"
   ]
  },
  {
   "cell_type": "code",
   "execution_count": 261,
   "metadata": {},
   "outputs": [],
   "source": [
    "def list_clear():\n",
    "    # Total packets\n",
    "    total_num.clear()\n",
    "    total_sum_dir.clear()\n",
    "    total_avg.clear()\n",
    "\n",
    "    # Incoming packets\n",
    "    inpkt_num.clear()\n",
    "    inpkt_avg.clear()\n",
    "    inpkt_sum.clear()\n",
    "    inpkt_num_frac_total.clear()\n",
    "    inpkt_avg_ordering.clear()\n",
    "    inpkt_std_ordering.clear()\n",
    "    inpkt_num_frac_outpkt.clear()\n",
    "    inpkt_sum_firstn.clear()\n",
    "    inpkt_num_firstn.clear()\n",
    "\n",
    "    # Outgoing packets\n",
    "    outpkt_num.clear()\n",
    "    outpkt_avg.clear()\n",
    "    outpkt_sum.clear()\n",
    "    outpkt_num_frac_total.clear()\n",
    "    outpkt_avg_ordering.clear()\n",
    "    outpkt_std_ordering.clear()\n",
    "    outpkt_num_frac_inpkt.clear()\n",
    "    outpkt_sum_firstn.clear()\n",
    "    outpkt_num_firstn.clear()\n",
    "\n",
    "    # etc\n",
    "    pkt_avg_sec.clear()\n",
    "    pkt_std_sec.clear()\n",
    "    pkt_max_sec.clear()\n",
    "    inpkt_avg_sec.clear()\n",
    "    inpkt_std_sec.clear()\n",
    "    inpkt_max_sec.clear()\n",
    "    outpkt_avg_sec.clear()\n",
    "    outpkt_std_sec.clear()\n",
    "    outpkt_max_sec.clear()"
   ]
  },
  {
   "cell_type": "code",
   "execution_count": 262,
   "metadata": {},
   "outputs": [],
   "source": [
    "def Feature(X1, X2):\n",
    "    for time, dir in zip(X1, X2):\n",
    "        # Total packets\n",
    "        f1 = len(X1)\n",
    "        total_num.append(f1)\n",
    "        f2 = sum(dir)\n",
    "        total_sum_dir.append(f2)\n",
    "        f3 = np.mean(time)\n",
    "        total_avg.append(f3)\n",
    "        \n",
    "        # Incoming, Outgoing packets\n",
    "        inpkt = []\n",
    "        inpkt_index = []\n",
    "        outpkt = []\n",
    "        outpkt_index = []\n",
    "        for i in range(len(dir)):\n",
    "            if(dir[i] < 0):\n",
    "                inpkt.append(time[i])\n",
    "                inpkt_index.append(i)\n",
    "                continue\n",
    "            outpkt.append(time[i])\n",
    "            outpkt_index.append(i)\n",
    "                \n",
    "        f5 = len(inpkt)\n",
    "        inpkt_num.append(f5)\n",
    "        f6 = np.mean(inpkt)\n",
    "        inpkt_avg.append(f6)\n",
    "        f7 = sum(inpkt)\n",
    "        inpkt_sum.append(f7)\n",
    "        f8 = f5 / f1\n",
    "        inpkt_num_frac_total.append(f8)\n",
    "        f9 = np.mean(inpkt_index)\n",
    "        inpkt_avg_ordering.append(f9)\n",
    "        f10 = np.std(inpkt_index)\n",
    "        inpkt_std_ordering.append(f10)\n",
    "        \n",
    "        f13 = len(outpkt)\n",
    "        outpkt_num.append(f13)\n",
    "        f14 = np.mean(outpkt)\n",
    "        outpkt_avg.append(f14)\n",
    "        f15 = sum(inpkt)\n",
    "        outpkt_sum.append(f15)\n",
    "        f16 = f13 / f1\n",
    "        outpkt_num_frac_total.append(f16)\n",
    "        f17 = np.mean(outpkt_index)\n",
    "        outpkt_avg_ordering.append(f17)\n",
    "        f18 = np.std(outpkt_index)\n",
    "        outpkt_std_ordering.append(f18)\n",
    "        \n",
    "        f11 = f5 / f13\n",
    "        inpkt_num_frac_outpkt.append(f11)\n",
    "        f19 = f13 / f5\n",
    "        outpkt_num_frac_inpkt.append(f19)\n",
    "        \n",
    "        # 임의로 n=30 설정. 추후에 여러 값을 넣어서 실험해보는 게 좋을 것 같다.\n",
    "        n = 30\n",
    "        f12 = f21 = f22 = f23 = 0\n",
    "        for i in range(n):\n",
    "            if(dir[i] < 0):\n",
    "                f22 += 1\n",
    "                f12 += time[i]\n",
    "                continue\n",
    "            f23 += 1\n",
    "            f21 += time[i]\n",
    "        inpkt_sum_firstn.append(f12)\n",
    "        outpkt_sum_firstn.append(f21)\n",
    "        inpkt_num_firstn.append(f22)\n",
    "        outpkt_num_firstn.append(f23) \n",
    "\n",
    "        #etc\n",
    "        #이부분에서 자꾸 오류가 나서 일단은 주석처리 해뒀어요 어차피 순위권에 안 들어가는 피쳐라 모델 학습에 당장 지장가는 건 없을 거예요\n",
    "        #나중에 데이터 전처리 좀 더 하고 피쳐 다듬을 때 고칠게요!!\n",
    "        \"\"\"\n",
    "        pkt_num_sec = []\n",
    "        inpkt_num_sec = []\n",
    "        outpkt_num_sec = []\n",
    "        inpkt_set = set(inpkt_index)\n",
    "        outpkt_set = set(outpkt_index)\n",
    "        start_t = 0\n",
    "        while start_t <= time_seq[-1]: \n",
    "            end_t = start_t + 1\n",
    "            start_idx = bisect_left(time, start_t)\n",
    "            end_idx = bisect_right(time, end_t - 1e-9)\n",
    "\n",
    "            pkt_count = end_idx - start_idx\n",
    "            inpkt_count = sum(1 for idx in range(start_idx, end_idx) if idx in inpkt_set)\n",
    "            outpkt_count = sum(1 for idx in range(start_idx, end_idx) if idx in outpkt_set)\n",
    "\n",
    "            pkt_num_sec.append(pkt_count)\n",
    "            inpkt_num_sec.append(inpkt_count)\n",
    "            outpkt_num_sec.append(outpkt_count)\n",
    "            \n",
    "            start_t = end_t\n",
    "\n",
    "        pkt_avg_sec.append(np.mean(pkt_num_sec))\n",
    "        pkt_std_sec.append(np.std(pkt_num_sec))\n",
    "        pkt_max_sec.append(max(pkt_num_sec))\n",
    "        inpkt_avg_sec.append(np.mean(inpkt_num_sec))\n",
    "        inpkt_std_sec.append(np.std(inpkt_num_sec))\n",
    "        inpkt_max_sec.append(max(inpkt_num_sec))\n",
    "        outpkt_avg_sec.append(np.mean(outpkt_num_sec))\n",
    "        outpkt_std_sec.append(np.std(outpkt_num_sec))\n",
    "        outpkt_max_sec.append(max(outpkt_num_sec))\n",
    "    \"\"\"\n",
    "\n"
   ]
  },
  {
   "cell_type": "markdown",
   "metadata": {},
   "source": [
    "---\n",
    "## 3. Convert dataframe to cvs file"
   ]
  },
  {
   "cell_type": "markdown",
   "metadata": {},
   "source": [
    "* mon_standard.pkl > array code > mon_labels.cvs"
   ]
  },
  {
   "cell_type": "code",
   "execution_count": 263,
   "metadata": {},
   "outputs": [],
   "source": [
    "ydata = { 'label' : y }\n",
    "ydf = pd.DataFrame(ydata)"
   ]
  },
  {
   "cell_type": "code",
   "execution_count": 264,
   "metadata": {},
   "outputs": [],
   "source": [
    "ydf.to_csv('mon_labels.csv', index=False)"
   ]
  },
  {
   "cell_type": "markdown",
   "metadata": {},
   "source": [
    "* mon_standard.pkl > array code > mon_features.cvs"
   ]
  },
  {
   "cell_type": "code",
   "execution_count": 265,
   "metadata": {},
   "outputs": [],
   "source": [
    "Feature(X1, X2)"
   ]
  },
  {
   "cell_type": "code",
   "execution_count": 266,
   "metadata": {},
   "outputs": [],
   "source": [
    "data = {\n",
    "    'total_num': total_num,\n",
    "    'total_sum_dir': total_sum_dir,\n",
    "    'total_avg': total_avg,\n",
    "    'inpkt_num': inpkt_num,\n",
    "    'inpkt_avg': inpkt_avg,\n",
    "    'inpkt_sum': inpkt_sum,\n",
    "    'inpkt_num_frac_total': inpkt_num_frac_total,\n",
    "    'inpkt_avg_ordering': inpkt_avg_ordering,\n",
    "    'inpkt_std_ordering': inpkt_std_ordering,\n",
    "    'inpkt_num_frac_outpkt': inpkt_num_frac_outpkt,\n",
    "    'inpkt_sum_firstn': inpkt_sum_firstn,\n",
    "    'outpkt_num': outpkt_num,\n",
    "    'outpkt_avg': outpkt_avg,\n",
    "    'outpkt_sum': outpkt_sum,\n",
    "    'outpkt_num_frac_total': outpkt_num_frac_total,\n",
    "    'outpkt_avg_ordering': outpkt_avg_ordering,\n",
    "    'outpkt_std_ordering': outpkt_std_ordering,\n",
    "    'outpkt_num_frac_inpkt': outpkt_num_frac_inpkt,\n",
    "    'outpkt_sum_firstn': outpkt_sum_firstn,\n",
    "    # 'pkt_avg_sec': pkt_avg_sec,\n",
    "    # 'pkt_std_sec': pkt_std_sec,\n",
    "    # 'pkt_max_sec': pkt_max_sec,\n",
    "    # 'inpkt_avg_sec': inpkt_avg_sec,\n",
    "    # 'inpkt_std_sec': inpkt_std_sec,\n",
    "    # 'inpkt_max_sec': inpkt_max_sec,\n",
    "    # 'outpkt_avg_sec': outpkt_avg_sec,\n",
    "    # 'outpkt_std_sec': outpkt_std_sec,\n",
    "    # 'outpkt_max_sec': outpkt_max_sec\n",
    "}\n",
    "df = pd.DataFrame(data)"
   ]
  },
  {
   "cell_type": "code",
   "execution_count": 267,
   "metadata": {},
   "outputs": [
    {
     "name": "stdout",
     "output_type": "stream",
     "text": [
      "   total_num  total_sum_dir  total_avg  inpkt_num  inpkt_avg  inpkt_sum  \\\n",
      "0      19000        -603648   4.315749       1300   4.292023    5579.63   \n",
      "1      19000        -183296   4.611815        438   4.673242    2046.88   \n",
      "2      19000        -574464   5.488969       1240   5.459452    6769.72   \n",
      "3      19000        -615424   5.995512       1324   5.948693    7876.07   \n",
      "4      19000        -602112   4.698869       1291   4.663873    6021.06   \n",
      "\n",
      "   inpkt_num_frac_total  inpkt_avg_ordering  inpkt_std_ordering  \\\n",
      "0              0.068421          704.106154          398.486335   \n",
      "1              0.023053          264.406393          150.591146   \n",
      "2              0.065263          668.259677          381.878642   \n",
      "3              0.069684          713.503021          406.205288   \n",
      "4              0.067947          694.740511          395.028889   \n",
      "\n",
      "   inpkt_num_frac_outpkt  inpkt_sum_firstn  outpkt_num  outpkt_avg  \\\n",
      "0              10.743802             16.10         121    4.570661   \n",
      "1               5.475000             27.52          80    4.275500   \n",
      "2              10.508475             28.09         118    5.799153   \n",
      "3              10.852459             25.24         122    6.503607   \n",
      "4              11.226087             19.71         115    5.091739   \n",
      "\n",
      "   outpkt_sum  outpkt_num_frac_total  outpkt_avg_ordering  \\\n",
      "0     5579.63               0.006368           773.322314   \n",
      "1     2046.88               0.004211           226.162500   \n",
      "2     6769.72               0.006211           786.110169   \n",
      "3     7876.07               0.006421           820.139344   \n",
      "4     6021.06               0.006053           789.608696   \n",
      "\n",
      "   outpkt_std_ordering  outpkt_num_frac_inpkt  outpkt_sum_firstn  \n",
      "0           515.483953               0.093077               7.39  \n",
      "1           139.231951               0.182648               9.71  \n",
      "2           472.735508               0.095161               7.83  \n",
      "3           513.916038               0.092145              11.53  \n",
      "4           503.993490               0.089078               7.17  \n"
     ]
    }
   ],
   "source": [
    "print(df.head())"
   ]
  },
  {
   "cell_type": "code",
   "execution_count": 269,
   "metadata": {},
   "outputs": [],
   "source": [
    "df.to_csv('mon_features.csv', index=False)"
   ]
  },
  {
   "cell_type": "markdown",
   "metadata": {},
   "source": [
    "* unmon_standard10.pkl > array code > unmon_features.cvs\n",
    "  * If you don't have enough computing resources, skip the codes below and start from the unmon_standard10_3000.pkl"
   ]
  },
  {
   "cell_type": "code",
   "execution_count": 284,
   "metadata": {},
   "outputs": [],
   "source": [
    "list_clear()"
   ]
  },
  {
   "cell_type": "code",
   "execution_count": 285,
   "metadata": {},
   "outputs": [],
   "source": [
    "Feature(UX1, UX2)"
   ]
  },
  {
   "cell_type": "code",
   "execution_count": 286,
   "metadata": {},
   "outputs": [],
   "source": [
    "data2 = {\n",
    "    'total_num': total_num,\n",
    "    'total_sum_dir': total_sum_dir,\n",
    "    'total_avg': total_avg,\n",
    "    'inpkt_num': inpkt_num,\n",
    "    'inpkt_avg': inpkt_avg,\n",
    "    'inpkt_sum': inpkt_sum,\n",
    "    'inpkt_num_frac_total': inpkt_num_frac_total,\n",
    "    'inpkt_avg_ordering': inpkt_avg_ordering,\n",
    "    'inpkt_std_ordering': inpkt_std_ordering,\n",
    "    'inpkt_num_frac_outpkt': inpkt_num_frac_outpkt,\n",
    "    'inpkt_sum_firstn': inpkt_sum_firstn,\n",
    "    'outpkt_num': outpkt_num,\n",
    "    'outpkt_avg': outpkt_avg,\n",
    "    'outpkt_sum': outpkt_sum,\n",
    "    'outpkt_num_frac_total': outpkt_num_frac_total,\n",
    "    'outpkt_avg_ordering': outpkt_avg_ordering,\n",
    "    'outpkt_std_ordering': outpkt_std_ordering,\n",
    "    'outpkt_num_frac_inpkt': outpkt_num_frac_inpkt,\n",
    "    'outpkt_sum_firstn': outpkt_sum_firstn,\n",
    "    # 'pkt_avg_sec': pkt_avg_sec,\n",
    "    # 'pkt_std_sec': pkt_std_sec,\n",
    "    # 'pkt_max_sec': pkt_max_sec,\n",
    "    # 'inpkt_avg_sec': inpkt_avg_sec,\n",
    "    # 'inpkt_std_sec': inpkt_std_sec,\n",
    "    # 'inpkt_max_sec': inpkt_max_sec,\n",
    "    # 'outpkt_avg_sec': outpkt_avg_sec,\n",
    "    # 'outpkt_std_sec': outpkt_std_sec,\n",
    "    # 'outpkt_max_sec': outpkt_max_sec\n",
    "}\n",
    "df2 = pd.DataFrame(data2)"
   ]
  },
  {
   "cell_type": "code",
   "execution_count": 287,
   "metadata": {},
   "outputs": [],
   "source": [
    "df2.to_csv('unmon_features.csv', index=False)"
   ]
  },
  {
   "cell_type": "markdown",
   "metadata": {},
   "source": [
    "* unmon_standard10.pkl > array code > unmon_features.cvs"
   ]
  },
  {
   "cell_type": "code",
   "execution_count": 288,
   "metadata": {},
   "outputs": [],
   "source": [
    "list_clear()"
   ]
  },
  {
   "cell_type": "code",
   "execution_count": 289,
   "metadata": {},
   "outputs": [],
   "source": [
    "Feature(uX1, uX2)"
   ]
  },
  {
   "cell_type": "code",
   "execution_count": 290,
   "metadata": {},
   "outputs": [],
   "source": [
    "data3 = {\n",
    "    'total_num': total_num,\n",
    "    'total_sum_dir': total_sum_dir,\n",
    "    'total_avg': total_avg,\n",
    "    'inpkt_num': inpkt_num,\n",
    "    'inpkt_avg': inpkt_avg,\n",
    "    'inpkt_sum': inpkt_sum,\n",
    "    'inpkt_num_frac_total': inpkt_num_frac_total,\n",
    "    'inpkt_avg_ordering': inpkt_avg_ordering,\n",
    "    'inpkt_std_ordering': inpkt_std_ordering,\n",
    "    'inpkt_num_frac_outpkt': inpkt_num_frac_outpkt,\n",
    "    'inpkt_sum_firstn': inpkt_sum_firstn,\n",
    "    'outpkt_num': outpkt_num,\n",
    "    'outpkt_avg': outpkt_avg,\n",
    "    'outpkt_sum': outpkt_sum,\n",
    "    'outpkt_num_frac_total': outpkt_num_frac_total,\n",
    "    'outpkt_avg_ordering': outpkt_avg_ordering,\n",
    "    'outpkt_std_ordering': outpkt_std_ordering,\n",
    "    'outpkt_num_frac_inpkt': outpkt_num_frac_inpkt,\n",
    "    'outpkt_sum_firstn': outpkt_sum_firstn,\n",
    "    # 'pkt_avg_sec': pkt_avg_sec,\n",
    "    # 'pkt_std_sec': pkt_std_sec,\n",
    "    # 'pkt_max_sec': pkt_max_sec,\n",
    "    # 'inpkt_avg_sec': inpkt_avg_sec,\n",
    "    # 'inpkt_std_sec': inpkt_std_sec,\n",
    "    # 'inpkt_max_sec': inpkt_max_sec,\n",
    "    # 'outpkt_avg_sec': outpkt_avg_sec,\n",
    "    # 'outpkt_std_sec': outpkt_std_sec,\n",
    "    # 'outpkt_max_sec': outpkt_max_sec\n",
    "}\n",
    "df3 = pd.DataFrame(data3)"
   ]
  },
  {
   "cell_type": "code",
   "execution_count": 291,
   "metadata": {},
   "outputs": [],
   "source": [
    "df3.to_csv('unmon3000_features.csv', index=False)"
   ]
  },
  {
   "cell_type": "markdown",
   "metadata": {},
   "source": [
    "---\n",
    "## 4. RF to get feature importance score"
   ]
  },
  {
   "cell_type": "code",
   "execution_count": 292,
   "metadata": {},
   "outputs": [],
   "source": [
    "\n",
    "X_normalized = StandardScaler().fit_transform(df.values)\n",
    "X = pd.DataFrame(X_normalized)"
   ]
  },
  {
   "cell_type": "code",
   "execution_count": 293,
   "metadata": {},
   "outputs": [],
   "source": [
    "X_train, X_test, y_train, y_test = train_test_split(\n",
    "    df, y, test_size=0.2, random_state=1\n",
    ")"
   ]
  },
  {
   "cell_type": "code",
   "execution_count": 294,
   "metadata": {},
   "outputs": [],
   "source": [
    "clf = RandomForestClassifier(n_estimators=20, criterion=\"entropy\", max_depth=100, min_samples_split=2, max_features=\"sqrt\", random_state=0)"
   ]
  },
  {
   "cell_type": "code",
   "execution_count": 295,
   "metadata": {},
   "outputs": [],
   "source": [
    "clf.fit(X_train, y_train)\n",
    "imp_score=clf.feature_importances_"
   ]
  },
  {
   "cell_type": "code",
   "execution_count": 296,
   "metadata": {},
   "outputs": [
    {
     "name": "stdout",
     "output_type": "stream",
     "text": [
      "[15  9 11 16 17]\n",
      "['outpkt_avg_ordering', 'inpkt_num_frac_outpkt', 'outpkt_num', 'outpkt_std_ordering', 'outpkt_num_frac_inpkt']\n"
     ]
    }
   ],
   "source": [
    "top_indices=np.argsort(imp_score)[::-1][:5]\n",
    "print(top_indices)\n",
    "top_feature_names=[df.columns[int(x)] for x in top_indices]\n",
    "print(top_feature_names)"
   ]
  },
  {
   "cell_type": "code",
   "execution_count": 297,
   "metadata": {},
   "outputs": [
    {
     "data": {
      "image/png": "[encoded data removed]",
      "text/plain": [
       "<Figure size 1000x600 with 1 Axes>"
      ]
     },
     "metadata": {},
     "output_type": "display_data"
    }
   ],
   "source": [
    "feature_imp = pd.Series(clf.feature_importances_, index=df.columns).sort_values(ascending=False)\n",
    "\n",
    "plt.figure(figsize=(10,6))\n",
    "sns.barplot(x=feature_imp, y=feature_imp.index)\n",
    "plt.xlabel('Feature Importance Score')\n",
    "plt.ylabel('Features')\n",
    "plt.title(\"Visualizing Important Features\")\n",
    "plt.tight_layout()"
   ]
  },
  {
   "cell_type": "code",
   "execution_count": null,
   "metadata": {},
   "outputs": [],
   "source": []
  }
 ],
 "metadata": {
  "colab": {
   "provenance": []
  },
  "gpuClass": "standard",
  "kernelspec": {
   "display_name": "base",
   "language": "python",
   "name": "python3"
  },
  "language_info": {
   "codemirror_mode": {
    "name": "ipython",
    "version": 3
   },
   "file_extension": ".py",
   "mimetype": "text/x-python",
   "name": "python",
   "nbconvert_exporter": "python",
   "pygments_lexer": "ipython3",
   "version": "3.12.1"
  }
 },
 "nbformat": 4,
 "nbformat_minor": 0
}
