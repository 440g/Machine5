{
 "cells": [
  {
   "cell_type": "code",
   "execution_count": null,
   "metadata": {
    "id": "9-hU3Ww361_0"
   },
   "outputs": [],
   "source": [
    "from google.colab import drive\n",
    "import pandas as pd\n",
    "import numpy as np\n",
    "from sklearn.model_selection import train_test_split, GridSearchCV, RandomizedSearchCV\n",
    "from sklearn.preprocessing import StandardScaler\n",
    "from sklearn.svm import SVC\n",
    "from sklearn.metrics import (\n",
    "    accuracy_score,\n",
    "    confusion_matrix,\n",
    "    precision_score,\n",
    "    recall_score,\n",
    "    roc_auc_score,\n",
    "    roc_curve,\n",
    "    precision_recall_curve,\n",
    "    auc\n",
    ")\n",
    "import matplotlib.pyplot as plt\n",
    "from scipy.stats import expon, reciprocal"
   ]
  },
  {
   "cell_type": "code",
   "execution_count": null,
   "metadata": {
    "colab": {
     "base_uri": "https://localhost:8080/"
    },
    "id": "BzczNPdw6_Hx",
    "outputId": "6dc76f8e-b27f-45e8-f97c-c787db5d7b49"
   },
   "outputs": [
    {
     "name": "stdout",
     "output_type": "stream",
     "text": [
      "Mounted at /content/drive\n"
     ]
    }
   ],
   "source": [
    "drive.mount('/content/drive')\n",
    "\n",
    "\n",
    "unmon_features= pd.read_csv('/content/drive/MyDrive/unmon_features.csv')\n",
    "mon_features= pd.read_csv('/content/drive/MyDrive/mon_features.csv')\n",
    "mon_labels = pd.read_csv('/content/drive/MyDrive/mon_labels.csv')\n"
   ]
  },
  {
   "cell_type": "code",
   "execution_count": null,
   "metadata": {
    "colab": {
     "base_uri": "https://localhost:8080/"
    },
    "id": "Witg5dQR7DPT",
    "outputId": "02e19ed6-630f-4d44-b4c7-4872e4fc2b41"
   },
   "outputs": [
    {
     "name": "stdout",
     "output_type": "stream",
     "text": [
      "<bound method NDFrame.head of        total_num  total_sum_dir  total_avg  inpkt_num  inpkt_avg  inpkt_sum  \\\n",
      "0           1421        -603648   4.315749       1300   4.292023    5579.63   \n",
      "1            518        -183296   4.611815        438   4.673242    2046.88   \n",
      "2           1358        -574464   5.488969       1240   5.459452    6769.72   \n",
      "3           1446        -615424   5.995512       1324   5.948693    7876.07   \n",
      "4           1406        -602112   4.698869       1291   4.663873    6021.06   \n",
      "...          ...            ...        ...        ...        ...        ...   \n",
      "28995       4593       -1928704  12.494690       4180  12.360713   51667.78   \n",
      "28996       5110       -2158592  13.844609       4663  13.729719   64021.68   \n",
      "28997        361        -124416   3.568144        302   3.251291     981.89   \n",
      "28998        509        -162304   6.892377        413   6.689346    2762.70   \n",
      "28999       9990       -4785152   7.916714       9668   7.923616   76605.52   \n",
      "\n",
      "       inpkt_num_frac_total  inpkt_avg_ordering  inpkt_std_ordering  \\\n",
      "0                  0.914849          704.106154          398.486335   \n",
      "1                  0.845560          264.406393          150.591146   \n",
      "2                  0.913108          668.259677          381.878642   \n",
      "3                  0.915629          713.503021          406.205288   \n",
      "4                  0.918208          694.740511          395.028889   \n",
      "...                     ...                 ...                 ...   \n",
      "28995              0.910081         2270.961722         1337.407077   \n",
      "28996              0.912524         2505.849024         1450.994832   \n",
      "28997              0.836565          180.175497          101.241755   \n",
      "28998              0.811395          241.169492          138.848134   \n",
      "28999              0.967768         5006.719797         2876.437267   \n",
      "\n",
      "       inpkt_num_frac_outpkt  ...  outpkt_num_frac_inpkt  outpkt_sum_firstn  \\\n",
      "0                  10.743802  ...               0.093077               7.39   \n",
      "1                   5.475000  ...               0.182648               9.71   \n",
      "2                  10.508475  ...               0.095161               7.83   \n",
      "3                  10.852459  ...               0.092145              11.53   \n",
      "4                  11.226087  ...               0.089078               7.17   \n",
      "...                      ...  ...                    ...                ...   \n",
      "28995              10.121065  ...               0.098804              17.30   \n",
      "28996              10.431767  ...               0.095861              42.56   \n",
      "28997               5.118644  ...               0.195364              17.90   \n",
      "28998               4.302083  ...               0.232446              20.69   \n",
      "28999              30.024845  ...               0.033306              30.42   \n",
      "\n",
      "       inpkt_std_burst  inpkt_max_burst  inpkt_avg_burst  inpkt_count_burst  \\\n",
      "0            17.195458               66        16.666667                 78   \n",
      "1            12.176200               50         9.319149                 47   \n",
      "2            16.584084               50        16.315789                 76   \n",
      "3            17.252464               70        16.550000                 80   \n",
      "4            16.014144               60        16.341772                 79   \n",
      "...                ...              ...              ...                ...   \n",
      "28995        16.349985               69        16.328125                256   \n",
      "28996        18.897256               87        20.724444                225   \n",
      "28997        12.087057               41        10.785714                 28   \n",
      "28998         9.963438               42         7.375000                 56   \n",
      "28999        21.241358               90        32.226667                300   \n",
      "\n",
      "       outpkt_std_burst  outpkt_max_burst  outpkt_avg_burst  \\\n",
      "0              1.139584                 8          1.551282   \n",
      "1              1.128262                 5          1.702128   \n",
      "2              0.978650                 6          1.552632   \n",
      "3              0.851102                 5          1.525000   \n",
      "4              0.882996                 5          1.455696   \n",
      "...                 ...               ...               ...   \n",
      "28995          1.185041                10          1.619608   \n",
      "28996          2.415533                23          1.995536   \n",
      "28997          1.838852                 8          2.107143   \n",
      "28998          1.047348                 5          1.714286   \n",
      "28999          0.791322                12          1.076923   \n",
      "\n",
      "       outpkt_count_burst  \n",
      "0                      78  \n",
      "1                      47  \n",
      "2                      76  \n",
      "3                      80  \n",
      "4                      79  \n",
      "...                   ...  \n",
      "28995                 255  \n",
      "28996                 224  \n",
      "28997                  28  \n",
      "28998                  56  \n",
      "28999                 299  \n",
      "\n",
      "[29000 rows x 27 columns]>\n"
     ]
    }
   ],
   "source": [
    "mon_features['label'] = mon_labels.values\n",
    "unmon_features['label'] = -1\n",
    "\n",
    "combined_data = pd.concat([mon_features, unmon_features], axis=0, ignore_index= True)\n",
    "combined_data.fillna(0, inplace=True)\n",
    "\n",
    "X = combined_data.drop('label', axis=1)\n",
    "y = combined_data['label']\n",
    "\n",
    "\n",
    "print(X.head)"
   ]
  },
  {
   "cell_type": "code",
   "execution_count": null,
   "metadata": {
    "id": "BbeE22Xg7F9j"
   },
   "outputs": [],
   "source": [
    "# Split dataset\n",
    "X_train, X_test, y_train, y_test = train_test_split(\n",
    "    X, y, test_size=0.2, random_state=50\n",
    ")\n",
    "\n",
    "# Standardize features\n",
    "scaler = StandardScaler()\n",
    "X_train_scaled = scaler.fit_transform(X_train)\n",
    "X_test_scaled = scaler.transform(X_test)\n"
   ]
  },
  {
   "cell_type": "code",
   "execution_count": null,
   "metadata": {
    "colab": {
     "base_uri": "https://localhost:8080/"
    },
    "id": "e39dCsdf7IH0",
    "outputId": "5aa6510f-942d-4296-b5f1-be1ef82600fc"
   },
   "outputs": [
    {
     "name": "stdout",
     "output_type": "stream",
     "text": [
      "Accuracy: 0.4578\n",
      "Confusion Matrix:\n",
      "[[1951    1    0 ...    0    0    0]\n",
      " [  23    1    1 ...    0    0    0]\n",
      " [  29    0   17 ...    0    0    0]\n",
      " ...\n",
      " [  40    0    0 ...    0    0    0]\n",
      " [  15    0    0 ...    0   21    0]\n",
      " [  46    0    0 ...    0    0    0]]\n"
     ]
    }
   ],
   "source": [
    "# Train SVM model\n",
    "svm_model = SVC(kernel='rbf')\n",
    "svm_model.fit(X_train_scaled, y_train)\n",
    "\n",
    "# Evaluate model on test data\n",
    "y_pred = svm_model.predict(X_test_scaled)\n",
    "\n",
    "# Calculate basic evaluation metrics\n",
    "accuracy = accuracy_score(y_test, y_pred)\n",
    "conf_matrix = confusion_matrix(y_test, y_pred)\n",
    "print(f\"Accuracy: {accuracy:.4f}\")\n",
    "print(f\"Confusion Matrix:\\n{conf_matrix}\")\n"
   ]
  },
  {
   "cell_type": "code",
   "execution_count": null,
   "metadata": {
    "colab": {
     "base_uri": "https://localhost:8080/"
    },
    "id": "8UzgFZuo7QJ8",
    "outputId": "bfcf0843-0d64-47a0-9ac4-74830af7a8b2"
   },
   "outputs": [
    {
     "name": "stdout",
     "output_type": "stream",
     "text": [
      "Fitting 3 folds for each of 6 candidates, totalling 18 fits\n",
      "[CV] END .......................C=100, gamma=0.1, kernel=rbf; total time=  40.5s\n",
      "[CV] END .......................C=100, gamma=0.1, kernel=rbf; total time=  39.1s\n",
      "[CV] END .......................C=100, gamma=0.1, kernel=rbf; total time=  38.1s\n",
      "[CV] END .......................C=100, gamma=0.3, kernel=rbf; total time=  43.7s\n",
      "[CV] END .......................C=100, gamma=0.3, kernel=rbf; total time=  43.2s\n",
      "[CV] END .......................C=100, gamma=0.3, kernel=rbf; total time=  43.3s\n",
      "[CV] END .......................C=200, gamma=0.1, kernel=rbf; total time=  39.4s\n",
      "[CV] END .......................C=200, gamma=0.1, kernel=rbf; total time=  38.7s\n",
      "[CV] END .......................C=200, gamma=0.1, kernel=rbf; total time=  38.5s\n",
      "[CV] END .......................C=200, gamma=0.3, kernel=rbf; total time=  43.0s\n",
      "[CV] END .......................C=200, gamma=0.3, kernel=rbf; total time=  42.6s\n",
      "[CV] END .......................C=200, gamma=0.3, kernel=rbf; total time=  42.7s\n",
      "[CV] END .......................C=300, gamma=0.1, kernel=rbf; total time=  39.0s\n",
      "[CV] END .......................C=300, gamma=0.1, kernel=rbf; total time=  38.7s\n",
      "[CV] END .......................C=300, gamma=0.1, kernel=rbf; total time=  39.6s\n",
      "[CV] END .......................C=300, gamma=0.3, kernel=rbf; total time=  59.6s\n",
      "[CV] END .......................C=300, gamma=0.3, kernel=rbf; total time=  42.9s\n",
      "[CV] END .......................C=300, gamma=0.3, kernel=rbf; total time=  43.6s\n",
      "Best parameters (GridSearchCV): {'C': 100, 'gamma': 0.1, 'kernel': 'rbf'}\n"
     ]
    }
   ],
   "source": [
    "# Define hyperparameter grid for GridSearchCV\n",
    "param_grid = {\n",
    "    'C': [100, 200, 300],\n",
    "    'gamma': [0.1, 0.3],\n",
    "    'kernel': ['rbf']\n",
    "}\n",
    "\n",
    "# Perform GridSearchCV\n",
    "grid_search = GridSearchCV(SVC(), param_grid, cv=3, scoring='accuracy', verbose=2)\n",
    "grid_search.fit(X_train_scaled, y_train)\n",
    "\n",
    "# Retrieve the best model\n",
    "best_params = grid_search.best_params_\n",
    "best_svm_model = grid_search.best_estimator_\n",
    "print(f\"Best parameters (GridSearchCV): {best_params}\")"
   ]
  },
  {
   "cell_type": "code",
   "execution_count": null,
   "metadata": {
    "colab": {
     "base_uri": "https://localhost:8080/"
    },
    "id": "Kvz3D_Mj7R2i",
    "outputId": "23060981-5138-4c65-8e7b-ddc6c3549564"
   },
   "outputs": [
    {
     "name": "stdout",
     "output_type": "stream",
     "text": [
      "Accuracy with best parameters: 0.7090\n",
      "Confusion Matrix with best parameters\n",
      " [[1721    3    3 ...    1    0    3]\n",
      " [   6   13    0 ...    0    0    2]\n",
      " [   9    0   30 ...    0    0    0]\n",
      " ...\n",
      " [  17    0    0 ...   12    0    0]\n",
      " [   1    0    0 ...    0   35    0]\n",
      " [   5    0    0 ...    0    0   25]]\n"
     ]
    }
   ],
   "source": [
    "y_pred = best_svm_model.predict(X_test_scaled)\n",
    "# Evaluation with the best parameters\n",
    "accuracy = accuracy_score(y_test, y_pred)\n",
    "print(f\"Accuracy with best parameters: {accuracy:.4f}\")\n",
    "\n",
    "conf_matrix = confusion_matrix(y_test, y_pred)\n",
    "print(f\"Confusion Matrix with best parameters\\n {conf_matrix}\")\n"
   ]
  },
  {
   "cell_type": "code",
   "execution_count": null,
   "metadata": {
    "colab": {
     "background_save": true,
     "base_uri": "https://localhost:8080/"
    },
    "id": "f7oYodOR7TRX",
    "outputId": "88b60c9e-0cf5-4865-b52a-1e14ee105a37"
   },
   "outputs": [
    {
     "name": "stdout",
     "output_type": "stream",
     "text": [
      "Fitting 2 folds for each of 50 candidates, totalling 100 fits\n",
      "Best parameters (RandomizedSearchCV): {'C': 218.69176239528977, 'class_weight': None, 'gamma': 0.06980161530282498, 'kernel': 'rbf'}\n"
     ]
    }
   ],
   "source": [
    "# Define hyperparameter distributions for RandomizedSearchCV\n",
    "param_distributions = {\n",
    "    'C': reciprocal(1, 1000),\n",
    "    'gamma': expon(scale=0.1),\n",
    "    'kernel': ['rbf'],\n",
    "    'class_weight': ['balanced', None]\n",
    "}\n",
    "\n",
    "# Perform RandomizedSearchCV\n",
    "random_search = RandomizedSearchCV(SVC(), param_distributions, n_iter=50, cv=2, scoring='accuracy', verbose=2, random_state=50, n_jobs=-1)\n",
    "random_search.fit(X_train_scaled, y_train)\n",
    "\n",
    "# Retrieve the best model\n",
    "best_params_random = random_search.best_params_\n",
    "best_svm_model_random = random_search.best_estimator_\n",
    "print(f\"Best parameters (RandomizedSearchCV): {best_params_random}\")"
   ]
  },
  {
   "cell_type": "code",
   "execution_count": 14,
   "metadata": {
    "colab": {
     "base_uri": "https://localhost:8080/"
    },
    "id": "ZKJrc4t77VBm",
    "outputId": "58d9361a-9290-4076-cc6c-86801c93a8fa"
   },
   "outputs": [
    {
     "name": "stdout",
     "output_type": "stream",
     "text": [
      "Accuracy (Tuned Model): 0.6993\n",
      "Confusion Matrix (Tuned Model):\n",
      "[[1686    3    3 ...    1    0    4]\n",
      " [   7   16    0 ...    0    0    2]\n",
      " [  10    0   31 ...    0    0    0]\n",
      " ...\n",
      " [  14    0    1 ...   17    0    0]\n",
      " [   2    0    0 ...    0   35    0]\n",
      " [   6    0    0 ...    1    0   25]]\n",
      "Precision: 0.6993\n",
      "Recall: 0.6254\n",
      "ROC AUC: 0.4105\n",
      "Precision-Recall AUC: 0.0071\n"
     ]
    }
   ],
   "source": [
    "# 최적 하이퍼파라미터로 SVM 모델 생성\n",
    "best_svm_model_random = SVC(C=646.0313580382262,\n",
    "                            class_weight=None,\n",
    "                            gamma=0.12975790698392028,\n",
    "                            kernel='rbf',\n",
    "                            probability=True,  # ROC 및 Precision-Recall Curve를 위해 확률값 필요\n",
    "                            random_state=42)\n",
    "best_svm_model_random.fit(X_train_scaled, y_train)\n",
    "# Predict using the best model from RandomizedSearchCV\n",
    "y_pred_random = best_svm_model_random.predict(X_test_scaled)\n",
    "\n",
    "# Evaluate model performance\n",
    "accuracy_best = accuracy_score(y_test, y_pred_random)\n",
    "conf_matrix_best = confusion_matrix(y_test, y_pred_random)\n",
    "precision = precision_score(y_test, y_pred_random, average='micro')  # 'macro'로 설정\n",
    "recall = recall_score(y_test, y_pred_random, average='macro')        # 'macro'로 설정\n",
    "\n",
    "# Calculate ROC and Precision-Recall AUC\n",
    "fpr, tpr, _ = roc_curve(y_test, y_pred_random, pos_label=1)\n",
    "roc_auc = auc(fpr, tpr)\n",
    "precision_values, recall_values, _ = precision_recall_curve(y_test, y_pred_random, pos_label=1)\n",
    "pr_auc = auc(recall_values, precision_values)\n",
    "\n",
    "# Print metrics\n",
    "print(f\"Accuracy (Tuned Model): {accuracy_best:.4f}\")\n",
    "print(f\"Confusion Matrix (Tuned Model):\\n{conf_matrix_best}\")\n",
    "print(f\"Precision: {precision:.4f}\")\n",
    "print(f\"Recall: {recall:.4f}\")\n",
    "print(f\"ROC AUC: {roc_auc:.4f}\")\n",
    "print(f\"Precision-Recall AUC: {pr_auc:.4f}\")\n"
   ]
  },
  {
   "cell_type": "code",
   "execution_count": 15,
   "metadata": {
    "colab": {
     "base_uri": "https://localhost:8080/",
     "height": 507
    },
    "id": "BBvVoSx87Wcv",
    "outputId": "faed0abb-2195-4264-fd66-c251b9009d34"
   },
   "outputs": [
    {
     "data": {
      "image/png": "[encoded data removed]",
      "text/plain": [
       "<Figure size 1000x500 with 2 Axes>"
      ]
     },
     "metadata": {},
     "output_type": "display_data"
    }
   ],
   "source": [
    "# Plot ROC and Precision-Recall curves\n",
    "plt.figure(figsize=(10, 5))\n",
    "\n",
    "# ROC Curve\n",
    "plt.subplot(1, 2, 1)\n",
    "plt.plot(fpr, tpr, color='darkorange', lw=2, label=f'ROC curve (area = {roc_auc:.2f})')\n",
    "plt.plot([0, 1], [0, 1], color='navy', lw=2, linestyle='--')\n",
    "plt.xlabel('False Positive Rate')\n",
    "plt.ylabel('True Positive Rate')\n",
    "plt.title('Receiver Operating Characteristic')\n",
    "plt.legend(loc=\"lower right\")\n",
    "\n",
    "# Precision-Recall Curve\n",
    "plt.subplot(1, 2, 2)\n",
    "plt.plot(recall_values, precision_values, color='blue', lw=2, label=f'PR curve (area = {pr_auc:.2f})')\n",
    "plt.xlabel('Recall')\n",
    "plt.ylabel('Precision')\n",
    "plt.title('Precision-Recall Curve')\n",
    "plt.legend(loc=\"lower left\")\n",
    "\n",
    "plt.tight_layout()\n",
    "plt.show()\n"
   ]
  }
 ],
 "metadata": {
  "colab": {
   "provenance": []
  },
  "kernelspec": {
   "display_name": "Python 3",
   "name": "python3"
  },
  "language_info": {
   "name": "python"
  }
 },
 "nbformat": 4,
 "nbformat_minor": 0
}
