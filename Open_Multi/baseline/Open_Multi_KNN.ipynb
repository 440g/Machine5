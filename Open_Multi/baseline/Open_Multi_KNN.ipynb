{
  "nbformat": 4,
  "nbformat_minor": 0,
  "metadata": {
    "colab": {
      "provenance": []
    },
    "kernelspec": {
      "name": "python3",
      "display_name": "Python 3"
    },
    "language_info": {
      "name": "python"
    }
  },
  "cells": [
    {
      "cell_type": "markdown",
      "source": [
        "# Import Libraries"
      ],
      "metadata": {
        "id": "yEH0Y4B9p54t"
      }
    },
    {
      "cell_type": "code",
      "source": [
        "# Import necessary libraries\n",
        "from google.colab import drive\n",
        "import pandas as pd\n",
        "import numpy as np\n",
        "from sklearn.model_selection import train_test_split, GridSearchCV\n",
        "from sklearn.preprocessing import StandardScaler\n",
        "from sklearn.neighbors import KNeighborsClassifier\n",
        "from sklearn.metrics import (\n",
        "    accuracy_score,\n",
        "    confusion_matrix,\n",
        "    precision_score,\n",
        "    recall_score,\n",
        "    roc_auc_score,\n",
        "    roc_curve,\n",
        "    precision_recall_curve,\n",
        "    auc\n",
        ")\n",
        "import matplotlib.pyplot as plt\n"
      ],
      "metadata": {
        "id": "XsfLQ-gDp996"
      },
      "execution_count": 1,
      "outputs": []
    },
    {
      "cell_type": "markdown",
      "source": [
        "# Load Data"
      ],
      "metadata": {
        "id": "DcZ95TEKqAv-"
      }
    },
    {
      "cell_type": "code",
      "source": [
        "from os import uname\n",
        "# Mount Google Drive to access files\n",
        "drive.mount('/content/drive')\n",
        "\n",
        "# Load features and labels for monitored and unmonitored datasets\n",
        "\n",
        "mon_features= pd.read_csv('/content/drive/MyDrive/MLproject/mon_features.csv')\n",
        "mon_labels = pd.read_csv('/content/drive/MyDrive/MLproject/mon_labels.csv')\n",
        "unmon_features = pd.read_csv('/content/drive/MyDrive/MLproject/unmon_features.csv')\n",
        "\n",
        "\n",
        "# Combine features\n",
        "features = pd.concat([mon_features, unmon_features], axis=0, ignore_index=True)\n",
        "\n",
        "# Assign labels: monitored as 1, unmonitored as -1\n",
        "mon_features['label'] = mon_labels.values\n",
        "unmon_features['label'] = -1\n",
        "\n",
        "combined_data = pd.concat([mon_features, unmon_features], axis=0, ignore_index= True)\n",
        "combined_data.fillna(0, inplace=True)\n",
        "\n",
        "X = combined_data.drop('label', axis=1)\n",
        "y = combined_data['label']\n",
        "\n",
        "\n"
      ],
      "metadata": {
        "colab": {
          "base_uri": "https://localhost:8080/"
        },
        "id": "5wztmhc8qCPb",
        "outputId": "225f92d3-5546-4bb6-a67e-cba38aeb25a2"
      },
      "execution_count": 3,
      "outputs": [
        {
          "output_type": "stream",
          "name": "stdout",
          "text": [
            "Drive already mounted at /content/drive; to attempt to forcibly remount, call drive.mount(\"/content/drive\", force_remount=True).\n"
          ]
        }
      ]
    },
    {
      "cell_type": "markdown",
      "source": [
        "# Preprocess Data"
      ],
      "metadata": {
        "id": "uEgcw5vGqVc6"
      }
    },
    {
      "cell_type": "code",
      "source": [
        "# Split the data into training and testing sets\n",
        "X_train, X_test, y_train, y_test = train_test_split(\n",
        "    X, y, test_size=0.2, random_state=1\n",
        ")\n",
        "\n",
        "# Normalize the feature values using StandardScaler\n",
        "scaler = StandardScaler()\n",
        "X_train_scaled = scaler.fit_transform(X_train)\n",
        "X_test_scaled = scaler.transform(X_test)"
      ],
      "metadata": {
        "id": "P7LDHFc0qXKw"
      },
      "execution_count": 4,
      "outputs": []
    },
    {
      "cell_type": "markdown",
      "source": [
        "# Build and Train the Model"
      ],
      "metadata": {
        "id": "EKtpHmKZqfnf"
      }
    },
    {
      "cell_type": "code",
      "source": [
        "# Initialize and train the KNN model with default parameters\n",
        "knn_model = KNeighborsClassifier(n_neighbors=5)\n",
        "knn_model.fit(X_train_scaled, y_train)\n",
        "\n",
        "# Make predictions on the test set\n",
        "y_pred = knn_model.predict(X_test_scaled)\n",
        "\n",
        "# Evaluate the model using accuracy and confusion matrix\n",
        "acc = accuracy_score(y_test, y_pred)\n",
        "conf_matrix = confusion_matrix(y_test, y_pred)\n",
        "\n",
        "# Print evaluation results\n",
        "print(f\"Accuracy: {acc}\")\n",
        "print(f\"Confusion Matrix:\\n{conf_matrix}\")"
      ],
      "metadata": {
        "colab": {
          "base_uri": "https://localhost:8080/"
        },
        "id": "aK0Z7rtHqhO1",
        "outputId": "776d966e-397c-4b3b-b91f-6e47bde0d305"
      },
      "execution_count": 5,
      "outputs": [
        {
          "output_type": "stream",
          "name": "stdout",
          "text": [
            "Accuracy: 0.5841379310344827\n",
            "Confusion Matrix:\n",
            "[[1574    8    2 ...    1    2    3]\n",
            " [   8   18    1 ...    0    0    1]\n",
            " [  12    0   20 ...    0    0    0]\n",
            " ...\n",
            " [  12    0    0 ...    7    0    2]\n",
            " [   1    0    0 ...    0   33    0]\n",
            " [   9    3    0 ...    1    0   16]]\n"
          ]
        }
      ]
    },
    {
      "cell_type": "markdown",
      "source": [
        "# Hyperparameter Tuning"
      ],
      "metadata": {
        "id": "x2y4sAdQqiXR"
      }
    },
    {
      "cell_type": "code",
      "source": [
        "# Define hyperparameter grid for GridSearchCV\n",
        "param_grid = {\n",
        "    'n_neighbors': [3, 5, 7, 9],\n",
        "    'weights': ['uniform', 'distance'],\n",
        "    'metric': ['euclidean', 'manhattan']\n",
        "}\n",
        "\n",
        "# Perform GridSearchCV to find the best hyperparameters\n",
        "grid_search = GridSearchCV(KNeighborsClassifier(), param_grid, cv=3, scoring='accuracy', verbose=2)\n",
        "grid_search.fit(X_train_scaled, y_train)\n",
        "\n",
        "# Retrieve the best parameters and model\n",
        "best_params = grid_search.best_params_\n",
        "best_knn_model = grid_search.best_estimator_\n",
        "\n",
        "print(f\"Best parameters (GridSearchCV): {best_params}\")\n"
      ],
      "metadata": {
        "colab": {
          "base_uri": "https://localhost:8080/"
        },
        "id": "gYmfe7D3qlwg",
        "outputId": "8aa69fa7-ba46-4ee2-a0d5-d490b27e8c0a"
      },
      "execution_count": 6,
      "outputs": [
        {
          "output_type": "stream",
          "name": "stdout",
          "text": [
            "Fitting 3 folds for each of 16 candidates, totalling 48 fits\n",
            "[CV] END ...metric=euclidean, n_neighbors=3, weights=uniform; total time=   1.2s\n",
            "[CV] END ...metric=euclidean, n_neighbors=3, weights=uniform; total time=   1.2s\n",
            "[CV] END ...metric=euclidean, n_neighbors=3, weights=uniform; total time=   1.3s\n",
            "[CV] END ..metric=euclidean, n_neighbors=3, weights=distance; total time=   3.2s\n",
            "[CV] END ..metric=euclidean, n_neighbors=3, weights=distance; total time=   3.2s\n",
            "[CV] END ..metric=euclidean, n_neighbors=3, weights=distance; total time=   1.9s\n",
            "[CV] END ...metric=euclidean, n_neighbors=5, weights=uniform; total time=   2.7s\n",
            "[CV] END ...metric=euclidean, n_neighbors=5, weights=uniform; total time=   2.9s\n",
            "[CV] END ...metric=euclidean, n_neighbors=5, weights=uniform; total time=   1.2s\n",
            "[CV] END ..metric=euclidean, n_neighbors=5, weights=distance; total time=   1.1s\n",
            "[CV] END ..metric=euclidean, n_neighbors=5, weights=distance; total time=   1.4s\n",
            "[CV] END ..metric=euclidean, n_neighbors=5, weights=distance; total time=   1.4s\n",
            "[CV] END ...metric=euclidean, n_neighbors=7, weights=uniform; total time=   1.9s\n",
            "[CV] END ...metric=euclidean, n_neighbors=7, weights=uniform; total time=   1.2s\n",
            "[CV] END ...metric=euclidean, n_neighbors=7, weights=uniform; total time=   1.2s\n",
            "[CV] END ..metric=euclidean, n_neighbors=7, weights=distance; total time=   0.9s\n",
            "[CV] END ..metric=euclidean, n_neighbors=7, weights=distance; total time=   0.9s\n",
            "[CV] END ..metric=euclidean, n_neighbors=7, weights=distance; total time=   0.9s\n",
            "[CV] END ...metric=euclidean, n_neighbors=9, weights=uniform; total time=   2.5s\n",
            "[CV] END ...metric=euclidean, n_neighbors=9, weights=uniform; total time=   2.5s\n",
            "[CV] END ...metric=euclidean, n_neighbors=9, weights=uniform; total time=   3.0s\n",
            "[CV] END ..metric=euclidean, n_neighbors=9, weights=distance; total time=   1.5s\n",
            "[CV] END ..metric=euclidean, n_neighbors=9, weights=distance; total time=   1.0s\n",
            "[CV] END ..metric=euclidean, n_neighbors=9, weights=distance; total time=   0.9s\n",
            "[CV] END ...metric=manhattan, n_neighbors=3, weights=uniform; total time=   3.7s\n",
            "[CV] END ...metric=manhattan, n_neighbors=3, weights=uniform; total time=   3.7s\n",
            "[CV] END ...metric=manhattan, n_neighbors=3, weights=uniform; total time=   5.8s\n",
            "[CV] END ..metric=manhattan, n_neighbors=3, weights=distance; total time=   3.8s\n",
            "[CV] END ..metric=manhattan, n_neighbors=3, weights=distance; total time=   3.8s\n",
            "[CV] END ..metric=manhattan, n_neighbors=3, weights=distance; total time=   4.7s\n",
            "[CV] END ...metric=manhattan, n_neighbors=5, weights=uniform; total time=   8.3s\n",
            "[CV] END ...metric=manhattan, n_neighbors=5, weights=uniform; total time=   9.7s\n",
            "[CV] END ...metric=manhattan, n_neighbors=5, weights=uniform; total time=   3.8s\n",
            "[CV] END ..metric=manhattan, n_neighbors=5, weights=distance; total time=   3.8s\n",
            "[CV] END ..metric=manhattan, n_neighbors=5, weights=distance; total time=   4.5s\n",
            "[CV] END ..metric=manhattan, n_neighbors=5, weights=distance; total time=   4.8s\n",
            "[CV] END ...metric=manhattan, n_neighbors=7, weights=uniform; total time=   3.8s\n",
            "[CV] END ...metric=manhattan, n_neighbors=7, weights=uniform; total time=   3.8s\n",
            "[CV] END ...metric=manhattan, n_neighbors=7, weights=uniform; total time=   5.5s\n",
            "[CV] END ..metric=manhattan, n_neighbors=7, weights=distance; total time=   3.8s\n",
            "[CV] END ..metric=manhattan, n_neighbors=7, weights=distance; total time=   3.8s\n",
            "[CV] END ..metric=manhattan, n_neighbors=7, weights=distance; total time=   5.1s\n",
            "[CV] END ...metric=manhattan, n_neighbors=9, weights=uniform; total time=   4.2s\n",
            "[CV] END ...metric=manhattan, n_neighbors=9, weights=uniform; total time=   3.8s\n",
            "[CV] END ...metric=manhattan, n_neighbors=9, weights=uniform; total time=   4.2s\n",
            "[CV] END ..metric=manhattan, n_neighbors=9, weights=distance; total time=   5.1s\n",
            "[CV] END ..metric=manhattan, n_neighbors=9, weights=distance; total time=   3.8s\n",
            "[CV] END ..metric=manhattan, n_neighbors=9, weights=distance; total time=   3.8s\n",
            "Best parameters (GridSearchCV): {'metric': 'manhattan', 'n_neighbors': 9, 'weights': 'distance'}\n"
          ]
        },
        {
          "output_type": "stream",
          "name": "stderr",
          "text": [
            "/usr/local/lib/python3.10/dist-packages/numpy/ma/core.py:2820: RuntimeWarning: invalid value encountered in cast\n",
            "  _data = np.array(data, dtype=dtype, copy=copy,\n"
          ]
        }
      ]
    },
    {
      "cell_type": "markdown",
      "source": [
        "# Evaluate the Tuned Model"
      ],
      "metadata": {
        "id": "sYFqBEy9qx1C"
      }
    },
    {
      "cell_type": "code",
      "source": [
        "# Predict using the best model from GridSearchCV\n",
        "y_pred_tuned = best_knn_model.predict(X_test_scaled)\n",
        "\n",
        "# Evaluate the tuned model\n",
        "acc_tuned = accuracy_score(y_test, y_pred_tuned)\n",
        "conf_matrix_tuned = confusion_matrix(y_test, y_pred_tuned)\n",
        "precision = precision_score(y_test, y_pred_tuned, average='macro')\n",
        "recall = recall_score(y_test, y_pred_tuned, average='macro')\n",
        "\n",
        "# Calculate ROC and Precision-Recall AUC\n",
        "fpr, tpr, _ = roc_curve(y_test, y_pred_tuned, pos_label=1)\n",
        "roc_auc = auc(fpr, tpr)\n",
        "precision_values, recall_values, _ = precision_recall_curve(y_test, y_pred_tuned, pos_label=1)\n",
        "pr_auc = auc(recall_values, precision_values)\n",
        "\n",
        "# Print metrics\n",
        "print(f\"Accuracy (Tuned Model): {acc_tuned}\")\n",
        "print(f\"Confusion Matrix (Tuned Model):\\n{conf_matrix_tuned}\")\n",
        "print(f\"Precision: {precision}\")\n",
        "print(f\"Recall: {recall}\")\n",
        "print(f\"ROC AUC: {roc_auc}\")\n",
        "print(f\"Precision-Recall AUC: {pr_auc}\")"
      ],
      "metadata": {
        "colab": {
          "base_uri": "https://localhost:8080/"
        },
        "id": "qJy42G20q00N",
        "outputId": "ade88669-fbd5-42b5-aa12-5a85ec85e01d"
      },
      "execution_count": 7,
      "outputs": [
        {
          "output_type": "stream",
          "name": "stdout",
          "text": [
            "Accuracy (Tuned Model): 0.6382758620689655\n",
            "Confusion Matrix (Tuned Model):\n",
            "[[1497    5    1 ...    6    3    1]\n",
            " [   8   18    0 ...    0    0    0]\n",
            " [   6    0   20 ...    1    0    0]\n",
            " ...\n",
            " [   8    0    0 ...   10    0    1]\n",
            " [   0    0    0 ...    0   41    0]\n",
            " [  11    2    0 ...    0    1   17]]\n",
            "Precision: 0.5884038349370538\n",
            "Recall: 0.5762017915572726\n",
            "ROC AUC: 0.454493676995849\n",
            "Precision-Recall AUC: 0.006574311227296475\n"
          ]
        }
      ]
    },
    {
      "cell_type": "markdown",
      "source": [
        "# Visualize Results"
      ],
      "metadata": {
        "id": "XIOGlafRq2oC"
      }
    },
    {
      "cell_type": "code",
      "source": [
        "# Plot ROC and Precision-Recall curves\n",
        "plt.figure(figsize=(10, 5))\n",
        "\n",
        "# ROC Curve\n",
        "plt.subplot(1, 2, 1)\n",
        "plt.plot(fpr, tpr, color='darkorange', lw=2, label=f'ROC curve (area = {roc_auc:.2f})')\n",
        "plt.plot([0, 1], [0, 1], color='navy', lw=2, linestyle='--')\n",
        "plt.xlabel('False Positive Rate')\n",
        "plt.ylabel('True Positive Rate')\n",
        "plt.title('Receiver Operating Characteristic')\n",
        "plt.legend(loc=\"lower right\")\n",
        "\n",
        "# Precision-Recall Curve\n",
        "plt.subplot(1, 2, 2)\n",
        "plt.plot(recall_values, precision_values, color='blue', lw=2, label=f'PR curve (area = {pr_auc:.2f})')\n",
        "plt.xlabel('Recall')\n",
        "plt.ylabel('Precision')\n",
        "plt.title('Precision-Recall Curve')\n",
        "plt.legend(loc=\"lower left\")\n",
        "\n",
        "plt.tight_layout()\n",
        "plt.show()"
      ],
      "metadata": {
        "colab": {
          "base_uri": "https://localhost:8080/",
          "height": 507
        },
        "id": "oYggUrflq4vO",
        "outputId": "613b96d4-0242-4574-f961-89daecdc224e"
      },
      "execution_count": 8,
      "outputs": [
        {
          "output_type": "display_data",
          "data": {
            "text/plain": [
              "<Figure size 1000x500 with 2 Axes>"
            ],
            "image/png": "[encoded data removed]"
          },
          "metadata": {}
        }
      ]
    }
  ]
}