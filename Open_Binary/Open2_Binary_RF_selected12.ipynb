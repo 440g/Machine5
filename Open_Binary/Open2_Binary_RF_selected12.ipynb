{
 "cells": [
  {
   "cell_type": "markdown",
   "metadata": {
    "colab_type": "text",
    "id": "view-in-github"
   },
   "source": [
    "<a href=\"https://colab.research.google.com/github/440g/Machine5/blob/Open-Binary/Open-Binary/binary_open_RF.ipynb\" target=\"_parent\"><img src=\"https://colab.research.google.com/assets/colab-badge.svg\" alt=\"Open In Colab\"/></a>"
   ]
  },
  {
   "cell_type": "markdown",
   "metadata": {
    "id": "XhYQZAzoN25t"
   },
   "source": [
    "# 1. Import Libraries"
   ]
  },
  {
   "cell_type": "code",
   "execution_count": null,
   "metadata": {
    "id": "1waMUwqdM4jG"
   },
   "outputs": [],
   "source": [
    "from google.colab import drive\n",
    "import pandas as pd\n",
    "import numpy as np\n",
    "import matplotlib.pyplot as plt\n",
    "import seaborn as sns\n",
    "\n",
    "from sklearn.model_selection import train_test_split, GridSearchCV\n",
    "from sklearn.preprocessing import StandardScaler\n",
    "from sklearn.ensemble import RandomForestClassifier\n",
    "from sklearn.metrics import (\n",
    "    accuracy_score,\n",
    "    confusion_matrix,\n",
    "    precision_score,\n",
    "    recall_score,\n",
    "    roc_auc_score,\n",
    "    roc_curve,\n",
    "    precision_recall_curve,\n",
    "    auc\n",
    ")"
   ]
  },
  {
   "cell_type": "markdown",
   "metadata": {
    "id": "k2FI5U6DOb3m"
   },
   "source": [
    "# 2. Load Data"
   ]
  },
  {
   "cell_type": "code",
   "execution_count": 3,
   "metadata": {
    "colab": {
     "base_uri": "https://localhost:8080/"
    },
    "id": "W1YTeVe7OeyM",
    "outputId": "d2bfc8ba-4163-4cb8-d5db-b3112744541f"
   },
   "outputs": [],
   "source": [
    "# Load datasets\n",
    "mon_features= pd.read_csv('../features/modified_datasets/mon_features.csv')\n",
    "mon_labels = pd.read_csv('../features/modified_datasets/mon_labels.csv')\n",
    "\n",
    "unmon_features= pd.read_csv('../features/modified_datasets/unmon_features.csv')"
   ]
  },
  {
   "cell_type": "code",
   "execution_count": 4,
   "metadata": {
    "id": "qzp-R0ukPDaX"
   },
   "outputs": [],
   "source": [
    "# Combine datasets\n",
    "features_modified = pd.concat([mon_features, unmon_features], ignore_index=True)\n",
    "\n",
    "# Assign labels\n",
    "mon_labels = np.ones(len(mon_features))\n",
    "unmon_labels = -np.ones(len(unmon_features))\n",
    "labels = np.concatenate([mon_labels, unmon_labels])"
   ]
  },
  {
   "cell_type": "code",
   "execution_count": 5,
   "metadata": {},
   "outputs": [],
   "source": [
    "features_modified = features_modified[['inpkt_sum_firstn', 'outpkt_sum_firstn', 'outpkt_avg_ordering', 'outpkt_std_ordering', 'inpkt_num', 'inpkt_avg_burst', 'inpkt_avg_ordering', 'outpkt_num', 'outpkt_avg_burst', 'inpkt_std_ordering', 'total_num', 'outpkt_num_frac_inpkt']]"
   ]
  },
  {
   "cell_type": "code",
   "execution_count": 6,
   "metadata": {
    "colab": {
     "base_uri": "https://localhost:8080/"
    },
    "id": "FRYD6VCwfSQ6",
    "outputId": "7dac45b4-9074-481a-cb0b-f2e8d8f80c80"
   },
   "outputs": [
    {
     "data": {
      "text/html": [
       "<div>\n",
       "<style scoped>\n",
       "    .dataframe tbody tr th:only-of-type {\n",
       "        vertical-align: middle;\n",
       "    }\n",
       "\n",
       "    .dataframe tbody tr th {\n",
       "        vertical-align: top;\n",
       "    }\n",
       "\n",
       "    .dataframe thead th {\n",
       "        text-align: right;\n",
       "    }\n",
       "</style>\n",
       "<table border=\"1\" class=\"dataframe\">\n",
       "  <thead>\n",
       "    <tr style=\"text-align: right;\">\n",
       "      <th></th>\n",
       "      <th>inpkt_sum_firstn</th>\n",
       "      <th>outpkt_sum_firstn</th>\n",
       "      <th>outpkt_avg_ordering</th>\n",
       "      <th>outpkt_std_ordering</th>\n",
       "      <th>inpkt_num</th>\n",
       "      <th>inpkt_avg_burst</th>\n",
       "      <th>inpkt_avg_ordering</th>\n",
       "      <th>outpkt_num</th>\n",
       "      <th>outpkt_avg_burst</th>\n",
       "      <th>inpkt_std_ordering</th>\n",
       "      <th>total_num</th>\n",
       "      <th>outpkt_num_frac_inpkt</th>\n",
       "    </tr>\n",
       "  </thead>\n",
       "  <tbody>\n",
       "    <tr>\n",
       "      <th>0</th>\n",
       "      <td>16.10</td>\n",
       "      <td>7.39</td>\n",
       "      <td>773.322314</td>\n",
       "      <td>515.483953</td>\n",
       "      <td>1300</td>\n",
       "      <td>16.666667</td>\n",
       "      <td>704.106154</td>\n",
       "      <td>121</td>\n",
       "      <td>1.551282</td>\n",
       "      <td>398.486335</td>\n",
       "      <td>1421</td>\n",
       "      <td>0.093077</td>\n",
       "    </tr>\n",
       "    <tr>\n",
       "      <th>1</th>\n",
       "      <td>27.52</td>\n",
       "      <td>9.71</td>\n",
       "      <td>226.162500</td>\n",
       "      <td>139.231951</td>\n",
       "      <td>438</td>\n",
       "      <td>9.319149</td>\n",
       "      <td>264.406393</td>\n",
       "      <td>80</td>\n",
       "      <td>1.702128</td>\n",
       "      <td>150.591146</td>\n",
       "      <td>518</td>\n",
       "      <td>0.182648</td>\n",
       "    </tr>\n",
       "    <tr>\n",
       "      <th>2</th>\n",
       "      <td>28.09</td>\n",
       "      <td>7.83</td>\n",
       "      <td>786.110169</td>\n",
       "      <td>472.735508</td>\n",
       "      <td>1240</td>\n",
       "      <td>16.315789</td>\n",
       "      <td>668.259677</td>\n",
       "      <td>118</td>\n",
       "      <td>1.552632</td>\n",
       "      <td>381.878642</td>\n",
       "      <td>1358</td>\n",
       "      <td>0.095161</td>\n",
       "    </tr>\n",
       "    <tr>\n",
       "      <th>3</th>\n",
       "      <td>25.24</td>\n",
       "      <td>11.53</td>\n",
       "      <td>820.139344</td>\n",
       "      <td>513.916038</td>\n",
       "      <td>1324</td>\n",
       "      <td>16.550000</td>\n",
       "      <td>713.503021</td>\n",
       "      <td>122</td>\n",
       "      <td>1.525000</td>\n",
       "      <td>406.205288</td>\n",
       "      <td>1446</td>\n",
       "      <td>0.092145</td>\n",
       "    </tr>\n",
       "    <tr>\n",
       "      <th>4</th>\n",
       "      <td>19.71</td>\n",
       "      <td>7.17</td>\n",
       "      <td>789.608696</td>\n",
       "      <td>503.993490</td>\n",
       "      <td>1291</td>\n",
       "      <td>16.341772</td>\n",
       "      <td>694.740511</td>\n",
       "      <td>115</td>\n",
       "      <td>1.455696</td>\n",
       "      <td>395.028889</td>\n",
       "      <td>1406</td>\n",
       "      <td>0.089078</td>\n",
       "    </tr>\n",
       "    <tr>\n",
       "      <th>...</th>\n",
       "      <td>...</td>\n",
       "      <td>...</td>\n",
       "      <td>...</td>\n",
       "      <td>...</td>\n",
       "      <td>...</td>\n",
       "      <td>...</td>\n",
       "      <td>...</td>\n",
       "      <td>...</td>\n",
       "      <td>...</td>\n",
       "      <td>...</td>\n",
       "      <td>...</td>\n",
       "      <td>...</td>\n",
       "    </tr>\n",
       "    <tr>\n",
       "      <th>28995</th>\n",
       "      <td>48.06</td>\n",
       "      <td>17.30</td>\n",
       "      <td>2549.414044</td>\n",
       "      <td>1173.380403</td>\n",
       "      <td>4180</td>\n",
       "      <td>16.328125</td>\n",
       "      <td>2270.961722</td>\n",
       "      <td>413</td>\n",
       "      <td>1.619608</td>\n",
       "      <td>1337.407077</td>\n",
       "      <td>4593</td>\n",
       "      <td>0.098804</td>\n",
       "    </tr>\n",
       "    <tr>\n",
       "      <th>28996</th>\n",
       "      <td>75.71</td>\n",
       "      <td>42.56</td>\n",
       "      <td>3062.015660</td>\n",
       "      <td>1621.869237</td>\n",
       "      <td>4663</td>\n",
       "      <td>20.724444</td>\n",
       "      <td>2505.849024</td>\n",
       "      <td>447</td>\n",
       "      <td>1.995536</td>\n",
       "      <td>1450.994832</td>\n",
       "      <td>5110</td>\n",
       "      <td>0.095861</td>\n",
       "    </tr>\n",
       "    <tr>\n",
       "      <th>28997</th>\n",
       "      <td>30.53</td>\n",
       "      <td>17.90</td>\n",
       "      <td>179.101695</td>\n",
       "      <td>118.245320</td>\n",
       "      <td>302</td>\n",
       "      <td>10.785714</td>\n",
       "      <td>180.175497</td>\n",
       "      <td>59</td>\n",
       "      <td>2.107143</td>\n",
       "      <td>101.241755</td>\n",
       "      <td>361</td>\n",
       "      <td>0.195364</td>\n",
       "    </tr>\n",
       "    <tr>\n",
       "      <th>28998</th>\n",
       "      <td>48.14</td>\n",
       "      <td>20.69</td>\n",
       "      <td>309.197917</td>\n",
       "      <td>166.667122</td>\n",
       "      <td>413</td>\n",
       "      <td>7.375000</td>\n",
       "      <td>241.169492</td>\n",
       "      <td>96</td>\n",
       "      <td>1.714286</td>\n",
       "      <td>138.848134</td>\n",
       "      <td>509</td>\n",
       "      <td>0.232446</td>\n",
       "    </tr>\n",
       "    <tr>\n",
       "      <th>28999</th>\n",
       "      <td>78.31</td>\n",
       "      <td>30.42</td>\n",
       "      <td>4627.602484</td>\n",
       "      <td>3076.060409</td>\n",
       "      <td>9668</td>\n",
       "      <td>32.226667</td>\n",
       "      <td>5006.719797</td>\n",
       "      <td>322</td>\n",
       "      <td>1.076923</td>\n",
       "      <td>2876.437267</td>\n",
       "      <td>9990</td>\n",
       "      <td>0.033306</td>\n",
       "    </tr>\n",
       "  </tbody>\n",
       "</table>\n",
       "<p>29000 rows × 12 columns</p>\n",
       "</div>"
      ],
      "text/plain": [
       "       inpkt_sum_firstn  outpkt_sum_firstn  outpkt_avg_ordering  \\\n",
       "0                 16.10               7.39           773.322314   \n",
       "1                 27.52               9.71           226.162500   \n",
       "2                 28.09               7.83           786.110169   \n",
       "3                 25.24              11.53           820.139344   \n",
       "4                 19.71               7.17           789.608696   \n",
       "...                 ...                ...                  ...   \n",
       "28995             48.06              17.30          2549.414044   \n",
       "28996             75.71              42.56          3062.015660   \n",
       "28997             30.53              17.90           179.101695   \n",
       "28998             48.14              20.69           309.197917   \n",
       "28999             78.31              30.42          4627.602484   \n",
       "\n",
       "       outpkt_std_ordering  inpkt_num  inpkt_avg_burst  inpkt_avg_ordering  \\\n",
       "0               515.483953       1300        16.666667          704.106154   \n",
       "1               139.231951        438         9.319149          264.406393   \n",
       "2               472.735508       1240        16.315789          668.259677   \n",
       "3               513.916038       1324        16.550000          713.503021   \n",
       "4               503.993490       1291        16.341772          694.740511   \n",
       "...                    ...        ...              ...                 ...   \n",
       "28995          1173.380403       4180        16.328125         2270.961722   \n",
       "28996          1621.869237       4663        20.724444         2505.849024   \n",
       "28997           118.245320        302        10.785714          180.175497   \n",
       "28998           166.667122        413         7.375000          241.169492   \n",
       "28999          3076.060409       9668        32.226667         5006.719797   \n",
       "\n",
       "       outpkt_num  outpkt_avg_burst  inpkt_std_ordering  total_num  \\\n",
       "0             121          1.551282          398.486335       1421   \n",
       "1              80          1.702128          150.591146        518   \n",
       "2             118          1.552632          381.878642       1358   \n",
       "3             122          1.525000          406.205288       1446   \n",
       "4             115          1.455696          395.028889       1406   \n",
       "...           ...               ...                 ...        ...   \n",
       "28995         413          1.619608         1337.407077       4593   \n",
       "28996         447          1.995536         1450.994832       5110   \n",
       "28997          59          2.107143          101.241755        361   \n",
       "28998          96          1.714286          138.848134        509   \n",
       "28999         322          1.076923         2876.437267       9990   \n",
       "\n",
       "       outpkt_num_frac_inpkt  \n",
       "0                   0.093077  \n",
       "1                   0.182648  \n",
       "2                   0.095161  \n",
       "3                   0.092145  \n",
       "4                   0.089078  \n",
       "...                      ...  \n",
       "28995               0.098804  \n",
       "28996               0.095861  \n",
       "28997               0.195364  \n",
       "28998               0.232446  \n",
       "28999               0.033306  \n",
       "\n",
       "[29000 rows x 12 columns]"
      ]
     },
     "execution_count": 6,
     "metadata": {},
     "output_type": "execute_result"
    }
   ],
   "source": [
    "#check the shape of features_modified\n",
    "features_modified"
   ]
  },
  {
   "cell_type": "markdown",
   "metadata": {
    "id": "8K_F8qFxPwRu"
   },
   "source": [
    "# 3. Preprocess Data"
   ]
  },
  {
   "cell_type": "code",
   "execution_count": 29,
   "metadata": {
    "id": "3QU7suiVPyPI"
   },
   "outputs": [],
   "source": [
    "# Split dataset\n",
    "X_train, X_test, y_train, y_test = train_test_split(\n",
    "    features_modified, labels, test_size=0.2, random_state=1\n",
    ")\n",
    "\n",
    "# Standardize features\n",
    "scaler = StandardScaler()\n",
    "X_train_scaled = scaler.fit_transform(X_train)\n",
    "X_test_scaled = scaler.transform(X_test)\n",
    "features_modified = scaler.fit_transform(features_modified)"
   ]
  },
  {
   "cell_type": "markdown",
   "metadata": {
    "id": "OxXG5RQeP1Pw"
   },
   "source": [
    "# 4. Build and Train the RandomForest Model"
   ]
  },
  {
   "cell_type": "code",
   "execution_count": 22,
   "metadata": {
    "colab": {
     "base_uri": "https://localhost:8080/"
    },
    "id": "M-uIiDi0P9Ta",
    "outputId": "a881d04a-191e-4446-d8f9-6b5a5d7e356b"
   },
   "outputs": [
    {
     "name": "stdout",
     "output_type": "stream",
     "text": [
      "Accuracy: 0.8481\n",
      "Precision: 0.8780\n",
      "Recall: 0.8968\n",
      "ROC AUC: 0.8237\n",
      "PR AUC: 0.9218\n"
     ]
    },
    {
     "data": {
      "image/png": "[encoded data removed]",
      "text/plain": [
       "<Figure size 400x400 with 1 Axes>"
      ]
     },
     "metadata": {},
     "output_type": "display_data"
    }
   ],
   "source": [
    "# Train Random Forest model\n",
    "rf_binary = RandomForestClassifier(n_jobs=-1, random_state=42)\n",
    "rf_binary.fit(X_train_scaled, y_train)\n",
    "\n",
    "# Evaluate model on test data\n",
    "y_pred = rf_binary.predict(X_test_scaled)\n",
    "\n",
    "# Calculate basic evaluation metrics\n",
    "accuracy = accuracy_score(y_test, y_pred)\n",
    "conf_matrix = confusion_matrix(y_test, y_pred)\n",
    "precision = precision_score(y_test, y_pred, pos_label=1)\n",
    "recall = recall_score(y_test, y_pred, pos_label=1)\n",
    "roc_auc = roc_auc_score(y_test, y_pred)\n",
    "precision_values, recall_values, _ = precision_recall_curve(y_test, y_pred, pos_label=1)\n",
    "pr_auc = auc(recall_values, precision_values)\n",
    "\n",
    "print(f\"Accuracy: {accuracy:.4f}\")\n",
    "print(f\"Precision: {precision:.4f}\")\n",
    "print(f\"Recall: {recall:.4f}\")\n",
    "print(f\"ROC AUC: {roc_auc:.4f}\")\n",
    "print(f\"PR AUC: {pr_auc:.4f}\")\n",
    "\n",
    "cm = confusion_matrix(y_test, y_pred)\n",
    "plt.figure(figsize=(4, 4))\n",
    "sns.heatmap(cm, annot=True, fmt='d', cmap='Blues', cbar=False)\n",
    "plt.xlabel('Predicted Labels')\n",
    "plt.ylabel('True Labels')\n",
    "plt.title('Confusion Matrix')\n",
    "plt.show()"
   ]
  },
  {
   "cell_type": "markdown",
   "metadata": {
    "id": "CVGWaQJXQYf6"
   },
   "source": [
    "# 5. Hyperparameter Tuning"
   ]
  },
  {
   "cell_type": "code",
   "execution_count": 12,
   "metadata": {
    "id": "tYVU_BC4QdVC"
   },
   "outputs": [
    {
     "name": "stdout",
     "output_type": "stream",
     "text": [
      "Best Hyperparameters: {'class_weight': 'balanced', 'max_depth': 30, 'max_leaf_nodes': 300, 'n_estimators': 1500}\n",
      "Best Model: RandomForestClassifier(class_weight='balanced', max_depth=30,\n",
      "                       max_leaf_nodes=300, n_estimators=1500, n_jobs=-1,\n",
      "                       random_state=42)\n"
     ]
    }
   ],
   "source": [
    "# Define hyperparameter grid\n",
    "param_grid = {\n",
    "    'n_estimators': [500, 1000, 1500],\n",
    "    'max_depth': [10, 20, 30, 40, 50],\n",
    "    'max_leaf_nodes': [100, 200, 300],\n",
    "    'class_weight': ['balanced']\n",
    "}\n",
    "\n",
    "# Perform GridSearchCV\n",
    "grid_search = GridSearchCV(estimator=rf_binary, param_grid=param_grid, cv=5, scoring='accuracy', n_jobs=-1)\n",
    "grid_search.fit(X_train_scaled, y_train)\n",
    "\n",
    "# Retrieve best parameters and model\n",
    "best_params = grid_search.best_params_\n",
    "best_model = grid_search.best_estimator_\n",
    "\n",
    "print(\"Best Hyperparameters:\", best_params)\n",
    "print(\"Best Model:\", best_model)"
   ]
  },
  {
   "cell_type": "markdown",
   "metadata": {
    "id": "fuosGJyTQkA3"
   },
   "source": [
    "# 6. Evaluate the Tuned Model"
   ]
  },
  {
   "cell_type": "code",
   "execution_count": 16,
   "metadata": {
    "colab": {
     "base_uri": "https://localhost:8080/"
    },
    "id": "nfCHLc3EQmv4",
    "outputId": "88cc0d33-073d-47c4-ba79-3503152d1821"
   },
   "outputs": [
    {
     "name": "stdout",
     "output_type": "stream",
     "text": [
      "Tuned Model Accuracy: 0.8228\n",
      "Tuned Model Precision: 0.9030\n",
      "Tuned Model Recall: 0.8226\n",
      "Tuned Model ROC AUC: 0.8228\n",
      "Tuned Model PR AUC: 0.9219\n",
      "Tuned Model Confusion Matrix:\n"
     ]
    },
    {
     "data": {
      "image/png": "[encoded data removed]",
      "text/plain": [
       "<Figure size 400x400 with 1 Axes>"
      ]
     },
     "metadata": {},
     "output_type": "display_data"
    }
   ],
   "source": [
    "# Predict using the tuned model\n",
    "y_pred_best = best_model.predict(X_test_scaled)\n",
    "\n",
    "# Calculate evaluation metrics\n",
    "accuracy_best = accuracy_score(y_test, y_pred_best)\n",
    "precision_best = precision_score(y_test, y_pred_best, pos_label=1)\n",
    "recall_best = recall_score(y_test, y_pred_best, pos_label=1)\n",
    "conf_matrix_best = confusion_matrix(y_test, y_pred_best)\n",
    "\n",
    "fpr_best, tpr_best, _ = roc_curve(y_test, y_pred_best, pos_label=1)\n",
    "roc_auc_best = auc(fpr_best, tpr_best)\n",
    "\n",
    "precision_values_best, recall_values_best, _ = precision_recall_curve(y_test, y_pred_best, pos_label=1)\n",
    "pr_auc_best = auc(recall_values_best, precision_values_best)\n",
    "\n",
    "# Display results\n",
    "print(f\"Tuned Model Accuracy: {accuracy_best:.4f}\")\n",
    "print(f\"Tuned Model Precision: {precision_best:.4f}\")\n",
    "print(f\"Tuned Model Recall: {recall_best:.4f}\")\n",
    "print(f\"Tuned Model ROC AUC: {roc_auc_best:.4f}\")\n",
    "print(f\"Tuned Model PR AUC: {pr_auc_best:.4f}\")\n",
    "print(f\"Tuned Model Confusion Matrix:\")\n",
    "cm = conf_matrix_best\n",
    "plt.figure(figsize=(4, 4))\n",
    "sns.heatmap(cm, annot=True, fmt='d', cmap='Blues', cbar=False)\n",
    "plt.xlabel('Predicted Labels')\n",
    "plt.ylabel('True Labels')\n",
    "plt.title('Confusion Matrix')\n",
    "plt.show()"
   ]
  },
  {
   "cell_type": "markdown",
   "metadata": {
    "id": "9OBPiN8jQqdT"
   },
   "source": [
    "# Visualize Results"
   ]
  },
  {
   "cell_type": "code",
   "execution_count": 17,
   "metadata": {
    "colab": {
     "base_uri": "https://localhost:8080/",
     "height": 607
    },
    "id": "MPvK3MywQsQY",
    "outputId": "1af2aa78-4cb8-405b-ebfd-53aaedbaa923"
   },
   "outputs": [
    {
     "data": {
      "image/png": "[encoded data removed]",
      "text/plain": [
       "<Figure size 1200x600 with 2 Axes>"
      ]
     },
     "metadata": {},
     "output_type": "display_data"
    }
   ],
   "source": [
    "# ROC Curve\n",
    "plt.figure(figsize=(12, 6))\n",
    "plt.subplot(1, 2, 1)\n",
    "plt.plot(fpr_best, tpr_best, color='darkorange', lw=2, label=f'ROC curve (area = {roc_auc_best:.2f})')\n",
    "plt.plot([0, 1], [0, 1], color='navy', lw=2, linestyle='--')\n",
    "plt.xlabel('False Positive Rate')\n",
    "plt.ylabel('True Positive Rate')\n",
    "plt.title('Receiver Operating Characteristic')\n",
    "plt.legend(loc=\"lower right\")\n",
    "\n",
    "# Precision-Recall Curve\n",
    "plt.subplot(1, 2, 2)\n",
    "plt.plot(recall_values_best, precision_values_best, color='blue', lw=2, label=f'PR curve (area = {pr_auc_best:.2f})')\n",
    "plt.xlabel('Recall')\n",
    "plt.ylabel('Precision')\n",
    "plt.title('Precision-Recall Curve')\n",
    "plt.legend(loc=\"lower left\")\n",
    "\n",
    "plt.tight_layout()\n",
    "plt.show()"
   ]
  },
  {
   "cell_type": "code",
   "execution_count": 27,
   "metadata": {},
   "outputs": [],
   "source": [
    "best_binary_model = best_model"
   ]
  },
  {
   "cell_type": "code",
   "execution_count": 28,
   "metadata": {},
   "outputs": [
    {
     "name": "stdout",
     "output_type": "stream",
     "text": [
      "Stored 'best_binary_model' (RandomForestClassifier)\n"
     ]
    }
   ],
   "source": [
    "%store best_binary_model"
   ]
  },
  {
   "cell_type": "code",
   "execution_count": 30,
   "metadata": {},
   "outputs": [],
   "source": [
    "label = best_model.predict(features_modified)"
   ]
  },
  {
   "cell_type": "code",
   "execution_count": 37,
   "metadata": {},
   "outputs": [],
   "source": [
    "label = { 'label' : label }\n",
    "label = pd.DataFrame(label)"
   ]
  },
  {
   "cell_type": "code",
   "execution_count": 38,
   "metadata": {},
   "outputs": [],
   "source": [
    "label.to_csv('binary_labels.csv', index=False)"
   ]
  },
  {
   "cell_type": "code",
   "execution_count": null,
   "metadata": {},
   "outputs": [],
   "source": []
  }
 ],
 "metadata": {
  "colab": {
   "authorship_tag": "ABX9TyMf3QCsheKYU6KFYaFUs8YD",
   "include_colab_link": true,
   "provenance": []
  },
  "kernelspec": {
   "display_name": "base",
   "language": "python",
   "name": "python3"
  },
  "language_info": {
   "codemirror_mode": {
    "name": "ipython",
    "version": 3
   },
   "file_extension": ".py",
   "mimetype": "text/x-python",
   "name": "python",
   "nbconvert_exporter": "python",
   "pygments_lexer": "ipython3",
   "version": "3.12.1"
  }
 },
 "nbformat": 4,
 "nbformat_minor": 0
}
