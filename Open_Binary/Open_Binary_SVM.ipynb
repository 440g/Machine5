{
 "cells": [
  {
   "cell_type": "markdown",
   "metadata": {
    "colab_type": "text",
    "id": "view-in-github"
   },
   "source": [
    "<a href=\"https://colab.research.google.com/github/440g/Machine5/blob/Open-Binary/Open-Binary/bianry_open_SVM.ipynb\" target=\"_parent\"><img src=\"https://colab.research.google.com/assets/colab-badge.svg\" alt=\"Open In Colab\"/></a>"
   ]
  },
  {
   "cell_type": "markdown",
   "metadata": {
    "id": "ZGUpPyTZVCkK"
   },
   "source": [
    "\n",
    "# 1. Import Libraries"
   ]
  },
  {
   "cell_type": "code",
   "execution_count": 1,
   "metadata": {
    "id": "3WKB2sKdT0p4"
   },
   "outputs": [],
   "source": [
    "from google.colab import drive\n",
    "import pandas as pd\n",
    "import numpy as np\n",
    "from sklearn.model_selection import train_test_split, GridSearchCV, RandomizedSearchCV\n",
    "from sklearn.preprocessing import StandardScaler\n",
    "from sklearn.svm import SVC\n",
    "from sklearn.metrics import (\n",
    "    accuracy_score,\n",
    "    confusion_matrix,\n",
    "    precision_score,\n",
    "    recall_score,\n",
    "    roc_auc_score,\n",
    "    roc_curve,\n",
    "    precision_recall_curve,\n",
    "    auc\n",
    ")\n",
    "import matplotlib.pyplot as plt\n",
    "from scipy.stats import expon, reciprocal"
   ]
  },
  {
   "cell_type": "markdown",
   "metadata": {
    "id": "jTvu1OKcVZc3"
   },
   "source": [
    "# 2. Load Data"
   ]
  },
  {
   "cell_type": "code",
   "execution_count": null,
   "metadata": {
    "colab": {
     "base_uri": "https://localhost:8080/"
    },
    "id": "ZpnLFuH-VbfV",
    "outputId": "6c1591ee-a9a7-4272-adb6-a5bd86be93ba"
   },
   "outputs": [
    {
     "name": "stdout",
     "output_type": "stream",
     "text": [
      "Drive already mounted at /content/drive; to attempt to forcibly remount, call drive.mount(\"/content/drive\", force_remount=True).\n"
     ]
    }
   ],
   "source": [
    "drive.mount('/content/drive')\n",
    "\n",
    "# Load datasets\n",
    "mon_features = pd.read_csv('/content/drive/MyDrive/Machine5/datasets/mon_features.csv')\n",
    "unmon_features = pd.read_csv('/content/drive/MyDrive/Machine5/datasets/unmon_features.csv')\n",
    "\n",
    "# Assign labels\n",
    "mon_labels = np.ones(len(mon_features))  # 1 for monitored\n",
    "unmon_labels = -np.ones(len(unmon_features))  # -1 for unmonitored\n",
    "\n",
    "# Combine features and labels\n",
    "features_combined = pd.concat([mon_features, unmon_features], axis=0, ignore_index=True)\n",
    "labels_combined = np.concatenate([mon_labels, unmon_labels])"
   ]
  },
  {
   "cell_type": "code",
   "execution_count": 3,
   "metadata": {
    "colab": {
     "base_uri": "https://localhost:8080/"
    },
    "id": "pihSr9ltXG6V",
    "outputId": "6ef1f82c-432d-4dac-e1ce-b81d9bec0302"
   },
   "outputs": [
    {
     "name": "stdout",
     "output_type": "stream",
     "text": [
      "   total_num  total_sum_dir  total_avg  inpkt_num  inpkt_avg  inpkt_sum  \\\n",
      "0       1421        -603648   4.315749       1300   4.292023    5579.63   \n",
      "1        518        -183296   4.611815        438   4.673242    2046.88   \n",
      "2       1358        -574464   5.488969       1240   5.459452    6769.72   \n",
      "3       1446        -615424   5.995512       1324   5.948693    7876.07   \n",
      "4       1406        -602112   4.698869       1291   4.663873    6021.06   \n",
      "\n",
      "   inpkt_num_frac_total  inpkt_avg_ordering  inpkt_std_ordering  \\\n",
      "0              0.914849          704.106154          398.486335   \n",
      "1              0.845560          264.406393          150.591146   \n",
      "2              0.913108          668.259677          381.878642   \n",
      "3              0.915629          713.503021          406.205288   \n",
      "4              0.918208          694.740511          395.028889   \n",
      "\n",
      "   inpkt_num_frac_outpkt  inpkt_sum_firstn  outpkt_num  outpkt_avg  \\\n",
      "0              10.743802             16.10         121    4.570661   \n",
      "1               5.475000             27.52          80    4.275500   \n",
      "2              10.508475             28.09         118    5.799153   \n",
      "3              10.852459             25.24         122    6.503607   \n",
      "4              11.226087             19.71         115    5.091739   \n",
      "\n",
      "   outpkt_sum  outpkt_num_frac_total  outpkt_avg_ordering  \\\n",
      "0      553.05               0.085151           773.322314   \n",
      "1      342.04               0.154440           226.162500   \n",
      "2      684.30               0.086892           786.110169   \n",
      "3      793.44               0.084371           820.139344   \n",
      "4      585.55               0.081792           789.608696   \n",
      "\n",
      "   outpkt_std_ordering  outpkt_num_frac_inpkt  outpkt_sum_firstn  \n",
      "0           515.483953               0.093077               7.39  \n",
      "1           139.231951               0.182648               9.71  \n",
      "2           472.735508               0.095161               7.83  \n",
      "3           513.916038               0.092145              11.53  \n",
      "4           503.993490               0.089078               7.17  \n",
      "   total_num  total_sum_dir  total_avg  inpkt_num  inpkt_avg  inpkt_sum  \\\n",
      "0        130         -36864   3.799462        101   4.072772     411.35   \n",
      "1       9927       -4326912   9.884457       9189   9.935014   91292.84   \n",
      "2        359        -108032   9.328440        285   9.512105    2710.95   \n",
      "3       9948       -4539392   7.584566       9407   7.595780   71453.50   \n",
      "4       2508        -984064  10.352085       2215  10.225174   22648.76   \n",
      "\n",
      "   inpkt_num_frac_total  inpkt_avg_ordering  inpkt_std_ordering  \\\n",
      "0              0.776923           72.465347           36.304696   \n",
      "1              0.925657         5052.770595         2845.096286   \n",
      "2              0.793872          184.996491          100.730751   \n",
      "3              0.945617         4991.069735         2855.784563   \n",
      "4              0.883174         1256.969752          716.374241   \n",
      "\n",
      "   inpkt_num_frac_outpkt  inpkt_sum_firstn  outpkt_num  outpkt_avg  \\\n",
      "0               3.482759             33.45          29    2.847586   \n",
      "1              12.451220             47.41         738    9.254959   \n",
      "2               3.851351             59.25          74    8.621081   \n",
      "3              17.388170             64.11         541    7.389575   \n",
      "4               7.559727             73.70         293   11.311502   \n",
      "\n",
      "   outpkt_sum  outpkt_num_frac_total  outpkt_avg_ordering  \\\n",
      "0       82.58               0.223077            36.758621   \n",
      "1     6830.16               0.074343          3845.246612   \n",
      "2      637.96               0.206128           155.905405   \n",
      "3     3997.76               0.054383          4667.994455   \n",
      "4     3314.27               0.116826          1227.269625   \n",
      "\n",
      "   outpkt_std_ordering  outpkt_num_frac_inpkt  outpkt_sum_firstn  \n",
      "0            27.053784               0.287129              26.21  \n",
      "1          2885.461055               0.080313              33.07  \n",
      "2           111.145044               0.259649              46.85  \n",
      "3          3120.454082               0.057510              24.10  \n",
      "4           778.715376               0.132280               3.51  \n"
     ]
    }
   ],
   "source": [
    "#check the shape of mon_features\n",
    "print(mon_features.head())\n",
    "\n",
    "#check the shape of unmon_features\n",
    "print(unmon_features.head())"
   ]
  },
  {
   "cell_type": "markdown",
   "metadata": {
    "id": "zBALrUSFVk4x"
   },
   "source": [
    "# 3. Preprocess Data"
   ]
  },
  {
   "cell_type": "code",
   "execution_count": 4,
   "metadata": {
    "id": "v1nZ6ybbVndD"
   },
   "outputs": [],
   "source": [
    "# Split dataset\n",
    "X_train, X_test, y_train, y_test = train_test_split(\n",
    "    features_combined, labels_combined, test_size=0.2, random_state=50\n",
    ")\n",
    "\n",
    "# Standardize features\n",
    "scaler = StandardScaler()\n",
    "X_train_scaled = scaler.fit_transform(X_train)\n",
    "X_test_scaled = scaler.transform(X_test)"
   ]
  },
  {
   "cell_type": "markdown",
   "metadata": {
    "id": "Nnw9nXXjVo48"
   },
   "source": [
    "# 4. Build and Train the SVM Model"
   ]
  },
  {
   "cell_type": "code",
   "execution_count": 5,
   "metadata": {
    "colab": {
     "base_uri": "https://localhost:8080/"
    },
    "id": "5Loi4D1lVsX2",
    "outputId": "8a0acb3e-238b-45bd-a597-1e34bfd5d472"
   },
   "outputs": [
    {
     "name": "stdout",
     "output_type": "stream",
     "text": [
      "Accuracy: 0.8000\n",
      "Confusion Matrix:\n",
      "[[1165  826]\n",
      " [ 334 3475]]\n"
     ]
    }
   ],
   "source": [
    "# Train SVM model\n",
    "svm_model = SVC(kernel='rbf')\n",
    "svm_model.fit(X_train_scaled, y_train)\n",
    "\n",
    "# Evaluate model on test data\n",
    "y_pred = svm_model.predict(X_test_scaled)\n",
    "\n",
    "# Calculate basic evaluation metrics\n",
    "accuracy = accuracy_score(y_test, y_pred)\n",
    "conf_matrix = confusion_matrix(y_test, y_pred)\n",
    "print(f\"Accuracy: {accuracy:.4f}\")\n",
    "print(f\"Confusion Matrix:\\n{conf_matrix}\")"
   ]
  },
  {
   "cell_type": "markdown",
   "metadata": {
    "id": "-hgRrDI2Wbbc"
   },
   "source": [
    "# 5. Hyperparameter Tuning"
   ]
  },
  {
   "cell_type": "code",
   "execution_count": 6,
   "metadata": {
    "colab": {
     "base_uri": "https://localhost:8080/"
    },
    "id": "zwhN6gW9WeBG",
    "outputId": "46f07215-e965-4c0d-d452-261df09916bd"
   },
   "outputs": [
    {
     "name": "stdout",
     "output_type": "stream",
     "text": [
      "Fitting 3 folds for each of 2 candidates, totalling 6 fits\n",
      "[CV] END .......................C=100, gamma=0.1, kernel=rbf; total time=  29.0s\n",
      "[CV] END .......................C=100, gamma=0.1, kernel=rbf; total time=  30.0s\n",
      "[CV] END .......................C=100, gamma=0.1, kernel=rbf; total time=  28.8s\n",
      "[CV] END ......................C=1000, gamma=0.1, kernel=rbf; total time= 2.3min\n",
      "[CV] END ......................C=1000, gamma=0.1, kernel=rbf; total time= 2.3min\n",
      "[CV] END ......................C=1000, gamma=0.1, kernel=rbf; total time= 2.2min\n",
      "Best parameters (GridSearchCV): {'C': 100, 'gamma': 0.1, 'kernel': 'rbf'}\n"
     ]
    }
   ],
   "source": [
    "# Define hyperparameter grid for GridSearchCV\n",
    "param_grid = {\n",
    "    'C': [100, 1000],\n",
    "    'gamma': [0.1],\n",
    "    'kernel': ['rbf']\n",
    "}\n",
    "\n",
    "# Perform GridSearchCV\n",
    "grid_search = GridSearchCV(SVC(), param_grid, cv=3, scoring='accuracy', verbose=2)\n",
    "grid_search.fit(X_train_scaled, y_train)\n",
    "\n",
    "# Retrieve the best model\n",
    "best_params = grid_search.best_params_\n",
    "best_svm_model = grid_search.best_estimator_\n",
    "print(f\"Best parameters (GridSearchCV): {best_params}\")\n"
   ]
  },
  {
   "cell_type": "code",
   "execution_count": 7,
   "metadata": {
    "colab": {
     "base_uri": "https://localhost:8080/"
    },
    "id": "YQQGn5kvZpsr",
    "outputId": "5990a7c1-c6ac-4cb6-acbd-6e599f8b33d3"
   },
   "outputs": [
    {
     "name": "stdout",
     "output_type": "stream",
     "text": [
      "Accuracy with best parameters: 0.8324\n",
      "Confusion Matrix with best parameters\n",
      " [[1392  599]\n",
      " [ 373 3436]]\n"
     ]
    }
   ],
   "source": [
    "y_pred = best_svm_model.predict(X_test_scaled)\n",
    "# Evaluation with the best parameters\n",
    "accuracy = accuracy_score(y_test, y_pred)\n",
    "print(f\"Accuracy with best parameters: {accuracy:.4f}\")\n",
    "\n",
    "conf_matrix = confusion_matrix(y_test, y_pred)\n",
    "print(f\"Confusion Matrix with best parameters\\n {conf_matrix}\")"
   ]
  },
  {
   "cell_type": "code",
   "execution_count": 8,
   "metadata": {
    "colab": {
     "base_uri": "https://localhost:8080/"
    },
    "id": "Wo42HBTnWfd5",
    "outputId": "356d2503-7fd0-46b9-c5bb-47848d7a05cb"
   },
   "outputs": [
    {
     "name": "stdout",
     "output_type": "stream",
     "text": [
      "Fitting 2 folds for each of 50 candidates, totalling 100 fits\n",
      "Best parameters (RandomizedSearchCV): {'C': 66.12986882494312, 'class_weight': None, 'gamma': 0.1598300699529709, 'kernel': 'rbf'}\n"
     ]
    }
   ],
   "source": [
    "# Define hyperparameter distributions for RandomizedSearchCV\n",
    "param_distributions = {\n",
    "    'C': reciprocal(1, 1000),\n",
    "    'gamma': expon(scale=0.1),\n",
    "    'kernel': ['rbf'],\n",
    "    'class_weight': ['balanced', None]\n",
    "}\n",
    "\n",
    "# Perform RandomizedSearchCV\n",
    "random_search = RandomizedSearchCV(SVC(), param_distributions, n_iter=50, cv=2, scoring='accuracy', verbose=2, random_state=50, n_jobs=-1)\n",
    "random_search.fit(X_train_scaled, y_train)\n",
    "\n",
    "# Retrieve the best model\n",
    "best_params_random = random_search.best_params_\n",
    "best_svm_model_random = random_search.best_estimator_\n",
    "print(f\"Best parameters (RandomizedSearchCV): {best_params_random}\")\n"
   ]
  },
  {
   "cell_type": "markdown",
   "metadata": {
    "id": "65hXRQsvWhge"
   },
   "source": [
    "# 6. Evaluate the Tuned Model"
   ]
  },
  {
   "cell_type": "code",
   "execution_count": 9,
   "metadata": {
    "colab": {
     "base_uri": "https://localhost:8080/"
    },
    "id": "b6-qT70LWk6q",
    "outputId": "1cc13055-17af-4f56-c92a-cec6a7607e47"
   },
   "outputs": [
    {
     "name": "stdout",
     "output_type": "stream",
     "text": [
      "Accuracy (Tuned Model): 0.8329\n",
      "Confusion Matrix (Tuned Model):\n",
      "[[1410  581]\n",
      " [ 388 3421]]\n",
      "Precision: 0.8548\n",
      "Recall: 0.8981\n",
      "ROC AUC: 0.8032\n",
      "Precision-Recall AUC: 0.9099\n"
     ]
    }
   ],
   "source": [
    "# Predict using the best model from RandomizedSearchCV\n",
    "y_pred_random = best_svm_model_random.predict(X_test_scaled)\n",
    "\n",
    "# Evaluate model performance\n",
    "accuracy_best = accuracy_score(y_test, y_pred_random)\n",
    "conf_matrix_best = confusion_matrix(y_test, y_pred_random)\n",
    "precision = precision_score(y_test, y_pred_random, pos_label=1)\n",
    "recall = recall_score(y_test, y_pred_random, pos_label=1)\n",
    "\n",
    "# Calculate ROC and Precision-Recall AUC\n",
    "fpr, tpr, _ = roc_curve(y_test, y_pred_random, pos_label=1)\n",
    "roc_auc = auc(fpr, tpr)\n",
    "precision_values, recall_values, _ = precision_recall_curve(y_test, y_pred_random, pos_label=1)\n",
    "pr_auc = auc(recall_values, precision_values)\n",
    "\n",
    "# Print metrics\n",
    "print(f\"Accuracy (Tuned Model): {accuracy_best:.4f}\")\n",
    "print(f\"Confusion Matrix (Tuned Model):\\n{conf_matrix_best}\")\n",
    "print(f\"Precision: {precision:.4f}\")\n",
    "print(f\"Recall: {recall:.4f}\")\n",
    "print(f\"ROC AUC: {roc_auc:.4f}\")\n",
    "print(f\"Precision-Recall AUC: {pr_auc:.4f}\")\n"
   ]
  },
  {
   "cell_type": "markdown",
   "metadata": {
    "id": "bkmN0B9EWpgY"
   },
   "source": [
    "# 7. Visualize Results"
   ]
  },
  {
   "cell_type": "code",
   "execution_count": 10,
   "metadata": {
    "colab": {
     "base_uri": "https://localhost:8080/",
     "height": 507
    },
    "id": "oWIjrmcRWtBV",
    "outputId": "acbcfecd-716a-40c7-ec7a-f5cfe3c58ce0"
   },
   "outputs": [
    {
     "data": {
      "image/png": "[encoded data removed]",
      "text/plain": [
       "<Figure size 1000x500 with 2 Axes>"
      ]
     },
     "metadata": {},
     "output_type": "display_data"
    }
   ],
   "source": [
    "# Plot ROC and Precision-Recall curves\n",
    "plt.figure(figsize=(10, 5))\n",
    "\n",
    "# ROC Curve\n",
    "plt.subplot(1, 2, 1)\n",
    "plt.plot(fpr, tpr, color='darkorange', lw=2, label=f'ROC curve (area = {roc_auc:.2f})')\n",
    "plt.plot([0, 1], [0, 1], color='navy', lw=2, linestyle='--')\n",
    "plt.xlabel('False Positive Rate')\n",
    "plt.ylabel('True Positive Rate')\n",
    "plt.title('Receiver Operating Characteristic')\n",
    "plt.legend(loc=\"lower right\")\n",
    "\n",
    "# Precision-Recall Curve\n",
    "plt.subplot(1, 2, 2)\n",
    "plt.plot(recall_values, precision_values, color='blue', lw=2, label=f'PR curve (area = {pr_auc:.2f})')\n",
    "plt.xlabel('Recall')\n",
    "plt.ylabel('Precision')\n",
    "plt.title('Precision-Recall Curve')\n",
    "plt.legend(loc=\"lower left\")\n",
    "\n",
    "plt.tight_layout()\n",
    "plt.show()"
   ]
  }
 ],
 "metadata": {
  "colab": {
   "authorship_tag": "ABX9TyMQiwV6zXJvTJ4p8YyYLvBr",
   "include_colab_link": true,
   "provenance": []
  },
  "kernelspec": {
   "display_name": "Python 3",
   "name": "python3"
  },
  "language_info": {
   "name": "python"
  }
 },
 "nbformat": 4,
 "nbformat_minor": 0
}
