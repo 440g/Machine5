{
 "cells": [
  {
   "cell_type": "markdown",
   "metadata": {
    "id": "n-IxlSCDaJfv"
   },
   "source": [
    "# 1. Import Libraries"
   ]
  },
  {
   "cell_type": "code",
   "execution_count": 51,
   "metadata": {
    "id": "kxe4uYdSaJRf"
   },
   "outputs": [],
   "source": [
    "\n",
    "import pandas as pd\n",
    "from sklearn.ensemble import RandomForestClassifier\n",
    "from sklearn.model_selection import train_test_split\n",
    "from sklearn.preprocessing import StandardScaler\n",
    "from sklearn.model_selection import GridSearchCV, cross_val_score\n",
    "from sklearn.metrics import (accuracy_score, classification_report, confusion_matrix ,precision_score, recall_score, roc_auc_score ,roc_curve, auc, precision_recall_curve)\n",
    "import matplotlib.pyplot as plt\n",
    "import numpy as np"
   ]
  },
  {
   "cell_type": "markdown",
   "metadata": {
    "id": "vZGllzcuZgn1"
   },
   "source": [
    "# 2. Load Data"
   ]
  },
  {
   "cell_type": "code",
   "execution_count": 50,
   "metadata": {
    "colab": {
     "base_uri": "https://localhost:8080/"
    },
    "id": "DkHQW-CYMjkm",
    "outputId": "64c2f04c-a942-49ce-e0b5-acbe3788584e"
   },
   "outputs": [],
   "source": [
    "unmon_features= pd.read_csv('../features/modified_datasets/unmon_features.csv')\n",
    "mon_features= pd.read_csv('../features/modified_datasets/mon_features.csv')\n",
    "mon_labels = pd.read_csv('../features/modified_datasets/mon_labels.csv')\n"
   ]
  },
  {
   "cell_type": "code",
   "execution_count": 52,
   "metadata": {},
   "outputs": [],
   "source": [
    "mon_features = mon_features[['total_num', 'total_sum_dir', 'inpkt_num', 'inpkt_avg_ordering',\n",
    "       'inpkt_std_ordering', 'outpkt_num', 'outpkt_avg_ordering',\n",
    "       'outpkt_std_ordering', 'inpkt_count_burst', 'outpkt_count_burst']]\n",
    "unmon_features = unmon_features[['total_num', 'total_sum_dir', 'inpkt_num', 'inpkt_avg_ordering',\n",
    "       'inpkt_std_ordering', 'outpkt_num', 'outpkt_avg_ordering',\n",
    "       'outpkt_std_ordering', 'inpkt_count_burst', 'outpkt_count_burst']]"
   ]
  },
  {
   "cell_type": "code",
   "execution_count": 53,
   "metadata": {},
   "outputs": [
    {
     "data": {
      "text/html": [
       "<div>\n",
       "<style scoped>\n",
       "    .dataframe tbody tr th:only-of-type {\n",
       "        vertical-align: middle;\n",
       "    }\n",
       "\n",
       "    .dataframe tbody tr th {\n",
       "        vertical-align: top;\n",
       "    }\n",
       "\n",
       "    .dataframe thead th {\n",
       "        text-align: right;\n",
       "    }\n",
       "</style>\n",
       "<table border=\"1\" class=\"dataframe\">\n",
       "  <thead>\n",
       "    <tr style=\"text-align: right;\">\n",
       "      <th></th>\n",
       "      <th>total_num</th>\n",
       "      <th>total_sum_dir</th>\n",
       "      <th>inpkt_num</th>\n",
       "      <th>inpkt_avg_ordering</th>\n",
       "      <th>inpkt_std_ordering</th>\n",
       "      <th>outpkt_num</th>\n",
       "      <th>outpkt_avg_ordering</th>\n",
       "      <th>outpkt_std_ordering</th>\n",
       "      <th>inpkt_count_burst</th>\n",
       "      <th>outpkt_count_burst</th>\n",
       "    </tr>\n",
       "  </thead>\n",
       "  <tbody>\n",
       "    <tr>\n",
       "      <th>0</th>\n",
       "      <td>1421</td>\n",
       "      <td>-603648</td>\n",
       "      <td>1300</td>\n",
       "      <td>704.106154</td>\n",
       "      <td>398.486335</td>\n",
       "      <td>121</td>\n",
       "      <td>773.322314</td>\n",
       "      <td>515.483953</td>\n",
       "      <td>78</td>\n",
       "      <td>78</td>\n",
       "    </tr>\n",
       "    <tr>\n",
       "      <th>1</th>\n",
       "      <td>518</td>\n",
       "      <td>-183296</td>\n",
       "      <td>438</td>\n",
       "      <td>264.406393</td>\n",
       "      <td>150.591146</td>\n",
       "      <td>80</td>\n",
       "      <td>226.162500</td>\n",
       "      <td>139.231951</td>\n",
       "      <td>47</td>\n",
       "      <td>47</td>\n",
       "    </tr>\n",
       "    <tr>\n",
       "      <th>2</th>\n",
       "      <td>1358</td>\n",
       "      <td>-574464</td>\n",
       "      <td>1240</td>\n",
       "      <td>668.259677</td>\n",
       "      <td>381.878642</td>\n",
       "      <td>118</td>\n",
       "      <td>786.110169</td>\n",
       "      <td>472.735508</td>\n",
       "      <td>76</td>\n",
       "      <td>76</td>\n",
       "    </tr>\n",
       "    <tr>\n",
       "      <th>3</th>\n",
       "      <td>1446</td>\n",
       "      <td>-615424</td>\n",
       "      <td>1324</td>\n",
       "      <td>713.503021</td>\n",
       "      <td>406.205288</td>\n",
       "      <td>122</td>\n",
       "      <td>820.139344</td>\n",
       "      <td>513.916038</td>\n",
       "      <td>80</td>\n",
       "      <td>80</td>\n",
       "    </tr>\n",
       "    <tr>\n",
       "      <th>4</th>\n",
       "      <td>1406</td>\n",
       "      <td>-602112</td>\n",
       "      <td>1291</td>\n",
       "      <td>694.740511</td>\n",
       "      <td>395.028889</td>\n",
       "      <td>115</td>\n",
       "      <td>789.608696</td>\n",
       "      <td>503.993490</td>\n",
       "      <td>79</td>\n",
       "      <td>79</td>\n",
       "    </tr>\n",
       "    <tr>\n",
       "      <th>...</th>\n",
       "      <td>...</td>\n",
       "      <td>...</td>\n",
       "      <td>...</td>\n",
       "      <td>...</td>\n",
       "      <td>...</td>\n",
       "      <td>...</td>\n",
       "      <td>...</td>\n",
       "      <td>...</td>\n",
       "      <td>...</td>\n",
       "      <td>...</td>\n",
       "    </tr>\n",
       "    <tr>\n",
       "      <th>28995</th>\n",
       "      <td>4593</td>\n",
       "      <td>-1928704</td>\n",
       "      <td>4180</td>\n",
       "      <td>2270.961722</td>\n",
       "      <td>1337.407077</td>\n",
       "      <td>413</td>\n",
       "      <td>2549.414044</td>\n",
       "      <td>1173.380403</td>\n",
       "      <td>256</td>\n",
       "      <td>255</td>\n",
       "    </tr>\n",
       "    <tr>\n",
       "      <th>28996</th>\n",
       "      <td>5110</td>\n",
       "      <td>-2158592</td>\n",
       "      <td>4663</td>\n",
       "      <td>2505.849024</td>\n",
       "      <td>1450.994832</td>\n",
       "      <td>447</td>\n",
       "      <td>3062.015660</td>\n",
       "      <td>1621.869237</td>\n",
       "      <td>225</td>\n",
       "      <td>224</td>\n",
       "    </tr>\n",
       "    <tr>\n",
       "      <th>28997</th>\n",
       "      <td>361</td>\n",
       "      <td>-124416</td>\n",
       "      <td>302</td>\n",
       "      <td>180.175497</td>\n",
       "      <td>101.241755</td>\n",
       "      <td>59</td>\n",
       "      <td>179.101695</td>\n",
       "      <td>118.245320</td>\n",
       "      <td>28</td>\n",
       "      <td>28</td>\n",
       "    </tr>\n",
       "    <tr>\n",
       "      <th>28998</th>\n",
       "      <td>509</td>\n",
       "      <td>-162304</td>\n",
       "      <td>413</td>\n",
       "      <td>241.169492</td>\n",
       "      <td>138.848134</td>\n",
       "      <td>96</td>\n",
       "      <td>309.197917</td>\n",
       "      <td>166.667122</td>\n",
       "      <td>56</td>\n",
       "      <td>56</td>\n",
       "    </tr>\n",
       "    <tr>\n",
       "      <th>28999</th>\n",
       "      <td>9990</td>\n",
       "      <td>-4785152</td>\n",
       "      <td>9668</td>\n",
       "      <td>5006.719797</td>\n",
       "      <td>2876.437267</td>\n",
       "      <td>322</td>\n",
       "      <td>4627.602484</td>\n",
       "      <td>3076.060409</td>\n",
       "      <td>300</td>\n",
       "      <td>299</td>\n",
       "    </tr>\n",
       "  </tbody>\n",
       "</table>\n",
       "<p>29000 rows × 10 columns</p>\n",
       "</div>"
      ],
      "text/plain": [
       "       total_num  total_sum_dir  inpkt_num  inpkt_avg_ordering  \\\n",
       "0           1421        -603648       1300          704.106154   \n",
       "1            518        -183296        438          264.406393   \n",
       "2           1358        -574464       1240          668.259677   \n",
       "3           1446        -615424       1324          713.503021   \n",
       "4           1406        -602112       1291          694.740511   \n",
       "...          ...            ...        ...                 ...   \n",
       "28995       4593       -1928704       4180         2270.961722   \n",
       "28996       5110       -2158592       4663         2505.849024   \n",
       "28997        361        -124416        302          180.175497   \n",
       "28998        509        -162304        413          241.169492   \n",
       "28999       9990       -4785152       9668         5006.719797   \n",
       "\n",
       "       inpkt_std_ordering  outpkt_num  outpkt_avg_ordering  \\\n",
       "0              398.486335         121           773.322314   \n",
       "1              150.591146          80           226.162500   \n",
       "2              381.878642         118           786.110169   \n",
       "3              406.205288         122           820.139344   \n",
       "4              395.028889         115           789.608696   \n",
       "...                   ...         ...                  ...   \n",
       "28995         1337.407077         413          2549.414044   \n",
       "28996         1450.994832         447          3062.015660   \n",
       "28997          101.241755          59           179.101695   \n",
       "28998          138.848134          96           309.197917   \n",
       "28999         2876.437267         322          4627.602484   \n",
       "\n",
       "       outpkt_std_ordering  inpkt_count_burst  outpkt_count_burst  \n",
       "0               515.483953                 78                  78  \n",
       "1               139.231951                 47                  47  \n",
       "2               472.735508                 76                  76  \n",
       "3               513.916038                 80                  80  \n",
       "4               503.993490                 79                  79  \n",
       "...                    ...                ...                 ...  \n",
       "28995          1173.380403                256                 255  \n",
       "28996          1621.869237                225                 224  \n",
       "28997           118.245320                 28                  28  \n",
       "28998           166.667122                 56                  56  \n",
       "28999          3076.060409                300                 299  \n",
       "\n",
       "[29000 rows x 10 columns]"
      ]
     },
     "execution_count": 53,
     "metadata": {},
     "output_type": "execute_result"
    }
   ],
   "source": [
    "mon_features['label'] = mon_labels.values\n",
    "unmon_features['label'] = -1\n",
    "labeled_idx = range(19000)\n",
    "unlabeled_idx = range(19000, 29000)\n",
    "\n",
    "combined_data = pd.concat([mon_features, unmon_features], axis=0, ignore_index= True)\n",
    "combined_data.fillna(0, inplace=True)\n",
    "\n",
    "X = combined_data.drop('label', axis=1)\n",
    "y = combined_data['label']\n",
    "\n",
    "X"
   ]
  },
  {
   "cell_type": "markdown",
   "metadata": {
    "id": "lVPwwn7PbGx_"
   },
   "source": [
    "# 3. Preprocess Data\n"
   ]
  },
  {
   "cell_type": "code",
   "execution_count": 56,
   "metadata": {
    "colab": {
     "base_uri": "https://localhost:8080/"
    },
    "id": "0A7XvUY-aE8I",
    "outputId": "6dbd1161-dccb-4407-bdef-d95a6eccefad"
   },
   "outputs": [
    {
     "name": "stdout",
     "output_type": "stream",
     "text": [
      "(14250, 11) (4750, 11)\n"
     ]
    }
   ],
   "source": [
    "X_train, X_test, y_train, y_test = train_test_split(mon_features, mon_labels, random_state=42)\n",
    "print(X_train.shape, X_test.shape)\n",
    "\n",
    "scaler = StandardScaler()\n",
    "X_train_scaled = scaler.fit_transform(X_train)\n",
    "X_test_scaled = scaler.transform(X_test)"
   ]
  },
  {
   "cell_type": "code",
   "execution_count": 57,
   "metadata": {
    "colab": {
     "base_uri": "https://localhost:8080/"
    },
    "id": "WO7Ff9TLMuKn",
    "outputId": "97f35aba-2763-41c6-e447-c728f7ccaacd"
   },
   "outputs": [
    {
     "name": "stderr",
     "output_type": "stream",
     "text": [
      "/Users/minseokim/miniconda/lib/python3.12/site-packages/sklearn/base.py:1473: DataConversionWarning: A column-vector y was passed when a 1d array was expected. Please change the shape of y to (n_samples,), for example using ravel().\n",
      "  return fit_method(estimator, *args, **kwargs)\n"
     ]
    },
    {
     "name": "stdout",
     "output_type": "stream",
     "text": [
      "Accuracy: 0.9225263157894736\n",
      "Precision 0.9237612928686709\n",
      "Recall 0.9235040876938695\n",
      "\n",
      "Classification Report:\n",
      "               precision    recall  f1-score   support\n",
      "\n",
      "           0       0.94      0.98      0.96        51\n",
      "           1       0.98      0.89      0.93        47\n",
      "           2       0.98      0.98      0.98        48\n",
      "           3       0.93      1.00      0.96        37\n",
      "           4       0.98      1.00      0.99        44\n",
      "           5       0.96      0.95      0.95        56\n",
      "           6       0.98      0.98      0.98        58\n",
      "           7       1.00      1.00      1.00        53\n",
      "           8       0.96      0.96      0.96        49\n",
      "           9       0.97      0.84      0.90        38\n",
      "          10       0.96      0.87      0.91        55\n",
      "          11       0.89      0.91      0.90        45\n",
      "          12       0.96      0.98      0.97        55\n",
      "          13       0.84      0.84      0.84        45\n",
      "          14       0.87      0.88      0.88        52\n",
      "          15       0.83      0.92      0.87        48\n",
      "          16       0.94      0.92      0.93        50\n",
      "          17       0.91      0.85      0.88        59\n",
      "          18       0.98      0.98      0.98        47\n",
      "          19       0.95      0.83      0.88        46\n",
      "          20       0.88      0.96      0.92        55\n",
      "          21       0.88      0.88      0.88        48\n",
      "          22       0.95      0.85      0.90        46\n",
      "          23       0.82      0.98      0.89        46\n",
      "          24       0.74      0.69      0.71        58\n",
      "          25       0.94      0.92      0.93        48\n",
      "          26       0.87      1.00      0.93        45\n",
      "          27       0.87      0.80      0.83        50\n",
      "          28       0.89      0.93      0.91        42\n",
      "          29       0.90      0.91      0.90        57\n",
      "          30       0.87      0.87      0.87        55\n",
      "          31       0.85      0.93      0.89        43\n",
      "          32       0.81      0.90      0.85        52\n",
      "          33       0.92      0.96      0.94        47\n",
      "          34       0.85      0.94      0.89        53\n",
      "          35       0.89      0.91      0.90        45\n",
      "          36       0.84      0.93      0.88        45\n",
      "          37       0.95      0.87      0.91        62\n",
      "          38       0.89      0.95      0.92        58\n",
      "          39       0.89      0.91      0.90        53\n",
      "          40       0.90      0.87      0.88        60\n",
      "          41       0.91      0.92      0.92        53\n",
      "          42       1.00      0.76      0.86        49\n",
      "          43       0.88      0.96      0.92        46\n",
      "          44       0.93      0.98      0.95        53\n",
      "          45       0.91      0.91      0.91        45\n",
      "          46       0.86      0.95      0.90        44\n",
      "          47       0.88      0.86      0.87        51\n",
      "          48       0.87      0.89      0.88        46\n",
      "          49       0.89      0.92      0.91        52\n",
      "          50       0.94      0.92      0.93        37\n",
      "          51       0.90      0.90      0.90        49\n",
      "          52       0.87      0.91      0.89        57\n",
      "          53       0.83      0.90      0.86        39\n",
      "          54       0.91      0.86      0.89        59\n",
      "          55       0.86      0.86      0.86        44\n",
      "          56       0.93      0.98      0.96        57\n",
      "          57       0.95      0.81      0.87        47\n",
      "          58       0.92      0.98      0.95        48\n",
      "          59       0.98      0.98      0.98        51\n",
      "          60       0.98      0.92      0.95        50\n",
      "          61       0.94      0.90      0.92        68\n",
      "          62       0.98      0.94      0.96        68\n",
      "          63       0.81      0.90      0.85        42\n",
      "          64       0.94      0.96      0.95        49\n",
      "          65       0.89      0.88      0.88        48\n",
      "          66       1.00      0.85      0.92        59\n",
      "          67       0.86      0.96      0.91        50\n",
      "          68       0.96      0.87      0.91        61\n",
      "          69       0.96      0.98      0.97        55\n",
      "          70       0.98      1.00      0.99        45\n",
      "          71       1.00      0.95      0.98        44\n",
      "          72       0.90      0.90      0.90        52\n",
      "          73       1.00      0.96      0.98        54\n",
      "          74       0.97      0.95      0.96        59\n",
      "          75       0.98      1.00      0.99        44\n",
      "          76       0.98      0.98      0.98        51\n",
      "          77       0.92      0.88      0.90        41\n",
      "          78       0.89      0.94      0.91        51\n",
      "          79       0.95      0.88      0.91        42\n",
      "          80       1.00      0.96      0.98        52\n",
      "          81       0.92      0.96      0.94        56\n",
      "          82       0.91      0.86      0.88        57\n",
      "          83       0.93      0.95      0.94        40\n",
      "          84       0.98      0.91      0.94        53\n",
      "          85       1.00      0.93      0.96        56\n",
      "          86       0.91      1.00      0.95        42\n",
      "          87       0.98      0.98      0.98        45\n",
      "          88       0.93      0.95      0.94        44\n",
      "          89       1.00      0.96      0.98        45\n",
      "          90       0.98      0.98      0.98        47\n",
      "          91       0.98      0.96      0.97        56\n",
      "          92       0.93      0.98      0.96        44\n",
      "          93       1.00      0.98      0.99        47\n",
      "          94       1.00      0.98      0.99        55\n",
      "\n",
      "    accuracy                           0.92      4750\n",
      "   macro avg       0.92      0.92      0.92      4750\n",
      "weighted avg       0.92      0.92      0.92      4750\n",
      "\n",
      "\n",
      "Confusion Matrix:\n",
      " [[50  1  0 ...  0  0  0]\n",
      " [ 2 42  0 ...  0  0  0]\n",
      " [ 0  0 47 ...  0  0  0]\n",
      " ...\n",
      " [ 0  0  0 ... 43  0  0]\n",
      " [ 0  0  0 ...  0 46  0]\n",
      " [ 0  0  0 ...  1  0 54]]\n"
     ]
    }
   ],
   "source": [
    "rf_model = RandomForestClassifier(random_state=1)\n",
    "rf_model.fit(X_train_scaled, y_train)\n",
    "\n",
    "y_pred = rf_model.predict(X_test_scaled)\n",
    "print(\"Accuracy:\", accuracy_score(y_test, y_pred))\n",
    "print(\"Precision\", precision_score(y_test, y_pred, average='macro'))\n",
    "print(\"Recall\", recall_score(y_test, y_pred, average='macro'))\n",
    "print(\"\\nClassification Report:\\n\", classification_report(y_test, y_pred))\n",
    "print(\"\\nConfusion Matrix:\\n\", confusion_matrix(y_test, y_pred))"
   ]
  },
  {
   "cell_type": "markdown",
   "metadata": {
    "id": "Flzah8b_dTYj"
   },
   "source": [
    "# 5. Hyperparameter Tuning"
   ]
  },
  {
   "cell_type": "code",
   "execution_count": 58,
   "metadata": {
    "colab": {
     "base_uri": "https://localhost:8080/",
     "height": 367
    },
    "id": "Xkdnp81Feaxm",
    "outputId": "16b01322-74a8-423b-af2a-5377448e7f2a"
   },
   "outputs": [
    {
     "name": "stdout",
     "output_type": "stream",
     "text": [
      "Fitting 5 folds for each of 15 candidates, totalling 75 fits\n"
     ]
    },
    {
     "name": "stderr",
     "output_type": "stream",
     "text": [
      "/Users/minseokim/miniconda/lib/python3.12/site-packages/sklearn/base.py:1473: DataConversionWarning: A column-vector y was passed when a 1d array was expected. Please change the shape of y to (n_samples,), for example using ravel().\n",
      "  return fit_method(estimator, *args, **kwargs)\n",
      "/Users/minseokim/miniconda/lib/python3.12/site-packages/sklearn/base.py:1473: DataConversionWarning: A column-vector y was passed when a 1d array was expected. Please change the shape of y to (n_samples,), for example using ravel().\n",
      "  return fit_method(estimator, *args, **kwargs)\n",
      "/Users/minseokim/miniconda/lib/python3.12/site-packages/sklearn/base.py:1473: DataConversionWarning: A column-vector y was passed when a 1d array was expected. Please change the shape of y to (n_samples,), for example using ravel().\n",
      "  return fit_method(estimator, *args, **kwargs)\n",
      "/Users/minseokim/miniconda/lib/python3.12/site-packages/sklearn/base.py:1473: DataConversionWarning: A column-vector y was passed when a 1d array was expected. Please change the shape of y to (n_samples,), for example using ravel().\n",
      "  return fit_method(estimator, *args, **kwargs)\n",
      "/Users/minseokim/miniconda/lib/python3.12/site-packages/sklearn/base.py:1473: DataConversionWarning: A column-vector y was passed when a 1d array was expected. Please change the shape of y to (n_samples,), for example using ravel().\n",
      "  return fit_method(estimator, *args, **kwargs)\n",
      "/Users/minseokim/miniconda/lib/python3.12/site-packages/sklearn/base.py:1473: DataConversionWarning: A column-vector y was passed when a 1d array was expected. Please change the shape of y to (n_samples,), for example using ravel().\n",
      "  return fit_method(estimator, *args, **kwargs)\n",
      "/Users/minseokim/miniconda/lib/python3.12/site-packages/sklearn/base.py:1473: DataConversionWarning: A column-vector y was passed when a 1d array was expected. Please change the shape of y to (n_samples,), for example using ravel().\n",
      "  return fit_method(estimator, *args, **kwargs)\n",
      "/Users/minseokim/miniconda/lib/python3.12/site-packages/sklearn/base.py:1473: DataConversionWarning: A column-vector y was passed when a 1d array was expected. Please change the shape of y to (n_samples,), for example using ravel().\n",
      "  return fit_method(estimator, *args, **kwargs)\n",
      "/Users/minseokim/miniconda/lib/python3.12/site-packages/sklearn/base.py:1473: DataConversionWarning: A column-vector y was passed when a 1d array was expected. Please change the shape of y to (n_samples,), for example using ravel().\n",
      "  return fit_method(estimator, *args, **kwargs)\n",
      "/Users/minseokim/miniconda/lib/python3.12/site-packages/sklearn/base.py:1473: DataConversionWarning: A column-vector y was passed when a 1d array was expected. Please change the shape of y to (n_samples,), for example using ravel().\n",
      "  return fit_method(estimator, *args, **kwargs)\n",
      "/Users/minseokim/miniconda/lib/python3.12/site-packages/sklearn/base.py:1473: DataConversionWarning: A column-vector y was passed when a 1d array was expected. Please change the shape of y to (n_samples,), for example using ravel().\n",
      "  return fit_method(estimator, *args, **kwargs)\n"
     ]
    },
    {
     "name": "stdout",
     "output_type": "stream",
     "text": [
      "[CV] END class_weight=balanced, max_depth=10, max_leaf_nodes=100, n_estimators=300; total time=  11.0s\n"
     ]
    },
    {
     "name": "stderr",
     "output_type": "stream",
     "text": [
      "/Users/minseokim/miniconda/lib/python3.12/site-packages/sklearn/base.py:1473: DataConversionWarning: A column-vector y was passed when a 1d array was expected. Please change the shape of y to (n_samples,), for example using ravel().\n",
      "  return fit_method(estimator, *args, **kwargs)\n"
     ]
    },
    {
     "name": "stdout",
     "output_type": "stream",
     "text": [
      "[CV] END class_weight=balanced, max_depth=10, max_leaf_nodes=100, n_estimators=300; total time=  11.2s\n",
      "[CV] END class_weight=balanced, max_depth=10, max_leaf_nodes=100, n_estimators=300; total time=  11.2s\n",
      "[CV] END class_weight=balanced, max_depth=10, max_leaf_nodes=100, n_estimators=300; total time=  11.3s\n",
      "[CV] END class_weight=balanced, max_depth=10, max_leaf_nodes=100, n_estimators=300; total time=  11.3s\n"
     ]
    },
    {
     "name": "stderr",
     "output_type": "stream",
     "text": [
      "/Users/minseokim/miniconda/lib/python3.12/site-packages/sklearn/base.py:1473: DataConversionWarning: A column-vector y was passed when a 1d array was expected. Please change the shape of y to (n_samples,), for example using ravel().\n",
      "  return fit_method(estimator, *args, **kwargs)\n",
      "/Users/minseokim/miniconda/lib/python3.12/site-packages/sklearn/base.py:1473: DataConversionWarning: A column-vector y was passed when a 1d array was expected. Please change the shape of y to (n_samples,), for example using ravel().\n",
      "  return fit_method(estimator, *args, **kwargs)\n",
      "/Users/minseokim/miniconda/lib/python3.12/site-packages/sklearn/base.py:1473: DataConversionWarning: A column-vector y was passed when a 1d array was expected. Please change the shape of y to (n_samples,), for example using ravel().\n",
      "  return fit_method(estimator, *args, **kwargs)\n",
      "/Users/minseokim/miniconda/lib/python3.12/site-packages/sklearn/base.py:1473: DataConversionWarning: A column-vector y was passed when a 1d array was expected. Please change the shape of y to (n_samples,), for example using ravel().\n",
      "  return fit_method(estimator, *args, **kwargs)\n"
     ]
    },
    {
     "name": "stdout",
     "output_type": "stream",
     "text": [
      "[CV] END class_weight=balanced, max_depth=10, max_leaf_nodes=200, n_estimators=300; total time=  11.5s\n",
      "[CV] END class_weight=balanced, max_depth=10, max_leaf_nodes=200, n_estimators=300; total time=  11.6s\n",
      "[CV] END class_weight=balanced, max_depth=10, max_leaf_nodes=200, n_estimators=300; total time=  11.6s\n",
      "[CV] END class_weight=balanced, max_depth=10, max_leaf_nodes=200, n_estimators=300; total time=  11.7s\n"
     ]
    },
    {
     "name": "stderr",
     "output_type": "stream",
     "text": [
      "/Users/minseokim/miniconda/lib/python3.12/site-packages/sklearn/base.py:1473: DataConversionWarning: A column-vector y was passed when a 1d array was expected. Please change the shape of y to (n_samples,), for example using ravel().\n",
      "  return fit_method(estimator, *args, **kwargs)\n",
      "/Users/minseokim/miniconda/lib/python3.12/site-packages/sklearn/base.py:1473: DataConversionWarning: A column-vector y was passed when a 1d array was expected. Please change the shape of y to (n_samples,), for example using ravel().\n",
      "  return fit_method(estimator, *args, **kwargs)\n",
      "/Users/minseokim/miniconda/lib/python3.12/site-packages/sklearn/base.py:1473: DataConversionWarning: A column-vector y was passed when a 1d array was expected. Please change the shape of y to (n_samples,), for example using ravel().\n",
      "  return fit_method(estimator, *args, **kwargs)\n",
      "/Users/minseokim/miniconda/lib/python3.12/site-packages/sklearn/base.py:1473: DataConversionWarning: A column-vector y was passed when a 1d array was expected. Please change the shape of y to (n_samples,), for example using ravel().\n",
      "  return fit_method(estimator, *args, **kwargs)\n"
     ]
    },
    {
     "name": "stdout",
     "output_type": "stream",
     "text": [
      "[CV] END class_weight=balanced, max_depth=10, max_leaf_nodes=200, n_estimators=300; total time=  11.8s\n",
      "[CV] END class_weight=balanced, max_depth=10, max_leaf_nodes=300, n_estimators=300; total time=  11.8s\n"
     ]
    },
    {
     "name": "stderr",
     "output_type": "stream",
     "text": [
      "/Users/minseokim/miniconda/lib/python3.12/site-packages/sklearn/base.py:1473: DataConversionWarning: A column-vector y was passed when a 1d array was expected. Please change the shape of y to (n_samples,), for example using ravel().\n",
      "  return fit_method(estimator, *args, **kwargs)\n",
      "/Users/minseokim/miniconda/lib/python3.12/site-packages/sklearn/base.py:1473: DataConversionWarning: A column-vector y was passed when a 1d array was expected. Please change the shape of y to (n_samples,), for example using ravel().\n",
      "  return fit_method(estimator, *args, **kwargs)\n"
     ]
    },
    {
     "name": "stdout",
     "output_type": "stream",
     "text": [
      "[CV] END class_weight=balanced, max_depth=10, max_leaf_nodes=300, n_estimators=300; total time=  11.7s\n",
      "[CV] END class_weight=balanced, max_depth=10, max_leaf_nodes=300, n_estimators=300; total time=  11.4s\n"
     ]
    },
    {
     "name": "stderr",
     "output_type": "stream",
     "text": [
      "/Users/minseokim/miniconda/lib/python3.12/site-packages/sklearn/base.py:1473: DataConversionWarning: A column-vector y was passed when a 1d array was expected. Please change the shape of y to (n_samples,), for example using ravel().\n",
      "  return fit_method(estimator, *args, **kwargs)\n",
      "/Users/minseokim/miniconda/lib/python3.12/site-packages/sklearn/base.py:1473: DataConversionWarning: A column-vector y was passed when a 1d array was expected. Please change the shape of y to (n_samples,), for example using ravel().\n",
      "  return fit_method(estimator, *args, **kwargs)\n"
     ]
    },
    {
     "name": "stdout",
     "output_type": "stream",
     "text": [
      "[CV] END class_weight=balanced, max_depth=10, max_leaf_nodes=300, n_estimators=300; total time=  11.7s\n",
      "[CV] END class_weight=balanced, max_depth=10, max_leaf_nodes=300, n_estimators=300; total time=  11.8s\n"
     ]
    },
    {
     "name": "stderr",
     "output_type": "stream",
     "text": [
      "/Users/minseokim/miniconda/lib/python3.12/site-packages/sklearn/base.py:1473: DataConversionWarning: A column-vector y was passed when a 1d array was expected. Please change the shape of y to (n_samples,), for example using ravel().\n",
      "  return fit_method(estimator, *args, **kwargs)\n",
      "/Users/minseokim/miniconda/lib/python3.12/site-packages/sklearn/base.py:1473: DataConversionWarning: A column-vector y was passed when a 1d array was expected. Please change the shape of y to (n_samples,), for example using ravel().\n",
      "  return fit_method(estimator, *args, **kwargs)\n"
     ]
    },
    {
     "name": "stdout",
     "output_type": "stream",
     "text": [
      "[CV] END class_weight=balanced, max_depth=20, max_leaf_nodes=100, n_estimators=300; total time=  12.3s\n",
      "[CV] END class_weight=balanced, max_depth=20, max_leaf_nodes=100, n_estimators=300; total time=  12.7s\n"
     ]
    },
    {
     "name": "stderr",
     "output_type": "stream",
     "text": [
      "/Users/minseokim/miniconda/lib/python3.12/site-packages/sklearn/base.py:1473: DataConversionWarning: A column-vector y was passed when a 1d array was expected. Please change the shape of y to (n_samples,), for example using ravel().\n",
      "  return fit_method(estimator, *args, **kwargs)\n",
      "/Users/minseokim/miniconda/lib/python3.12/site-packages/sklearn/base.py:1473: DataConversionWarning: A column-vector y was passed when a 1d array was expected. Please change the shape of y to (n_samples,), for example using ravel().\n",
      "  return fit_method(estimator, *args, **kwargs)\n"
     ]
    },
    {
     "name": "stdout",
     "output_type": "stream",
     "text": [
      "[CV] END class_weight=balanced, max_depth=20, max_leaf_nodes=100, n_estimators=300; total time=  12.5s\n",
      "[CV] END class_weight=balanced, max_depth=20, max_leaf_nodes=100, n_estimators=300; total time=  12.6s\n",
      "[CV] END class_weight=balanced, max_depth=20, max_leaf_nodes=100, n_estimators=300; total time=  12.7s\n"
     ]
    },
    {
     "name": "stderr",
     "output_type": "stream",
     "text": [
      "/Users/minseokim/miniconda/lib/python3.12/site-packages/sklearn/base.py:1473: DataConversionWarning: A column-vector y was passed when a 1d array was expected. Please change the shape of y to (n_samples,), for example using ravel().\n",
      "  return fit_method(estimator, *args, **kwargs)\n",
      "/Users/minseokim/miniconda/lib/python3.12/site-packages/sklearn/base.py:1473: DataConversionWarning: A column-vector y was passed when a 1d array was expected. Please change the shape of y to (n_samples,), for example using ravel().\n",
      "  return fit_method(estimator, *args, **kwargs)\n",
      "/Users/minseokim/miniconda/lib/python3.12/site-packages/sklearn/base.py:1473: DataConversionWarning: A column-vector y was passed when a 1d array was expected. Please change the shape of y to (n_samples,), for example using ravel().\n",
      "  return fit_method(estimator, *args, **kwargs)\n"
     ]
    },
    {
     "name": "stdout",
     "output_type": "stream",
     "text": [
      "[CV] END class_weight=balanced, max_depth=20, max_leaf_nodes=200, n_estimators=300; total time=  14.3s\n"
     ]
    },
    {
     "name": "stderr",
     "output_type": "stream",
     "text": [
      "/Users/minseokim/miniconda/lib/python3.12/site-packages/sklearn/base.py:1473: DataConversionWarning: A column-vector y was passed when a 1d array was expected. Please change the shape of y to (n_samples,), for example using ravel().\n",
      "  return fit_method(estimator, *args, **kwargs)\n"
     ]
    },
    {
     "name": "stdout",
     "output_type": "stream",
     "text": [
      "[CV] END class_weight=balanced, max_depth=20, max_leaf_nodes=200, n_estimators=300; total time=  14.9s\n"
     ]
    },
    {
     "name": "stderr",
     "output_type": "stream",
     "text": [
      "/Users/minseokim/miniconda/lib/python3.12/site-packages/sklearn/base.py:1473: DataConversionWarning: A column-vector y was passed when a 1d array was expected. Please change the shape of y to (n_samples,), for example using ravel().\n",
      "  return fit_method(estimator, *args, **kwargs)\n"
     ]
    },
    {
     "name": "stdout",
     "output_type": "stream",
     "text": [
      "[CV] END class_weight=balanced, max_depth=30, max_leaf_nodes=100, n_estimators=300; total time=  13.0s\n",
      "[CV] END class_weight=balanced, max_depth=20, max_leaf_nodes=200, n_estimators=300; total time=  14.8s\n"
     ]
    },
    {
     "name": "stderr",
     "output_type": "stream",
     "text": [
      "/Users/minseokim/miniconda/lib/python3.12/site-packages/sklearn/base.py:1473: DataConversionWarning: A column-vector y was passed when a 1d array was expected. Please change the shape of y to (n_samples,), for example using ravel().\n",
      "  return fit_method(estimator, *args, **kwargs)\n",
      "/Users/minseokim/miniconda/lib/python3.12/site-packages/sklearn/base.py:1473: DataConversionWarning: A column-vector y was passed when a 1d array was expected. Please change the shape of y to (n_samples,), for example using ravel().\n",
      "  return fit_method(estimator, *args, **kwargs)\n"
     ]
    },
    {
     "name": "stdout",
     "output_type": "stream",
     "text": [
      "[CV] END class_weight=balanced, max_depth=20, max_leaf_nodes=200, n_estimators=300; total time=  14.9s\n",
      "[CV] END class_weight=balanced, max_depth=20, max_leaf_nodes=200, n_estimators=300; total time=  14.8s\n"
     ]
    },
    {
     "name": "stderr",
     "output_type": "stream",
     "text": [
      "/Users/minseokim/miniconda/lib/python3.12/site-packages/sklearn/base.py:1473: DataConversionWarning: A column-vector y was passed when a 1d array was expected. Please change the shape of y to (n_samples,), for example using ravel().\n",
      "  return fit_method(estimator, *args, **kwargs)\n",
      "/Users/minseokim/miniconda/lib/python3.12/site-packages/sklearn/base.py:1473: DataConversionWarning: A column-vector y was passed when a 1d array was expected. Please change the shape of y to (n_samples,), for example using ravel().\n",
      "  return fit_method(estimator, *args, **kwargs)\n"
     ]
    },
    {
     "name": "stdout",
     "output_type": "stream",
     "text": [
      "[CV] END class_weight=balanced, max_depth=30, max_leaf_nodes=100, n_estimators=300; total time=  12.7s\n",
      "[CV] END class_weight=balanced, max_depth=20, max_leaf_nodes=300, n_estimators=300; total time=  15.9s\n"
     ]
    },
    {
     "name": "stderr",
     "output_type": "stream",
     "text": [
      "/Users/minseokim/miniconda/lib/python3.12/site-packages/sklearn/base.py:1473: DataConversionWarning: A column-vector y was passed when a 1d array was expected. Please change the shape of y to (n_samples,), for example using ravel().\n",
      "  return fit_method(estimator, *args, **kwargs)\n",
      "/Users/minseokim/miniconda/lib/python3.12/site-packages/sklearn/base.py:1473: DataConversionWarning: A column-vector y was passed when a 1d array was expected. Please change the shape of y to (n_samples,), for example using ravel().\n",
      "  return fit_method(estimator, *args, **kwargs)\n"
     ]
    },
    {
     "name": "stdout",
     "output_type": "stream",
     "text": [
      "[CV] END class_weight=balanced, max_depth=20, max_leaf_nodes=300, n_estimators=300; total time=  15.6s\n",
      "[CV] END class_weight=balanced, max_depth=30, max_leaf_nodes=100, n_estimators=300; total time=  12.8s\n"
     ]
    },
    {
     "name": "stderr",
     "output_type": "stream",
     "text": [
      "/Users/minseokim/miniconda/lib/python3.12/site-packages/sklearn/base.py:1473: DataConversionWarning: A column-vector y was passed when a 1d array was expected. Please change the shape of y to (n_samples,), for example using ravel().\n",
      "  return fit_method(estimator, *args, **kwargs)\n",
      "/Users/minseokim/miniconda/lib/python3.12/site-packages/sklearn/base.py:1473: DataConversionWarning: A column-vector y was passed when a 1d array was expected. Please change the shape of y to (n_samples,), for example using ravel().\n",
      "  return fit_method(estimator, *args, **kwargs)\n"
     ]
    },
    {
     "name": "stdout",
     "output_type": "stream",
     "text": [
      "[CV] END class_weight=balanced, max_depth=20, max_leaf_nodes=300, n_estimators=300; total time=  15.7s\n"
     ]
    },
    {
     "name": "stderr",
     "output_type": "stream",
     "text": [
      "/Users/minseokim/miniconda/lib/python3.12/site-packages/sklearn/base.py:1473: DataConversionWarning: A column-vector y was passed when a 1d array was expected. Please change the shape of y to (n_samples,), for example using ravel().\n",
      "  return fit_method(estimator, *args, **kwargs)\n"
     ]
    },
    {
     "name": "stdout",
     "output_type": "stream",
     "text": [
      "[CV] END class_weight=balanced, max_depth=20, max_leaf_nodes=300, n_estimators=300; total time=  15.8s\n"
     ]
    },
    {
     "name": "stderr",
     "output_type": "stream",
     "text": [
      "/Users/minseokim/miniconda/lib/python3.12/site-packages/sklearn/base.py:1473: DataConversionWarning: A column-vector y was passed when a 1d array was expected. Please change the shape of y to (n_samples,), for example using ravel().\n",
      "  return fit_method(estimator, *args, **kwargs)\n"
     ]
    },
    {
     "name": "stdout",
     "output_type": "stream",
     "text": [
      "[CV] END class_weight=balanced, max_depth=20, max_leaf_nodes=300, n_estimators=300; total time=  16.1s\n"
     ]
    },
    {
     "name": "stderr",
     "output_type": "stream",
     "text": [
      "/Users/minseokim/miniconda/lib/python3.12/site-packages/sklearn/base.py:1473: DataConversionWarning: A column-vector y was passed when a 1d array was expected. Please change the shape of y to (n_samples,), for example using ravel().\n",
      "  return fit_method(estimator, *args, **kwargs)\n"
     ]
    },
    {
     "name": "stdout",
     "output_type": "stream",
     "text": [
      "[CV] END class_weight=balanced, max_depth=30, max_leaf_nodes=100, n_estimators=300; total time=  13.5s\n",
      "[CV] END class_weight=balanced, max_depth=30, max_leaf_nodes=100, n_estimators=300; total time=  13.8s\n"
     ]
    },
    {
     "name": "stderr",
     "output_type": "stream",
     "text": [
      "/Users/minseokim/miniconda/lib/python3.12/site-packages/sklearn/base.py:1473: DataConversionWarning: A column-vector y was passed when a 1d array was expected. Please change the shape of y to (n_samples,), for example using ravel().\n",
      "  return fit_method(estimator, *args, **kwargs)\n",
      "/Users/minseokim/miniconda/lib/python3.12/site-packages/sklearn/base.py:1473: DataConversionWarning: A column-vector y was passed when a 1d array was expected. Please change the shape of y to (n_samples,), for example using ravel().\n",
      "  return fit_method(estimator, *args, **kwargs)\n"
     ]
    },
    {
     "name": "stdout",
     "output_type": "stream",
     "text": [
      "[CV] END class_weight=balanced, max_depth=30, max_leaf_nodes=200, n_estimators=300; total time=  15.4s\n",
      "[CV] END class_weight=balanced, max_depth=30, max_leaf_nodes=200, n_estimators=300; total time=  15.7s\n"
     ]
    },
    {
     "name": "stderr",
     "output_type": "stream",
     "text": [
      "/Users/minseokim/miniconda/lib/python3.12/site-packages/sklearn/base.py:1473: DataConversionWarning: A column-vector y was passed when a 1d array was expected. Please change the shape of y to (n_samples,), for example using ravel().\n",
      "  return fit_method(estimator, *args, **kwargs)\n",
      "/Users/minseokim/miniconda/lib/python3.12/site-packages/sklearn/base.py:1473: DataConversionWarning: A column-vector y was passed when a 1d array was expected. Please change the shape of y to (n_samples,), for example using ravel().\n",
      "  return fit_method(estimator, *args, **kwargs)\n"
     ]
    },
    {
     "name": "stdout",
     "output_type": "stream",
     "text": [
      "[CV] END class_weight=balanced, max_depth=30, max_leaf_nodes=200, n_estimators=300; total time=  15.6s\n"
     ]
    },
    {
     "name": "stderr",
     "output_type": "stream",
     "text": [
      "/Users/minseokim/miniconda/lib/python3.12/site-packages/sklearn/base.py:1473: DataConversionWarning: A column-vector y was passed when a 1d array was expected. Please change the shape of y to (n_samples,), for example using ravel().\n",
      "  return fit_method(estimator, *args, **kwargs)\n"
     ]
    },
    {
     "name": "stdout",
     "output_type": "stream",
     "text": [
      "[CV] END class_weight=balanced, max_depth=30, max_leaf_nodes=200, n_estimators=300; total time=  15.7s\n"
     ]
    },
    {
     "name": "stderr",
     "output_type": "stream",
     "text": [
      "/Users/minseokim/miniconda/lib/python3.12/site-packages/sklearn/base.py:1473: DataConversionWarning: A column-vector y was passed when a 1d array was expected. Please change the shape of y to (n_samples,), for example using ravel().\n",
      "  return fit_method(estimator, *args, **kwargs)\n"
     ]
    },
    {
     "name": "stdout",
     "output_type": "stream",
     "text": [
      "[CV] END class_weight=balanced, max_depth=30, max_leaf_nodes=200, n_estimators=300; total time=  15.5s\n"
     ]
    },
    {
     "name": "stderr",
     "output_type": "stream",
     "text": [
      "/Users/minseokim/miniconda/lib/python3.12/site-packages/sklearn/base.py:1473: DataConversionWarning: A column-vector y was passed when a 1d array was expected. Please change the shape of y to (n_samples,), for example using ravel().\n",
      "  return fit_method(estimator, *args, **kwargs)\n"
     ]
    },
    {
     "name": "stdout",
     "output_type": "stream",
     "text": [
      "[CV] END class_weight=balanced, max_depth=30, max_leaf_nodes=300, n_estimators=300; total time=  16.2s\n"
     ]
    },
    {
     "name": "stderr",
     "output_type": "stream",
     "text": [
      "/Users/minseokim/miniconda/lib/python3.12/site-packages/sklearn/base.py:1473: DataConversionWarning: A column-vector y was passed when a 1d array was expected. Please change the shape of y to (n_samples,), for example using ravel().\n",
      "  return fit_method(estimator, *args, **kwargs)\n"
     ]
    },
    {
     "name": "stdout",
     "output_type": "stream",
     "text": [
      "[CV] END class_weight=balanced, max_depth=30, max_leaf_nodes=300, n_estimators=300; total time=  16.8s\n"
     ]
    },
    {
     "name": "stderr",
     "output_type": "stream",
     "text": [
      "/Users/minseokim/miniconda/lib/python3.12/site-packages/sklearn/base.py:1473: DataConversionWarning: A column-vector y was passed when a 1d array was expected. Please change the shape of y to (n_samples,), for example using ravel().\n",
      "  return fit_method(estimator, *args, **kwargs)\n"
     ]
    },
    {
     "name": "stdout",
     "output_type": "stream",
     "text": [
      "[CV] END class_weight=balanced, max_depth=30, max_leaf_nodes=300, n_estimators=300; total time=  16.7s\n"
     ]
    },
    {
     "name": "stderr",
     "output_type": "stream",
     "text": [
      "/Users/minseokim/miniconda/lib/python3.12/site-packages/sklearn/base.py:1473: DataConversionWarning: A column-vector y was passed when a 1d array was expected. Please change the shape of y to (n_samples,), for example using ravel().\n",
      "  return fit_method(estimator, *args, **kwargs)\n"
     ]
    },
    {
     "name": "stdout",
     "output_type": "stream",
     "text": [
      "[CV] END class_weight=balanced, max_depth=30, max_leaf_nodes=300, n_estimators=300; total time=  16.8s\n"
     ]
    },
    {
     "name": "stderr",
     "output_type": "stream",
     "text": [
      "/Users/minseokim/miniconda/lib/python3.12/site-packages/sklearn/base.py:1473: DataConversionWarning: A column-vector y was passed when a 1d array was expected. Please change the shape of y to (n_samples,), for example using ravel().\n",
      "  return fit_method(estimator, *args, **kwargs)\n"
     ]
    },
    {
     "name": "stdout",
     "output_type": "stream",
     "text": [
      "[CV] END class_weight=balanced, max_depth=40, max_leaf_nodes=100, n_estimators=300; total time=  12.9s\n"
     ]
    },
    {
     "name": "stderr",
     "output_type": "stream",
     "text": [
      "/Users/minseokim/miniconda/lib/python3.12/site-packages/sklearn/base.py:1473: DataConversionWarning: A column-vector y was passed when a 1d array was expected. Please change the shape of y to (n_samples,), for example using ravel().\n",
      "  return fit_method(estimator, *args, **kwargs)\n"
     ]
    },
    {
     "name": "stdout",
     "output_type": "stream",
     "text": [
      "[CV] END class_weight=balanced, max_depth=40, max_leaf_nodes=100, n_estimators=300; total time=  12.8s\n"
     ]
    },
    {
     "name": "stderr",
     "output_type": "stream",
     "text": [
      "/Users/minseokim/miniconda/lib/python3.12/site-packages/sklearn/base.py:1473: DataConversionWarning: A column-vector y was passed when a 1d array was expected. Please change the shape of y to (n_samples,), for example using ravel().\n",
      "  return fit_method(estimator, *args, **kwargs)\n"
     ]
    },
    {
     "name": "stdout",
     "output_type": "stream",
     "text": [
      "[CV] END class_weight=balanced, max_depth=40, max_leaf_nodes=100, n_estimators=300; total time=  13.0s\n"
     ]
    },
    {
     "name": "stderr",
     "output_type": "stream",
     "text": [
      "/Users/minseokim/miniconda/lib/python3.12/site-packages/sklearn/base.py:1473: DataConversionWarning: A column-vector y was passed when a 1d array was expected. Please change the shape of y to (n_samples,), for example using ravel().\n",
      "  return fit_method(estimator, *args, **kwargs)\n"
     ]
    },
    {
     "name": "stdout",
     "output_type": "stream",
     "text": [
      "[CV] END class_weight=balanced, max_depth=30, max_leaf_nodes=300, n_estimators=300; total time=  15.9s\n"
     ]
    },
    {
     "name": "stderr",
     "output_type": "stream",
     "text": [
      "/Users/minseokim/miniconda/lib/python3.12/site-packages/sklearn/base.py:1473: DataConversionWarning: A column-vector y was passed when a 1d array was expected. Please change the shape of y to (n_samples,), for example using ravel().\n",
      "  return fit_method(estimator, *args, **kwargs)\n"
     ]
    },
    {
     "name": "stdout",
     "output_type": "stream",
     "text": [
      "[CV] END class_weight=balanced, max_depth=40, max_leaf_nodes=100, n_estimators=300; total time=  13.0s\n",
      "[CV] END class_weight=balanced, max_depth=40, max_leaf_nodes=100, n_estimators=300; total time=  13.0s\n"
     ]
    },
    {
     "name": "stderr",
     "output_type": "stream",
     "text": [
      "/Users/minseokim/miniconda/lib/python3.12/site-packages/sklearn/base.py:1473: DataConversionWarning: A column-vector y was passed when a 1d array was expected. Please change the shape of y to (n_samples,), for example using ravel().\n",
      "  return fit_method(estimator, *args, **kwargs)\n",
      "/Users/minseokim/miniconda/lib/python3.12/site-packages/sklearn/base.py:1473: DataConversionWarning: A column-vector y was passed when a 1d array was expected. Please change the shape of y to (n_samples,), for example using ravel().\n",
      "  return fit_method(estimator, *args, **kwargs)\n"
     ]
    },
    {
     "name": "stdout",
     "output_type": "stream",
     "text": [
      "[CV] END class_weight=balanced, max_depth=40, max_leaf_nodes=200, n_estimators=300; total time=  15.1s\n"
     ]
    },
    {
     "name": "stderr",
     "output_type": "stream",
     "text": [
      "/Users/minseokim/miniconda/lib/python3.12/site-packages/sklearn/base.py:1473: DataConversionWarning: A column-vector y was passed when a 1d array was expected. Please change the shape of y to (n_samples,), for example using ravel().\n",
      "  return fit_method(estimator, *args, **kwargs)\n"
     ]
    },
    {
     "name": "stdout",
     "output_type": "stream",
     "text": [
      "[CV] END class_weight=balanced, max_depth=40, max_leaf_nodes=200, n_estimators=300; total time=  14.6s\n"
     ]
    },
    {
     "name": "stderr",
     "output_type": "stream",
     "text": [
      "/Users/minseokim/miniconda/lib/python3.12/site-packages/sklearn/base.py:1473: DataConversionWarning: A column-vector y was passed when a 1d array was expected. Please change the shape of y to (n_samples,), for example using ravel().\n",
      "  return fit_method(estimator, *args, **kwargs)\n"
     ]
    },
    {
     "name": "stdout",
     "output_type": "stream",
     "text": [
      "[CV] END class_weight=balanced, max_depth=40, max_leaf_nodes=200, n_estimators=300; total time=  14.8s\n",
      "[CV] END class_weight=balanced, max_depth=40, max_leaf_nodes=200, n_estimators=300; total time=  14.7s\n"
     ]
    },
    {
     "name": "stderr",
     "output_type": "stream",
     "text": [
      "/Users/minseokim/miniconda/lib/python3.12/site-packages/sklearn/base.py:1473: DataConversionWarning: A column-vector y was passed when a 1d array was expected. Please change the shape of y to (n_samples,), for example using ravel().\n",
      "  return fit_method(estimator, *args, **kwargs)\n",
      "/Users/minseokim/miniconda/lib/python3.12/site-packages/sklearn/base.py:1473: DataConversionWarning: A column-vector y was passed when a 1d array was expected. Please change the shape of y to (n_samples,), for example using ravel().\n",
      "  return fit_method(estimator, *args, **kwargs)\n"
     ]
    },
    {
     "name": "stdout",
     "output_type": "stream",
     "text": [
      "[CV] END class_weight=balanced, max_depth=40, max_leaf_nodes=200, n_estimators=300; total time=  14.7s\n"
     ]
    },
    {
     "name": "stderr",
     "output_type": "stream",
     "text": [
      "/Users/minseokim/miniconda/lib/python3.12/site-packages/sklearn/base.py:1473: DataConversionWarning: A column-vector y was passed when a 1d array was expected. Please change the shape of y to (n_samples,), for example using ravel().\n",
      "  return fit_method(estimator, *args, **kwargs)\n"
     ]
    },
    {
     "name": "stdout",
     "output_type": "stream",
     "text": [
      "[CV] END class_weight=balanced, max_depth=40, max_leaf_nodes=300, n_estimators=300; total time=  15.5s\n"
     ]
    },
    {
     "name": "stderr",
     "output_type": "stream",
     "text": [
      "/Users/minseokim/miniconda/lib/python3.12/site-packages/sklearn/base.py:1473: DataConversionWarning: A column-vector y was passed when a 1d array was expected. Please change the shape of y to (n_samples,), for example using ravel().\n",
      "  return fit_method(estimator, *args, **kwargs)\n"
     ]
    },
    {
     "name": "stdout",
     "output_type": "stream",
     "text": [
      "[CV] END class_weight=balanced, max_depth=50, max_leaf_nodes=100, n_estimators=300; total time=  12.6s\n"
     ]
    },
    {
     "name": "stderr",
     "output_type": "stream",
     "text": [
      "/Users/minseokim/miniconda/lib/python3.12/site-packages/sklearn/base.py:1473: DataConversionWarning: A column-vector y was passed when a 1d array was expected. Please change the shape of y to (n_samples,), for example using ravel().\n",
      "  return fit_method(estimator, *args, **kwargs)\n"
     ]
    },
    {
     "name": "stdout",
     "output_type": "stream",
     "text": [
      "[CV] END class_weight=balanced, max_depth=40, max_leaf_nodes=300, n_estimators=300; total time=  15.2s\n"
     ]
    },
    {
     "name": "stderr",
     "output_type": "stream",
     "text": [
      "/Users/minseokim/miniconda/lib/python3.12/site-packages/sklearn/base.py:1473: DataConversionWarning: A column-vector y was passed when a 1d array was expected. Please change the shape of y to (n_samples,), for example using ravel().\n",
      "  return fit_method(estimator, *args, **kwargs)\n"
     ]
    },
    {
     "name": "stdout",
     "output_type": "stream",
     "text": [
      "[CV] END class_weight=balanced, max_depth=40, max_leaf_nodes=300, n_estimators=300; total time=  15.5s\n"
     ]
    },
    {
     "name": "stderr",
     "output_type": "stream",
     "text": [
      "/Users/minseokim/miniconda/lib/python3.12/site-packages/sklearn/base.py:1473: DataConversionWarning: A column-vector y was passed when a 1d array was expected. Please change the shape of y to (n_samples,), for example using ravel().\n",
      "  return fit_method(estimator, *args, **kwargs)\n"
     ]
    },
    {
     "name": "stdout",
     "output_type": "stream",
     "text": [
      "[CV] END class_weight=balanced, max_depth=50, max_leaf_nodes=100, n_estimators=300; total time=  12.2s\n",
      "[CV] END class_weight=balanced, max_depth=40, max_leaf_nodes=300, n_estimators=300; total time=  15.4s\n"
     ]
    },
    {
     "name": "stderr",
     "output_type": "stream",
     "text": [
      "/Users/minseokim/miniconda/lib/python3.12/site-packages/sklearn/base.py:1473: DataConversionWarning: A column-vector y was passed when a 1d array was expected. Please change the shape of y to (n_samples,), for example using ravel().\n",
      "  return fit_method(estimator, *args, **kwargs)\n",
      "/Users/minseokim/miniconda/lib/python3.12/site-packages/sklearn/base.py:1473: DataConversionWarning: A column-vector y was passed when a 1d array was expected. Please change the shape of y to (n_samples,), for example using ravel().\n",
      "  return fit_method(estimator, *args, **kwargs)\n"
     ]
    },
    {
     "name": "stdout",
     "output_type": "stream",
     "text": [
      "[CV] END class_weight=balanced, max_depth=50, max_leaf_nodes=100, n_estimators=300; total time=  12.5s\n",
      "[CV] END class_weight=balanced, max_depth=40, max_leaf_nodes=300, n_estimators=300; total time=  15.6s\n"
     ]
    },
    {
     "name": "stderr",
     "output_type": "stream",
     "text": [
      "/Users/minseokim/miniconda/lib/python3.12/site-packages/sklearn/base.py:1473: DataConversionWarning: A column-vector y was passed when a 1d array was expected. Please change the shape of y to (n_samples,), for example using ravel().\n",
      "  return fit_method(estimator, *args, **kwargs)\n",
      "/Users/minseokim/miniconda/lib/python3.12/site-packages/sklearn/base.py:1473: DataConversionWarning: A column-vector y was passed when a 1d array was expected. Please change the shape of y to (n_samples,), for example using ravel().\n",
      "  return fit_method(estimator, *args, **kwargs)\n"
     ]
    },
    {
     "name": "stdout",
     "output_type": "stream",
     "text": [
      "[CV] END class_weight=balanced, max_depth=50, max_leaf_nodes=100, n_estimators=300; total time=  12.6s\n",
      "[CV] END class_weight=balanced, max_depth=50, max_leaf_nodes=100, n_estimators=300; total time=  12.6s\n"
     ]
    },
    {
     "name": "stderr",
     "output_type": "stream",
     "text": [
      "/Users/minseokim/miniconda/lib/python3.12/site-packages/sklearn/base.py:1473: DataConversionWarning: A column-vector y was passed when a 1d array was expected. Please change the shape of y to (n_samples,), for example using ravel().\n",
      "  return fit_method(estimator, *args, **kwargs)\n"
     ]
    },
    {
     "name": "stdout",
     "output_type": "stream",
     "text": [
      "[CV] END class_weight=balanced, max_depth=50, max_leaf_nodes=200, n_estimators=300; total time=  14.5s\n",
      "[CV] END class_weight=balanced, max_depth=50, max_leaf_nodes=200, n_estimators=300; total time=  13.8s\n",
      "[CV] END class_weight=balanced, max_depth=50, max_leaf_nodes=200, n_estimators=300; total time=  13.8s\n",
      "[CV] END class_weight=balanced, max_depth=50, max_leaf_nodes=200, n_estimators=300; total time=  13.6s\n",
      "[CV] END class_weight=balanced, max_depth=50, max_leaf_nodes=200, n_estimators=300; total time=  13.4s\n",
      "[CV] END class_weight=balanced, max_depth=50, max_leaf_nodes=300, n_estimators=300; total time=  13.9s\n",
      "[CV] END class_weight=balanced, max_depth=50, max_leaf_nodes=300, n_estimators=300; total time=  14.2s\n",
      "[CV] END class_weight=balanced, max_depth=50, max_leaf_nodes=300, n_estimators=300; total time=  13.8s\n",
      "[CV] END class_weight=balanced, max_depth=50, max_leaf_nodes=300, n_estimators=300; total time=  13.8s\n",
      "[CV] END class_weight=balanced, max_depth=50, max_leaf_nodes=300, n_estimators=300; total time=  13.5s\n"
     ]
    },
    {
     "name": "stderr",
     "output_type": "stream",
     "text": [
      "/Users/minseokim/miniconda/lib/python3.12/site-packages/sklearn/base.py:1473: DataConversionWarning: A column-vector y was passed when a 1d array was expected. Please change the shape of y to (n_samples,), for example using ravel().\n",
      "  return fit_method(estimator, *args, **kwargs)\n"
     ]
    },
    {
     "name": "stdout",
     "output_type": "stream",
     "text": [
      "Best parameters: {'class_weight': 'balanced', 'max_depth': 30, 'max_leaf_nodes': 300, 'n_estimators': 300}\n",
      "Best Model:\n",
      " RandomForestClassifier(class_weight='balanced', max_depth=30,\n",
      "                       max_leaf_nodes=300, n_estimators=300, random_state=1)\n",
      "Best Accuracy: 0.8633684210526316\n"
     ]
    }
   ],
   "source": [
    "#하이퍼파라미터 튜닝(GridSearch)\n",
    "param_grid = {\n",
    "    # 'n_estimators': [500,1000,1500],\n",
    "    'n_estimators': [300],\n",
    "    'max_depth': [10, 20, 30,40,50],\n",
    "    'max_leaf_nodes':[100,200,300],\n",
    "    'class_weight': ['balanced']\n",
    "}\n",
    "\n",
    "grid_search = GridSearchCV(estimator = rf_model,param_grid = param_grid, cv = 5,scoring='accuracy', n_jobs=-1, verbose=2)\n",
    "grid_search.fit(X_train_scaled, y_train)\n",
    "\n",
    "\n",
    "best_params = grid_search.best_params_\n",
    "best_rf_model = grid_search.best_estimator_\n",
    "best_accuracy = grid_search.best_score_\n",
    "\n",
    "\n",
    "print(\"Best parameters:\", best_params)\n",
    "print(\"Best Model:\\n\", best_rf_model)\n",
    "print(\"Best Accuracy:\", best_accuracy)\n",
    "\n"
   ]
  },
  {
   "cell_type": "code",
   "execution_count": 65,
   "metadata": {
    "colab": {
     "base_uri": "https://localhost:8080/",
     "height": 1000
    },
    "id": "7bHwORrcmRdN",
    "outputId": "bf20415c-86af-42c1-bc0f-2c66a8b4277c"
   },
   "outputs": [
    {
     "data": {
      "image/png": "[encoded data removed]",
      "text/plain": [
       "<Figure size 1000x600 with 1 Axes>"
      ]
     },
     "metadata": {},
     "output_type": "display_data"
    },
    {
     "name": "stdout",
     "output_type": "stream",
     "text": [
      "Selected Features Index: [ 1  5  6  7 10]\n",
      "Number of Important Features: 5\n"
     ]
    },
    {
     "name": "stderr",
     "output_type": "stream",
     "text": [
      "/Users/minseokim/miniconda/lib/python3.12/site-packages/sklearn/base.py:1473: DataConversionWarning: A column-vector y was passed when a 1d array was expected. Please change the shape of y to (n_samples,), for example using ravel().\n",
      "  return fit_method(estimator, *args, **kwargs)\n"
     ]
    },
    {
     "name": "stdout",
     "output_type": "stream",
     "text": [
      "\n",
      "Accuracy (Selected Features): 0.9583157894736842\n",
      "\n",
      "Confusion Matrix (Selected Features):\n",
      " [[51  0  0 ...  0  0  0]\n",
      " [ 2 44  1 ...  0  0  0]\n",
      " [ 0  0 47 ...  0  0  0]\n",
      " ...\n",
      " [ 0  0  0 ... 44  0  0]\n",
      " [ 0  0  0 ...  0 47  0]\n",
      " [ 0  0  0 ...  0  0 55]]\n",
      "\n",
      "Classification Report (Selected Features):\n",
      "               precision    recall  f1-score   support\n",
      "\n",
      "           0       0.96      1.00      0.98        51\n",
      "           1       1.00      0.94      0.97        47\n",
      "           2       0.98      0.98      0.98        48\n",
      "           3       0.95      1.00      0.97        37\n",
      "           4       1.00      1.00      1.00        44\n",
      "           5       1.00      1.00      1.00        56\n",
      "           6       1.00      0.98      0.99        58\n",
      "           7       1.00      1.00      1.00        53\n",
      "           8       0.96      0.98      0.97        49\n",
      "           9       0.97      0.92      0.95        38\n",
      "          10       0.95      0.96      0.95        55\n",
      "          11       0.95      0.93      0.94        45\n",
      "          12       0.96      0.98      0.97        55\n",
      "          13       0.98      0.91      0.94        45\n",
      "          14       0.92      0.92      0.92        52\n",
      "          15       0.96      0.98      0.97        48\n",
      "          16       0.96      0.92      0.94        50\n",
      "          17       0.98      0.93      0.96        59\n",
      "          18       0.92      1.00      0.96        47\n",
      "          19       0.98      0.91      0.94        46\n",
      "          20       0.92      0.98      0.95        55\n",
      "          21       0.90      0.94      0.92        48\n",
      "          22       1.00      0.93      0.97        46\n",
      "          23       0.90      0.98      0.94        46\n",
      "          24       0.84      0.84      0.84        58\n",
      "          25       0.96      0.96      0.96        48\n",
      "          26       1.00      1.00      1.00        45\n",
      "          27       0.92      0.88      0.90        50\n",
      "          28       0.83      0.95      0.89        42\n",
      "          29       0.96      0.95      0.96        57\n",
      "          30       0.96      0.95      0.95        55\n",
      "          31       0.95      0.95      0.95        43\n",
      "          32       0.96      0.92      0.94        52\n",
      "          33       0.98      1.00      0.99        47\n",
      "          34       0.96      0.94      0.95        53\n",
      "          35       0.98      0.91      0.94        45\n",
      "          36       0.91      0.96      0.93        45\n",
      "          37       0.98      0.92      0.95        62\n",
      "          38       0.90      0.95      0.92        58\n",
      "          39       0.96      0.94      0.95        53\n",
      "          40       0.98      0.93      0.96        60\n",
      "          41       0.91      0.98      0.95        53\n",
      "          42       1.00      0.86      0.92        49\n",
      "          43       0.90      0.98      0.94        46\n",
      "          44       0.93      0.98      0.95        53\n",
      "          45       0.98      0.93      0.95        45\n",
      "          46       0.91      0.98      0.95        44\n",
      "          47       0.92      0.92      0.92        51\n",
      "          48       0.98      0.93      0.96        46\n",
      "          49       0.94      0.94      0.94        52\n",
      "          50       0.92      0.92      0.92        37\n",
      "          51       0.94      0.94      0.94        49\n",
      "          52       0.95      0.95      0.95        57\n",
      "          53       0.77      0.95      0.85        39\n",
      "          54       0.95      0.90      0.92        59\n",
      "          55       0.93      0.93      0.93        44\n",
      "          56       0.95      1.00      0.97        57\n",
      "          57       0.93      0.89      0.91        47\n",
      "          58       0.96      0.98      0.97        48\n",
      "          59       0.94      1.00      0.97        51\n",
      "          60       0.98      0.96      0.97        50\n",
      "          61       0.96      0.96      0.96        68\n",
      "          62       0.99      0.97      0.98        68\n",
      "          63       0.93      0.95      0.94        42\n",
      "          64       1.00      0.98      0.99        49\n",
      "          65       0.92      0.92      0.92        48\n",
      "          66       1.00      0.93      0.96        59\n",
      "          67       0.94      0.98      0.96        50\n",
      "          68       0.98      0.97      0.98        61\n",
      "          69       1.00      0.98      0.99        55\n",
      "          70       0.98      1.00      0.99        45\n",
      "          71       0.96      0.98      0.97        44\n",
      "          72       1.00      0.94      0.97        52\n",
      "          73       0.96      0.96      0.96        54\n",
      "          74       0.98      0.95      0.97        59\n",
      "          75       0.98      1.00      0.99        44\n",
      "          76       0.98      0.98      0.98        51\n",
      "          77       0.98      0.98      0.98        41\n",
      "          78       0.93      0.98      0.95        51\n",
      "          79       0.98      0.95      0.96        42\n",
      "          80       1.00      0.98      0.99        52\n",
      "          81       0.98      0.98      0.98        56\n",
      "          82       1.00      0.89      0.94        57\n",
      "          83       0.93      1.00      0.96        40\n",
      "          84       0.98      0.98      0.98        53\n",
      "          85       0.98      1.00      0.99        56\n",
      "          86       0.98      1.00      0.99        42\n",
      "          87       1.00      0.98      0.99        45\n",
      "          88       1.00      0.95      0.98        44\n",
      "          89       1.00      0.98      0.99        45\n",
      "          90       0.94      1.00      0.97        47\n",
      "          91       1.00      1.00      1.00        56\n",
      "          92       1.00      1.00      1.00        44\n",
      "          93       1.00      1.00      1.00        47\n",
      "          94       1.00      1.00      1.00        55\n",
      "\n",
      "    accuracy                           0.96      4750\n",
      "   macro avg       0.96      0.96      0.96      4750\n",
      "weighted avg       0.96      0.96      0.96      4750\n",
      "\n"
     ]
    }
   ],
   "source": [
    "# 특성 중요도 확인\n",
    "feature_importances = rf_model.feature_importances_\n",
    "\n",
    "# 중요도 시각화\n",
    "plt.figure(figsize=(10, 6))\n",
    "plt.bar(range(len(feature_importances)), feature_importances, align='center')\n",
    "plt.xlabel('Feature Index')\n",
    "plt.ylabel('Importance')\n",
    "plt.title('Feature Importance from RandomForest')\n",
    "plt.show()\n",
    "\n",
    "# 중요도 기준으로 상위 N개 특성 선택\n",
    "threshold = 0.07  # 중요도 기준 (조정 가능)\n",
    "important_features = np.where(feature_importances >= threshold)[0]\n",
    "print(f\"Selected Features Index: {important_features}\")\n",
    "print(f\"Number of Important Features: {len(important_features)}\")\n",
    "\n",
    "# 선택된 중요 특성 데이터로 새로운 학습 데이터셋 구성\n",
    "X_train_selected = X_train_scaled[:, important_features]\n",
    "X_test_selected = X_test_scaled[:, important_features]\n",
    "\n",
    "# 새로운 학습 데이터로 RandomForest 학습\n",
    "rf_model_selected = RandomForestClassifier(random_state=42)\n",
    "rf_model_selected.fit(X_train_selected, y_train)\n",
    "\n",
    "# 성능 평가\n",
    "y_pred_selected = rf_model_selected.predict(X_test_selected)\n",
    "print(\"\\nAccuracy (Selected Features):\", accuracy_score(y_test, y_pred_selected))\n",
    "print(\"\\nConfusion Matrix (Selected Features):\\n\", confusion_matrix(y_test, y_pred_selected))\n",
    "print(\"\\nClassification Report (Selected Features):\\n\", classification_report(y_test, y_pred_selected))"
   ]
  },
  {
   "cell_type": "code",
   "execution_count": 66,
   "metadata": {
    "colab": {
     "base_uri": "https://localhost:8080/",
     "height": 1000
    },
    "id": "EVhZM-3ln0Cj",
    "outputId": "a0ecc594-35b1-4e54-c77c-9d33e049c770"
   },
   "outputs": [
    {
     "name": "stdout",
     "output_type": "stream",
     "text": [
      "\n",
      "Accuracy (Selected Features): 0.9583157894736842\n",
      "\n",
      "Confusion Matrix (Selected Features):\n",
      " [[51  0  0 ...  0  0  0]\n",
      " [ 2 44  1 ...  0  0  0]\n",
      " [ 0  0 47 ...  0  0  0]\n",
      " ...\n",
      " [ 0  0  0 ... 44  0  0]\n",
      " [ 0  0  0 ...  0 47  0]\n",
      " [ 0  0  0 ...  0  0 55]]\n",
      "\n",
      "Classification Report (Selected Features):\n",
      "               precision    recall  f1-score   support\n",
      "\n",
      "           0       0.96      1.00      0.98        51\n",
      "           1       1.00      0.94      0.97        47\n",
      "           2       0.98      0.98      0.98        48\n",
      "           3       0.95      1.00      0.97        37\n",
      "           4       1.00      1.00      1.00        44\n",
      "           5       1.00      1.00      1.00        56\n",
      "           6       1.00      0.98      0.99        58\n",
      "           7       1.00      1.00      1.00        53\n",
      "           8       0.96      0.98      0.97        49\n",
      "           9       0.97      0.92      0.95        38\n",
      "          10       0.95      0.96      0.95        55\n",
      "          11       0.95      0.93      0.94        45\n",
      "          12       0.96      0.98      0.97        55\n",
      "          13       0.98      0.91      0.94        45\n",
      "          14       0.92      0.92      0.92        52\n",
      "          15       0.96      0.98      0.97        48\n",
      "          16       0.96      0.92      0.94        50\n",
      "          17       0.98      0.93      0.96        59\n",
      "          18       0.92      1.00      0.96        47\n",
      "          19       0.98      0.91      0.94        46\n",
      "          20       0.92      0.98      0.95        55\n",
      "          21       0.90      0.94      0.92        48\n",
      "          22       1.00      0.93      0.97        46\n",
      "          23       0.90      0.98      0.94        46\n",
      "          24       0.84      0.84      0.84        58\n",
      "          25       0.96      0.96      0.96        48\n",
      "          26       1.00      1.00      1.00        45\n",
      "          27       0.92      0.88      0.90        50\n",
      "          28       0.83      0.95      0.89        42\n",
      "          29       0.96      0.95      0.96        57\n",
      "          30       0.96      0.95      0.95        55\n",
      "          31       0.95      0.95      0.95        43\n",
      "          32       0.96      0.92      0.94        52\n",
      "          33       0.98      1.00      0.99        47\n",
      "          34       0.96      0.94      0.95        53\n",
      "          35       0.98      0.91      0.94        45\n",
      "          36       0.91      0.96      0.93        45\n",
      "          37       0.98      0.92      0.95        62\n",
      "          38       0.90      0.95      0.92        58\n",
      "          39       0.96      0.94      0.95        53\n",
      "          40       0.98      0.93      0.96        60\n",
      "          41       0.91      0.98      0.95        53\n",
      "          42       1.00      0.86      0.92        49\n",
      "          43       0.90      0.98      0.94        46\n",
      "          44       0.93      0.98      0.95        53\n",
      "          45       0.98      0.93      0.95        45\n",
      "          46       0.91      0.98      0.95        44\n",
      "          47       0.92      0.92      0.92        51\n",
      "          48       0.98      0.93      0.96        46\n",
      "          49       0.94      0.94      0.94        52\n",
      "          50       0.92      0.92      0.92        37\n",
      "          51       0.94      0.94      0.94        49\n",
      "          52       0.95      0.95      0.95        57\n",
      "          53       0.77      0.95      0.85        39\n",
      "          54       0.95      0.90      0.92        59\n",
      "          55       0.93      0.93      0.93        44\n",
      "          56       0.95      1.00      0.97        57\n",
      "          57       0.93      0.89      0.91        47\n",
      "          58       0.96      0.98      0.97        48\n",
      "          59       0.94      1.00      0.97        51\n",
      "          60       0.98      0.96      0.97        50\n",
      "          61       0.96      0.96      0.96        68\n",
      "          62       0.99      0.97      0.98        68\n",
      "          63       0.93      0.95      0.94        42\n",
      "          64       1.00      0.98      0.99        49\n",
      "          65       0.92      0.92      0.92        48\n",
      "          66       1.00      0.93      0.96        59\n",
      "          67       0.94      0.98      0.96        50\n",
      "          68       0.98      0.97      0.98        61\n",
      "          69       1.00      0.98      0.99        55\n",
      "          70       0.98      1.00      0.99        45\n",
      "          71       0.96      0.98      0.97        44\n",
      "          72       1.00      0.94      0.97        52\n",
      "          73       0.96      0.96      0.96        54\n",
      "          74       0.98      0.95      0.97        59\n",
      "          75       0.98      1.00      0.99        44\n",
      "          76       0.98      0.98      0.98        51\n",
      "          77       0.98      0.98      0.98        41\n",
      "          78       0.93      0.98      0.95        51\n",
      "          79       0.98      0.95      0.96        42\n",
      "          80       1.00      0.98      0.99        52\n",
      "          81       0.98      0.98      0.98        56\n",
      "          82       1.00      0.89      0.94        57\n",
      "          83       0.93      1.00      0.96        40\n",
      "          84       0.98      0.98      0.98        53\n",
      "          85       0.98      1.00      0.99        56\n",
      "          86       0.98      1.00      0.99        42\n",
      "          87       1.00      0.98      0.99        45\n",
      "          88       1.00      0.95      0.98        44\n",
      "          89       1.00      0.98      0.99        45\n",
      "          90       0.94      1.00      0.97        47\n",
      "          91       1.00      1.00      1.00        56\n",
      "          92       1.00      1.00      1.00        44\n",
      "          93       1.00      1.00      1.00        47\n",
      "          94       1.00      1.00      1.00        55\n",
      "\n",
      "    accuracy                           0.96      4750\n",
      "   macro avg       0.96      0.96      0.96      4750\n",
      "weighted avg       0.96      0.96      0.96      4750\n",
      "\n",
      "\n",
      "Accuracy (Tuned Model): 0.9583\n",
      "Confusion Matrix (Tuned Model):\n",
      "[[51  0  0 ...  0  0  0]\n",
      " [ 2 44  1 ...  0  0  0]\n",
      " [ 0  0 47 ...  0  0  0]\n",
      " ...\n",
      " [ 0  0  0 ... 44  0  0]\n",
      " [ 0  0  0 ...  0 47  0]\n",
      " [ 0  0  0 ...  0  0 55]]\n",
      "ROC AUC: 0.9999\n",
      "Precision-Recall AUC: 0.9939\n"
     ]
    }
   ],
   "source": [
    "# 성능 평가\n",
    "y_pred_selected = rf_model_selected.predict(X_test_selected)\n",
    "accuracy_selected = accuracy_score(y_test, y_pred_selected)\n",
    "conf_matrix_selected = confusion_matrix(y_test, y_pred_selected)\n",
    "print(\"\\nAccuracy (Selected Features):\", accuracy_selected)\n",
    "print(\"\\nConfusion Matrix (Selected Features):\\n\", conf_matrix_selected)\n",
    "print(\"\\nClassification Report (Selected Features):\\n\", classification_report(y_test, y_pred_selected))\n",
    "\n",
    "# 확률 예측 (predict_proba 활용)\n",
    "y_pred_proba_selected = rf_model_selected.predict_proba(X_test_selected)[:, 1]\n",
    "\n",
    "# ROC Curve\n",
    "fpr, tpr, _ = roc_curve(y_test, y_pred_proba_selected, pos_label=1)\n",
    "roc_auc = auc(fpr, tpr)\n",
    "\n",
    "# Precision-Recall Curve\n",
    "precision_values, recall_values, _ = precision_recall_curve(y_test, y_pred_proba_selected, pos_label=1)\n",
    "pr_auc = auc(recall_values, precision_values)\n",
    "\n",
    "# 최종 성능 출력\n",
    "print(f\"\\nAccuracy (Tuned Model): {accuracy_selected:.4f}\")\n",
    "print(f\"Confusion Matrix (Tuned Model):\\n{conf_matrix_selected}\")\n",
    "print(f\"ROC AUC: {roc_auc:.4f}\")\n",
    "print(f\"Precision-Recall AUC: {pr_auc:.4f}\")\n"
   ]
  },
  {
   "cell_type": "code",
   "execution_count": 67,
   "metadata": {
    "colab": {
     "base_uri": "https://localhost:8080/",
     "height": 470
    },
    "id": "N6HFLBM0yEce",
    "outputId": "16f69b70-73e6-4c7b-adc1-ba4df922355e"
   },
   "outputs": [
    {
     "data": {
      "image/png": "[encoded data removed]",
      "text/plain": [
       "<Figure size 1200x600 with 2 Axes>"
      ]
     },
     "metadata": {},
     "output_type": "display_data"
    }
   ],
   "source": [
    "# Plot ROC and Precision-Recall Curves\n",
    "plt.figure(figsize=(12, 6))\n",
    "\n",
    "# ROC Curve\n",
    "plt.subplot(1, 2, 1)\n",
    "plt.plot(fpr, tpr, color='darkorange', lw=2, label=f'ROC curve (AUC = {roc_auc:.2f})')\n",
    "plt.plot([0, 1], [0, 1], color='navy', lw=2, linestyle='--')  # Diagonal reference line\n",
    "plt.xlabel('False Positive Rate')\n",
    "plt.ylabel('True Positive Rate')\n",
    "plt.title('Receiver Operating Characteristic (ROC)')\n",
    "plt.legend(loc=\"lower right\")\n",
    "\n",
    "# Precision-Recall Curve\n",
    "plt.subplot(1, 2, 2)\n",
    "plt.plot(recall_values, precision_values, color='blue', lw=2, label=f'Precision-Recall curve (AUC = {pr_auc:.2f})')\n",
    "plt.xlabel('Recall')\n",
    "plt.ylabel('Precision')\n",
    "plt.title('Precision-Recall Curve')\n",
    "plt.legend(loc=\"lower left\")\n",
    "\n",
    "# Adjust layout for better spacing\n",
    "plt.tight_layout()\n",
    "plt.show()"
   ]
  },
  {
   "cell_type": "markdown",
   "metadata": {
    "id": "S1cPpIEgdwb7"
   },
   "source": [
    "# 6. Evaluate the Tuned Model\n"
   ]
  },
  {
   "cell_type": "code",
   "execution_count": 68,
   "metadata": {
    "colab": {
     "base_uri": "https://localhost:8080/",
     "height": 207
    },
    "id": "AghmDdb7d1OP",
    "outputId": "a1a8f775-b717-4cfa-af68-2080b8481059"
   },
   "outputs": [
    {
     "name": "stdout",
     "output_type": "stream",
     "text": [
      "Accuracy (Tuned Model): 0.0116\n",
      "Confusion Matrix (Tuned Model):\n",
      "[[ 0  0  0 ...  0  0  0]\n",
      " [ 0  0  0 ...  0  0  0]\n",
      " [ 0  0  0 ...  0  0 48]\n",
      " ...\n",
      " [ 0  0  0 ...  0  0 44]\n",
      " [ 0  0  0 ...  0  0 47]\n",
      " [ 0  0  0 ...  0  0 55]]\n",
      "Precision: 0.0001\n",
      "Recall: 0.0105\n",
      "ROC AUC: 0.5000\n",
      "Precision-Recall AUC: 0.5049\n"
     ]
    },
    {
     "name": "stderr",
     "output_type": "stream",
     "text": [
      "/Users/minseokim/miniconda/lib/python3.12/site-packages/sklearn/base.py:486: UserWarning: X has feature names, but RandomForestClassifier was fitted without feature names\n",
      "  warnings.warn(\n",
      "/Users/minseokim/miniconda/lib/python3.12/site-packages/sklearn/metrics/_classification.py:1531: UndefinedMetricWarning: Precision is ill-defined and being set to 0.0 in labels with no predicted samples. Use `zero_division` parameter to control this behavior.\n",
      "  _warn_prf(average, modifier, f\"{metric.capitalize()} is\", len(result))\n",
      "/Users/minseokim/miniconda/lib/python3.12/site-packages/sklearn/base.py:486: UserWarning: X has feature names, but RandomForestClassifier was fitted without feature names\n",
      "  warnings.warn(\n",
      "/Users/minseokim/miniconda/lib/python3.12/site-packages/sklearn/base.py:486: UserWarning: X has feature names, but RandomForestClassifier was fitted without feature names\n",
      "  warnings.warn(\n"
     ]
    }
   ],
   "source": [
    "# Predict using the best model from GridSearchCV\n",
    "y_pred_random = best_rf_model.predict(X_test)\n",
    "\n",
    "# Evaluate model performance\n",
    "accuracy_best = accuracy_score(y_test, y_pred_random)\n",
    "conf_matrix_best = confusion_matrix(y_test, y_pred_random)\n",
    "\n",
    "# Compute precision and recall for positive class (assuming binary classification)\n",
    "precision = precision_score(y_test, y_pred_random, average='macro')  # 'macro' for multi-class\n",
    "recall = recall_score(y_test, y_pred_random, average='macro')  # 'macro' for multi-class\n",
    "\n",
    "# Calculate ROC and Precision-Recall AUC for binary classification\n",
    "fpr, tpr, _ = roc_curve(y_test, best_rf_model.predict_proba(X_test)[:, 1], pos_label=1)\n",
    "roc_auc = auc(fpr, tpr)\n",
    "\n",
    "precision_values, recall_values, _ = precision_recall_curve(y_test, best_rf_model.predict_proba(X_test)[:, 1], pos_label=1)\n",
    "pr_auc = auc(recall_values, precision_values)\n",
    "\n",
    "# Print metrics\n",
    "print(f\"Accuracy (Tuned Model): {accuracy_best:.4f}\")\n",
    "print(f\"Confusion Matrix (Tuned Model):\\n{conf_matrix_best}\")\n",
    "print(f\"Precision: {precision:.4f}\")\n",
    "print(f\"Recall: {recall:.4f}\")\n",
    "print(f\"ROC AUC: {roc_auc:.4f}\")\n",
    "print(f\"Precision-Recall AUC: {pr_auc:.4f}\")"
   ]
  },
  {
   "cell_type": "markdown",
   "metadata": {
    "id": "cVWgezlJgTQL"
   },
   "source": [
    "# 7. Visualize Results"
   ]
  },
  {
   "cell_type": "code",
   "execution_count": 69,
   "metadata": {
    "colab": {
     "base_uri": "https://localhost:8080/",
     "height": 224
    },
    "id": "54sXDeHBgXKb",
    "outputId": "11781135-4d8b-4cb7-d6f6-2e3c8d8772f3"
   },
   "outputs": [
    {
     "data": {
      "image/png": "[encoded data removed]",
      "text/plain": [
       "<Figure size 800x600 with 1 Axes>"
      ]
     },
     "metadata": {},
     "output_type": "display_data"
    },
    {
     "data": {
      "image/png": "[encoded data removed]",
      "text/plain": [
       "<Figure size 800x600 with 1 Axes>"
      ]
     },
     "metadata": {},
     "output_type": "display_data"
    }
   ],
   "source": [
    "plt.figure(figsize=(8, 6))\n",
    "plt.plot(fpr, tpr, marker='.', label=f\"ROC Curve (AUC = {roc_auc:.4f})\")\n",
    "plt.xlabel('False Positive Rate')\n",
    "plt.ylabel('True Positive Rate')\n",
    "plt.title('Receiver Operating Characteristic (ROC) Curve')\n",
    "plt.legend()\n",
    "plt.show()\n",
    "\n",
    "# Visualize Precision-Recall Curve\n",
    "plt.figure(figsize=(8, 6))\n",
    "plt.plot(recall_values, precision_values, marker='.', label=f\"Precision-Recall Curve (AUC = {pr_auc:.4f})\")\n",
    "plt.xlabel('Recall')\n",
    "plt.ylabel('Precision')\n",
    "plt.title('Precision-Recall Curve')\n",
    "plt.legend()\n",
    "plt.show()"
   ]
  },
  {
   "cell_type": "code",
   "execution_count": null,
   "metadata": {
    "id": "HatSTpeXgG7L"
   },
   "outputs": [],
   "source": []
  }
 ],
 "metadata": {
  "colab": {
   "provenance": []
  },
  "kernelspec": {
   "display_name": "base",
   "language": "python",
   "name": "python3"
  },
  "language_info": {
   "codemirror_mode": {
    "name": "ipython",
    "version": 3
   },
   "file_extension": ".py",
   "mimetype": "text/x-python",
   "name": "python",
   "nbconvert_exporter": "python",
   "pygments_lexer": "ipython3",
   "version": "3.12.1"
  }
 },
 "nbformat": 4,
 "nbformat_minor": 0
}
